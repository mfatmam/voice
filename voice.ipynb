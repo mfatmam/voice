{
  "nbformat": 4,
  "nbformat_minor": 0,
  "metadata": {
    "colab": {
      "provenance": [],
      "authorship_tag": "ABX9TyON1CRIEnei2tVUeT7iC3kR",
      "include_colab_link": true
    },
    "kernelspec": {
      "name": "python3",
      "display_name": "Python 3"
    },
    "language_info": {
      "name": "python"
    }
  },
  "cells": [
    {
      "cell_type": "markdown",
      "metadata": {
        "id": "view-in-github",
        "colab_type": "text"
      },
      "source": [
        "<a href=\"https://colab.research.google.com/github/mfatmam/voice/blob/main/voice.ipynb\" target=\"_parent\"><img src=\"https://colab.research.google.com/assets/colab-badge.svg\" alt=\"Open In Colab\"/></a>"
      ]
    },
    {
      "cell_type": "code",
      "execution_count": 1,
      "metadata": {
        "id": "LeqPJc4uqfWf"
      },
      "outputs": [],
      "source": [
        "import numpy as np\n",
        "import pandas as pd\n",
        "from matplotlib import pyplot as plt\n",
        "import seaborn as sns\n"
      ]
    },
    {
      "cell_type": "code",
      "source": [
        "df = pd.read_csv(\"/content/voice.csv\")\n"
      ],
      "metadata": {
        "id": "V5q1kQW3qw_q"
      },
      "execution_count": 3,
      "outputs": []
    },
    {
      "cell_type": "code",
      "source": [
        "df.head(20)\n"
      ],
      "metadata": {
        "colab": {
          "base_uri": "https://localhost:8080/",
          "height": 726
        },
        "id": "uUEkEH8LrKUa",
        "outputId": "5d3bacbd-14b3-4c19-9d76-41ffb609d855"
      },
      "execution_count": null,
      "outputs": [
        {
          "output_type": "execute_result",
          "data": {
            "text/plain": [
              "    meanfreq        sd    median       Q25       Q75       IQR       skew  \\\n",
              "0   0.059781  0.064241  0.032027  0.015071  0.090193  0.075122  12.863462   \n",
              "1   0.066009  0.067310  0.040229  0.019414  0.092666  0.073252  22.423285   \n",
              "2   0.077316  0.083829  0.036718  0.008701  0.131908  0.123207  30.757155   \n",
              "3   0.151228  0.072111  0.158011  0.096582  0.207955  0.111374   1.232831   \n",
              "4   0.135120  0.079146  0.124656  0.078720  0.206045  0.127325   1.101174   \n",
              "5   0.132786  0.079557  0.119090  0.067958  0.209592  0.141634   1.932562   \n",
              "6   0.150762  0.074463  0.160106  0.092899  0.205718  0.112819   1.530643   \n",
              "7   0.160514  0.076767  0.144337  0.110532  0.231962  0.121430   1.397156   \n",
              "8   0.142239  0.078018  0.138587  0.088206  0.208587  0.120381   1.099746   \n",
              "9   0.134329  0.080350  0.121451  0.075580  0.201957  0.126377   1.190368   \n",
              "10  0.157021  0.071943  0.168160  0.101430  0.216740  0.115310   0.979442   \n",
              "11  0.138551  0.077054  0.127527  0.087314  0.202739  0.115426   1.626770   \n",
              "12  0.137343  0.080877  0.124263  0.083145  0.209227  0.126082   1.378728   \n",
              "13  0.181225  0.060042  0.190953  0.128839  0.229532  0.100693   1.369430   \n",
              "14  0.183115  0.066982  0.191233  0.129149  0.240152  0.111004   3.568104   \n",
              "15  0.174272  0.069411  0.190874  0.115602  0.228279  0.112677   4.485038   \n",
              "16  0.190846  0.065790  0.207951  0.132280  0.244357  0.112076   1.562304   \n",
              "17  0.171247  0.074872  0.152807  0.122391  0.243617  0.121227   3.207170   \n",
              "18  0.168346  0.074121  0.145618  0.115756  0.239824  0.124068   2.704335   \n",
              "19  0.173631  0.073352  0.153569  0.123680  0.244234  0.120554   2.804975   \n",
              "\n",
              "           kurt    sp.ent       sfm  ...  centroid   meanfun    minfun  \\\n",
              "0    274.402906  0.893369  0.491918  ...  0.059781  0.084279  0.015702   \n",
              "1    634.613855  0.892193  0.513724  ...  0.066009  0.107937  0.015826   \n",
              "2   1024.927705  0.846389  0.478905  ...  0.077316  0.098706  0.015656   \n",
              "3      4.177296  0.963322  0.727232  ...  0.151228  0.088965  0.017798   \n",
              "4      4.333713  0.971955  0.783568  ...  0.135120  0.106398  0.016931   \n",
              "5      8.308895  0.963181  0.738307  ...  0.132786  0.110132  0.017112   \n",
              "6      5.987498  0.967573  0.762638  ...  0.150762  0.105945  0.026230   \n",
              "7      4.766611  0.959255  0.719858  ...  0.160514  0.093052  0.017758   \n",
              "8      4.070284  0.970723  0.770992  ...  0.142239  0.096729  0.017957   \n",
              "9      4.787310  0.975246  0.804505  ...  0.134329  0.105881  0.019300   \n",
              "10     3.974223  0.965249  0.733693  ...  0.157021  0.088894  0.022069   \n",
              "11     6.291365  0.966004  0.752042  ...  0.138551  0.104199  0.019139   \n",
              "12     5.008952  0.963514  0.736150  ...  0.137343  0.092644  0.016789   \n",
              "13     5.475600  0.937446  0.537080  ...  0.181225  0.131504  0.025000   \n",
              "14    35.384748  0.940333  0.571394  ...  0.183115  0.102799  0.020833   \n",
              "15    61.764908  0.950972  0.635199  ...  0.174272  0.102046  0.018328   \n",
              "16     7.834350  0.938546  0.538810  ...  0.190846  0.113323  0.017544   \n",
              "17    25.765565  0.936954  0.586420  ...  0.171247  0.079718  0.015671   \n",
              "18    18.484703  0.934523  0.559742  ...  0.168346  0.083484  0.015717   \n",
              "19    20.857543  0.930917  0.518269  ...  0.173631  0.090130  0.015702   \n",
              "\n",
              "      maxfun   meandom    mindom    maxdom   dfrange   modindx  label  \n",
              "0   0.275862  0.007812  0.007812  0.007812  0.000000  0.000000   male  \n",
              "1   0.250000  0.009014  0.007812  0.054688  0.046875  0.052632   male  \n",
              "2   0.271186  0.007990  0.007812  0.015625  0.007812  0.046512   male  \n",
              "3   0.250000  0.201497  0.007812  0.562500  0.554688  0.247119   male  \n",
              "4   0.266667  0.712812  0.007812  5.484375  5.476562  0.208274   male  \n",
              "5   0.253968  0.298222  0.007812  2.726562  2.718750  0.125160   male  \n",
              "6   0.266667  0.479620  0.007812  5.312500  5.304688  0.123992   male  \n",
              "7   0.144144  0.301339  0.007812  0.539062  0.531250  0.283937   male  \n",
              "8   0.250000  0.336476  0.007812  2.164062  2.156250  0.148272   male  \n",
              "9   0.262295  0.340365  0.015625  4.695312  4.679688  0.089920   male  \n",
              "10  0.117647  0.460227  0.007812  2.812500  2.804688  0.200000   male  \n",
              "11  0.262295  0.246094  0.007812  2.718750  2.710938  0.132351   male  \n",
              "12  0.213333  0.481671  0.015625  5.015625  5.000000  0.088500   male  \n",
              "13  0.275862  1.277114  0.007812  2.804688  2.796875  0.416550   male  \n",
              "14  0.275862  1.245739  0.203125  6.742188  6.539062  0.139332   male  \n",
              "15  0.246154  1.621299  0.007812  7.000000  6.992188  0.209311   male  \n",
              "16  0.275862  1.434115  0.007812  6.320312  6.312500  0.254780   male  \n",
              "17  0.262295  0.106279  0.007812  0.570312  0.562500  0.138355   male  \n",
              "18  0.231884  0.146563  0.007812  3.125000  3.117188  0.059537   male  \n",
              "19  0.210526  0.193044  0.007812  2.820312  2.812500  0.068124   male  \n",
              "\n",
              "[20 rows x 21 columns]"
            ],
            "text/html": [
              "\n",
              "  <div id=\"df-df758b49-c0f4-4549-b1ce-1268e51d686c\" class=\"colab-df-container\">\n",
              "    <div>\n",
              "<style scoped>\n",
              "    .dataframe tbody tr th:only-of-type {\n",
              "        vertical-align: middle;\n",
              "    }\n",
              "\n",
              "    .dataframe tbody tr th {\n",
              "        vertical-align: top;\n",
              "    }\n",
              "\n",
              "    .dataframe thead th {\n",
              "        text-align: right;\n",
              "    }\n",
              "</style>\n",
              "<table border=\"1\" class=\"dataframe\">\n",
              "  <thead>\n",
              "    <tr style=\"text-align: right;\">\n",
              "      <th></th>\n",
              "      <th>meanfreq</th>\n",
              "      <th>sd</th>\n",
              "      <th>median</th>\n",
              "      <th>Q25</th>\n",
              "      <th>Q75</th>\n",
              "      <th>IQR</th>\n",
              "      <th>skew</th>\n",
              "      <th>kurt</th>\n",
              "      <th>sp.ent</th>\n",
              "      <th>sfm</th>\n",
              "      <th>...</th>\n",
              "      <th>centroid</th>\n",
              "      <th>meanfun</th>\n",
              "      <th>minfun</th>\n",
              "      <th>maxfun</th>\n",
              "      <th>meandom</th>\n",
              "      <th>mindom</th>\n",
              "      <th>maxdom</th>\n",
              "      <th>dfrange</th>\n",
              "      <th>modindx</th>\n",
              "      <th>label</th>\n",
              "    </tr>\n",
              "  </thead>\n",
              "  <tbody>\n",
              "    <tr>\n",
              "      <th>0</th>\n",
              "      <td>0.059781</td>\n",
              "      <td>0.064241</td>\n",
              "      <td>0.032027</td>\n",
              "      <td>0.015071</td>\n",
              "      <td>0.090193</td>\n",
              "      <td>0.075122</td>\n",
              "      <td>12.863462</td>\n",
              "      <td>274.402906</td>\n",
              "      <td>0.893369</td>\n",
              "      <td>0.491918</td>\n",
              "      <td>...</td>\n",
              "      <td>0.059781</td>\n",
              "      <td>0.084279</td>\n",
              "      <td>0.015702</td>\n",
              "      <td>0.275862</td>\n",
              "      <td>0.007812</td>\n",
              "      <td>0.007812</td>\n",
              "      <td>0.007812</td>\n",
              "      <td>0.000000</td>\n",
              "      <td>0.000000</td>\n",
              "      <td>male</td>\n",
              "    </tr>\n",
              "    <tr>\n",
              "      <th>1</th>\n",
              "      <td>0.066009</td>\n",
              "      <td>0.067310</td>\n",
              "      <td>0.040229</td>\n",
              "      <td>0.019414</td>\n",
              "      <td>0.092666</td>\n",
              "      <td>0.073252</td>\n",
              "      <td>22.423285</td>\n",
              "      <td>634.613855</td>\n",
              "      <td>0.892193</td>\n",
              "      <td>0.513724</td>\n",
              "      <td>...</td>\n",
              "      <td>0.066009</td>\n",
              "      <td>0.107937</td>\n",
              "      <td>0.015826</td>\n",
              "      <td>0.250000</td>\n",
              "      <td>0.009014</td>\n",
              "      <td>0.007812</td>\n",
              "      <td>0.054688</td>\n",
              "      <td>0.046875</td>\n",
              "      <td>0.052632</td>\n",
              "      <td>male</td>\n",
              "    </tr>\n",
              "    <tr>\n",
              "      <th>2</th>\n",
              "      <td>0.077316</td>\n",
              "      <td>0.083829</td>\n",
              "      <td>0.036718</td>\n",
              "      <td>0.008701</td>\n",
              "      <td>0.131908</td>\n",
              "      <td>0.123207</td>\n",
              "      <td>30.757155</td>\n",
              "      <td>1024.927705</td>\n",
              "      <td>0.846389</td>\n",
              "      <td>0.478905</td>\n",
              "      <td>...</td>\n",
              "      <td>0.077316</td>\n",
              "      <td>0.098706</td>\n",
              "      <td>0.015656</td>\n",
              "      <td>0.271186</td>\n",
              "      <td>0.007990</td>\n",
              "      <td>0.007812</td>\n",
              "      <td>0.015625</td>\n",
              "      <td>0.007812</td>\n",
              "      <td>0.046512</td>\n",
              "      <td>male</td>\n",
              "    </tr>\n",
              "    <tr>\n",
              "      <th>3</th>\n",
              "      <td>0.151228</td>\n",
              "      <td>0.072111</td>\n",
              "      <td>0.158011</td>\n",
              "      <td>0.096582</td>\n",
              "      <td>0.207955</td>\n",
              "      <td>0.111374</td>\n",
              "      <td>1.232831</td>\n",
              "      <td>4.177296</td>\n",
              "      <td>0.963322</td>\n",
              "      <td>0.727232</td>\n",
              "      <td>...</td>\n",
              "      <td>0.151228</td>\n",
              "      <td>0.088965</td>\n",
              "      <td>0.017798</td>\n",
              "      <td>0.250000</td>\n",
              "      <td>0.201497</td>\n",
              "      <td>0.007812</td>\n",
              "      <td>0.562500</td>\n",
              "      <td>0.554688</td>\n",
              "      <td>0.247119</td>\n",
              "      <td>male</td>\n",
              "    </tr>\n",
              "    <tr>\n",
              "      <th>4</th>\n",
              "      <td>0.135120</td>\n",
              "      <td>0.079146</td>\n",
              "      <td>0.124656</td>\n",
              "      <td>0.078720</td>\n",
              "      <td>0.206045</td>\n",
              "      <td>0.127325</td>\n",
              "      <td>1.101174</td>\n",
              "      <td>4.333713</td>\n",
              "      <td>0.971955</td>\n",
              "      <td>0.783568</td>\n",
              "      <td>...</td>\n",
              "      <td>0.135120</td>\n",
              "      <td>0.106398</td>\n",
              "      <td>0.016931</td>\n",
              "      <td>0.266667</td>\n",
              "      <td>0.712812</td>\n",
              "      <td>0.007812</td>\n",
              "      <td>5.484375</td>\n",
              "      <td>5.476562</td>\n",
              "      <td>0.208274</td>\n",
              "      <td>male</td>\n",
              "    </tr>\n",
              "    <tr>\n",
              "      <th>5</th>\n",
              "      <td>0.132786</td>\n",
              "      <td>0.079557</td>\n",
              "      <td>0.119090</td>\n",
              "      <td>0.067958</td>\n",
              "      <td>0.209592</td>\n",
              "      <td>0.141634</td>\n",
              "      <td>1.932562</td>\n",
              "      <td>8.308895</td>\n",
              "      <td>0.963181</td>\n",
              "      <td>0.738307</td>\n",
              "      <td>...</td>\n",
              "      <td>0.132786</td>\n",
              "      <td>0.110132</td>\n",
              "      <td>0.017112</td>\n",
              "      <td>0.253968</td>\n",
              "      <td>0.298222</td>\n",
              "      <td>0.007812</td>\n",
              "      <td>2.726562</td>\n",
              "      <td>2.718750</td>\n",
              "      <td>0.125160</td>\n",
              "      <td>male</td>\n",
              "    </tr>\n",
              "    <tr>\n",
              "      <th>6</th>\n",
              "      <td>0.150762</td>\n",
              "      <td>0.074463</td>\n",
              "      <td>0.160106</td>\n",
              "      <td>0.092899</td>\n",
              "      <td>0.205718</td>\n",
              "      <td>0.112819</td>\n",
              "      <td>1.530643</td>\n",
              "      <td>5.987498</td>\n",
              "      <td>0.967573</td>\n",
              "      <td>0.762638</td>\n",
              "      <td>...</td>\n",
              "      <td>0.150762</td>\n",
              "      <td>0.105945</td>\n",
              "      <td>0.026230</td>\n",
              "      <td>0.266667</td>\n",
              "      <td>0.479620</td>\n",
              "      <td>0.007812</td>\n",
              "      <td>5.312500</td>\n",
              "      <td>5.304688</td>\n",
              "      <td>0.123992</td>\n",
              "      <td>male</td>\n",
              "    </tr>\n",
              "    <tr>\n",
              "      <th>7</th>\n",
              "      <td>0.160514</td>\n",
              "      <td>0.076767</td>\n",
              "      <td>0.144337</td>\n",
              "      <td>0.110532</td>\n",
              "      <td>0.231962</td>\n",
              "      <td>0.121430</td>\n",
              "      <td>1.397156</td>\n",
              "      <td>4.766611</td>\n",
              "      <td>0.959255</td>\n",
              "      <td>0.719858</td>\n",
              "      <td>...</td>\n",
              "      <td>0.160514</td>\n",
              "      <td>0.093052</td>\n",
              "      <td>0.017758</td>\n",
              "      <td>0.144144</td>\n",
              "      <td>0.301339</td>\n",
              "      <td>0.007812</td>\n",
              "      <td>0.539062</td>\n",
              "      <td>0.531250</td>\n",
              "      <td>0.283937</td>\n",
              "      <td>male</td>\n",
              "    </tr>\n",
              "    <tr>\n",
              "      <th>8</th>\n",
              "      <td>0.142239</td>\n",
              "      <td>0.078018</td>\n",
              "      <td>0.138587</td>\n",
              "      <td>0.088206</td>\n",
              "      <td>0.208587</td>\n",
              "      <td>0.120381</td>\n",
              "      <td>1.099746</td>\n",
              "      <td>4.070284</td>\n",
              "      <td>0.970723</td>\n",
              "      <td>0.770992</td>\n",
              "      <td>...</td>\n",
              "      <td>0.142239</td>\n",
              "      <td>0.096729</td>\n",
              "      <td>0.017957</td>\n",
              "      <td>0.250000</td>\n",
              "      <td>0.336476</td>\n",
              "      <td>0.007812</td>\n",
              "      <td>2.164062</td>\n",
              "      <td>2.156250</td>\n",
              "      <td>0.148272</td>\n",
              "      <td>male</td>\n",
              "    </tr>\n",
              "    <tr>\n",
              "      <th>9</th>\n",
              "      <td>0.134329</td>\n",
              "      <td>0.080350</td>\n",
              "      <td>0.121451</td>\n",
              "      <td>0.075580</td>\n",
              "      <td>0.201957</td>\n",
              "      <td>0.126377</td>\n",
              "      <td>1.190368</td>\n",
              "      <td>4.787310</td>\n",
              "      <td>0.975246</td>\n",
              "      <td>0.804505</td>\n",
              "      <td>...</td>\n",
              "      <td>0.134329</td>\n",
              "      <td>0.105881</td>\n",
              "      <td>0.019300</td>\n",
              "      <td>0.262295</td>\n",
              "      <td>0.340365</td>\n",
              "      <td>0.015625</td>\n",
              "      <td>4.695312</td>\n",
              "      <td>4.679688</td>\n",
              "      <td>0.089920</td>\n",
              "      <td>male</td>\n",
              "    </tr>\n",
              "    <tr>\n",
              "      <th>10</th>\n",
              "      <td>0.157021</td>\n",
              "      <td>0.071943</td>\n",
              "      <td>0.168160</td>\n",
              "      <td>0.101430</td>\n",
              "      <td>0.216740</td>\n",
              "      <td>0.115310</td>\n",
              "      <td>0.979442</td>\n",
              "      <td>3.974223</td>\n",
              "      <td>0.965249</td>\n",
              "      <td>0.733693</td>\n",
              "      <td>...</td>\n",
              "      <td>0.157021</td>\n",
              "      <td>0.088894</td>\n",
              "      <td>0.022069</td>\n",
              "      <td>0.117647</td>\n",
              "      <td>0.460227</td>\n",
              "      <td>0.007812</td>\n",
              "      <td>2.812500</td>\n",
              "      <td>2.804688</td>\n",
              "      <td>0.200000</td>\n",
              "      <td>male</td>\n",
              "    </tr>\n",
              "    <tr>\n",
              "      <th>11</th>\n",
              "      <td>0.138551</td>\n",
              "      <td>0.077054</td>\n",
              "      <td>0.127527</td>\n",
              "      <td>0.087314</td>\n",
              "      <td>0.202739</td>\n",
              "      <td>0.115426</td>\n",
              "      <td>1.626770</td>\n",
              "      <td>6.291365</td>\n",
              "      <td>0.966004</td>\n",
              "      <td>0.752042</td>\n",
              "      <td>...</td>\n",
              "      <td>0.138551</td>\n",
              "      <td>0.104199</td>\n",
              "      <td>0.019139</td>\n",
              "      <td>0.262295</td>\n",
              "      <td>0.246094</td>\n",
              "      <td>0.007812</td>\n",
              "      <td>2.718750</td>\n",
              "      <td>2.710938</td>\n",
              "      <td>0.132351</td>\n",
              "      <td>male</td>\n",
              "    </tr>\n",
              "    <tr>\n",
              "      <th>12</th>\n",
              "      <td>0.137343</td>\n",
              "      <td>0.080877</td>\n",
              "      <td>0.124263</td>\n",
              "      <td>0.083145</td>\n",
              "      <td>0.209227</td>\n",
              "      <td>0.126082</td>\n",
              "      <td>1.378728</td>\n",
              "      <td>5.008952</td>\n",
              "      <td>0.963514</td>\n",
              "      <td>0.736150</td>\n",
              "      <td>...</td>\n",
              "      <td>0.137343</td>\n",
              "      <td>0.092644</td>\n",
              "      <td>0.016789</td>\n",
              "      <td>0.213333</td>\n",
              "      <td>0.481671</td>\n",
              "      <td>0.015625</td>\n",
              "      <td>5.015625</td>\n",
              "      <td>5.000000</td>\n",
              "      <td>0.088500</td>\n",
              "      <td>male</td>\n",
              "    </tr>\n",
              "    <tr>\n",
              "      <th>13</th>\n",
              "      <td>0.181225</td>\n",
              "      <td>0.060042</td>\n",
              "      <td>0.190953</td>\n",
              "      <td>0.128839</td>\n",
              "      <td>0.229532</td>\n",
              "      <td>0.100693</td>\n",
              "      <td>1.369430</td>\n",
              "      <td>5.475600</td>\n",
              "      <td>0.937446</td>\n",
              "      <td>0.537080</td>\n",
              "      <td>...</td>\n",
              "      <td>0.181225</td>\n",
              "      <td>0.131504</td>\n",
              "      <td>0.025000</td>\n",
              "      <td>0.275862</td>\n",
              "      <td>1.277114</td>\n",
              "      <td>0.007812</td>\n",
              "      <td>2.804688</td>\n",
              "      <td>2.796875</td>\n",
              "      <td>0.416550</td>\n",
              "      <td>male</td>\n",
              "    </tr>\n",
              "    <tr>\n",
              "      <th>14</th>\n",
              "      <td>0.183115</td>\n",
              "      <td>0.066982</td>\n",
              "      <td>0.191233</td>\n",
              "      <td>0.129149</td>\n",
              "      <td>0.240152</td>\n",
              "      <td>0.111004</td>\n",
              "      <td>3.568104</td>\n",
              "      <td>35.384748</td>\n",
              "      <td>0.940333</td>\n",
              "      <td>0.571394</td>\n",
              "      <td>...</td>\n",
              "      <td>0.183115</td>\n",
              "      <td>0.102799</td>\n",
              "      <td>0.020833</td>\n",
              "      <td>0.275862</td>\n",
              "      <td>1.245739</td>\n",
              "      <td>0.203125</td>\n",
              "      <td>6.742188</td>\n",
              "      <td>6.539062</td>\n",
              "      <td>0.139332</td>\n",
              "      <td>male</td>\n",
              "    </tr>\n",
              "    <tr>\n",
              "      <th>15</th>\n",
              "      <td>0.174272</td>\n",
              "      <td>0.069411</td>\n",
              "      <td>0.190874</td>\n",
              "      <td>0.115602</td>\n",
              "      <td>0.228279</td>\n",
              "      <td>0.112677</td>\n",
              "      <td>4.485038</td>\n",
              "      <td>61.764908</td>\n",
              "      <td>0.950972</td>\n",
              "      <td>0.635199</td>\n",
              "      <td>...</td>\n",
              "      <td>0.174272</td>\n",
              "      <td>0.102046</td>\n",
              "      <td>0.018328</td>\n",
              "      <td>0.246154</td>\n",
              "      <td>1.621299</td>\n",
              "      <td>0.007812</td>\n",
              "      <td>7.000000</td>\n",
              "      <td>6.992188</td>\n",
              "      <td>0.209311</td>\n",
              "      <td>male</td>\n",
              "    </tr>\n",
              "    <tr>\n",
              "      <th>16</th>\n",
              "      <td>0.190846</td>\n",
              "      <td>0.065790</td>\n",
              "      <td>0.207951</td>\n",
              "      <td>0.132280</td>\n",
              "      <td>0.244357</td>\n",
              "      <td>0.112076</td>\n",
              "      <td>1.562304</td>\n",
              "      <td>7.834350</td>\n",
              "      <td>0.938546</td>\n",
              "      <td>0.538810</td>\n",
              "      <td>...</td>\n",
              "      <td>0.190846</td>\n",
              "      <td>0.113323</td>\n",
              "      <td>0.017544</td>\n",
              "      <td>0.275862</td>\n",
              "      <td>1.434115</td>\n",
              "      <td>0.007812</td>\n",
              "      <td>6.320312</td>\n",
              "      <td>6.312500</td>\n",
              "      <td>0.254780</td>\n",
              "      <td>male</td>\n",
              "    </tr>\n",
              "    <tr>\n",
              "      <th>17</th>\n",
              "      <td>0.171247</td>\n",
              "      <td>0.074872</td>\n",
              "      <td>0.152807</td>\n",
              "      <td>0.122391</td>\n",
              "      <td>0.243617</td>\n",
              "      <td>0.121227</td>\n",
              "      <td>3.207170</td>\n",
              "      <td>25.765565</td>\n",
              "      <td>0.936954</td>\n",
              "      <td>0.586420</td>\n",
              "      <td>...</td>\n",
              "      <td>0.171247</td>\n",
              "      <td>0.079718</td>\n",
              "      <td>0.015671</td>\n",
              "      <td>0.262295</td>\n",
              "      <td>0.106279</td>\n",
              "      <td>0.007812</td>\n",
              "      <td>0.570312</td>\n",
              "      <td>0.562500</td>\n",
              "      <td>0.138355</td>\n",
              "      <td>male</td>\n",
              "    </tr>\n",
              "    <tr>\n",
              "      <th>18</th>\n",
              "      <td>0.168346</td>\n",
              "      <td>0.074121</td>\n",
              "      <td>0.145618</td>\n",
              "      <td>0.115756</td>\n",
              "      <td>0.239824</td>\n",
              "      <td>0.124068</td>\n",
              "      <td>2.704335</td>\n",
              "      <td>18.484703</td>\n",
              "      <td>0.934523</td>\n",
              "      <td>0.559742</td>\n",
              "      <td>...</td>\n",
              "      <td>0.168346</td>\n",
              "      <td>0.083484</td>\n",
              "      <td>0.015717</td>\n",
              "      <td>0.231884</td>\n",
              "      <td>0.146563</td>\n",
              "      <td>0.007812</td>\n",
              "      <td>3.125000</td>\n",
              "      <td>3.117188</td>\n",
              "      <td>0.059537</td>\n",
              "      <td>male</td>\n",
              "    </tr>\n",
              "    <tr>\n",
              "      <th>19</th>\n",
              "      <td>0.173631</td>\n",
              "      <td>0.073352</td>\n",
              "      <td>0.153569</td>\n",
              "      <td>0.123680</td>\n",
              "      <td>0.244234</td>\n",
              "      <td>0.120554</td>\n",
              "      <td>2.804975</td>\n",
              "      <td>20.857543</td>\n",
              "      <td>0.930917</td>\n",
              "      <td>0.518269</td>\n",
              "      <td>...</td>\n",
              "      <td>0.173631</td>\n",
              "      <td>0.090130</td>\n",
              "      <td>0.015702</td>\n",
              "      <td>0.210526</td>\n",
              "      <td>0.193044</td>\n",
              "      <td>0.007812</td>\n",
              "      <td>2.820312</td>\n",
              "      <td>2.812500</td>\n",
              "      <td>0.068124</td>\n",
              "      <td>male</td>\n",
              "    </tr>\n",
              "  </tbody>\n",
              "</table>\n",
              "<p>20 rows × 21 columns</p>\n",
              "</div>\n",
              "    <div class=\"colab-df-buttons\">\n",
              "\n",
              "  <div class=\"colab-df-container\">\n",
              "    <button class=\"colab-df-convert\" onclick=\"convertToInteractive('df-df758b49-c0f4-4549-b1ce-1268e51d686c')\"\n",
              "            title=\"Convert this dataframe to an interactive table.\"\n",
              "            style=\"display:none;\">\n",
              "\n",
              "  <svg xmlns=\"http://www.w3.org/2000/svg\" height=\"24px\" viewBox=\"0 -960 960 960\">\n",
              "    <path d=\"M120-120v-720h720v720H120Zm60-500h600v-160H180v160Zm220 220h160v-160H400v160Zm0 220h160v-160H400v160ZM180-400h160v-160H180v160Zm440 0h160v-160H620v160ZM180-180h160v-160H180v160Zm440 0h160v-160H620v160Z\"/>\n",
              "  </svg>\n",
              "    </button>\n",
              "\n",
              "  <style>\n",
              "    .colab-df-container {\n",
              "      display:flex;\n",
              "      gap: 12px;\n",
              "    }\n",
              "\n",
              "    .colab-df-convert {\n",
              "      background-color: #E8F0FE;\n",
              "      border: none;\n",
              "      border-radius: 50%;\n",
              "      cursor: pointer;\n",
              "      display: none;\n",
              "      fill: #1967D2;\n",
              "      height: 32px;\n",
              "      padding: 0 0 0 0;\n",
              "      width: 32px;\n",
              "    }\n",
              "\n",
              "    .colab-df-convert:hover {\n",
              "      background-color: #E2EBFA;\n",
              "      box-shadow: 0px 1px 2px rgba(60, 64, 67, 0.3), 0px 1px 3px 1px rgba(60, 64, 67, 0.15);\n",
              "      fill: #174EA6;\n",
              "    }\n",
              "\n",
              "    .colab-df-buttons div {\n",
              "      margin-bottom: 4px;\n",
              "    }\n",
              "\n",
              "    [theme=dark] .colab-df-convert {\n",
              "      background-color: #3B4455;\n",
              "      fill: #D2E3FC;\n",
              "    }\n",
              "\n",
              "    [theme=dark] .colab-df-convert:hover {\n",
              "      background-color: #434B5C;\n",
              "      box-shadow: 0px 1px 3px 1px rgba(0, 0, 0, 0.15);\n",
              "      filter: drop-shadow(0px 1px 2px rgba(0, 0, 0, 0.3));\n",
              "      fill: #FFFFFF;\n",
              "    }\n",
              "  </style>\n",
              "\n",
              "    <script>\n",
              "      const buttonEl =\n",
              "        document.querySelector('#df-df758b49-c0f4-4549-b1ce-1268e51d686c button.colab-df-convert');\n",
              "      buttonEl.style.display =\n",
              "        google.colab.kernel.accessAllowed ? 'block' : 'none';\n",
              "\n",
              "      async function convertToInteractive(key) {\n",
              "        const element = document.querySelector('#df-df758b49-c0f4-4549-b1ce-1268e51d686c');\n",
              "        const dataTable =\n",
              "          await google.colab.kernel.invokeFunction('convertToInteractive',\n",
              "                                                    [key], {});\n",
              "        if (!dataTable) return;\n",
              "\n",
              "        const docLinkHtml = 'Like what you see? Visit the ' +\n",
              "          '<a target=\"_blank\" href=https://colab.research.google.com/notebooks/data_table.ipynb>data table notebook</a>'\n",
              "          + ' to learn more about interactive tables.';\n",
              "        element.innerHTML = '';\n",
              "        dataTable['output_type'] = 'display_data';\n",
              "        await google.colab.output.renderOutput(dataTable, element);\n",
              "        const docLink = document.createElement('div');\n",
              "        docLink.innerHTML = docLinkHtml;\n",
              "        element.appendChild(docLink);\n",
              "      }\n",
              "    </script>\n",
              "  </div>\n",
              "\n",
              "\n",
              "<div id=\"df-0dd351c4-8dd1-477b-87a0-efc069f941b6\">\n",
              "  <button class=\"colab-df-quickchart\" onclick=\"quickchart('df-0dd351c4-8dd1-477b-87a0-efc069f941b6')\"\n",
              "            title=\"Suggest charts\"\n",
              "            style=\"display:none;\">\n",
              "\n",
              "<svg xmlns=\"http://www.w3.org/2000/svg\" height=\"24px\"viewBox=\"0 0 24 24\"\n",
              "     width=\"24px\">\n",
              "    <g>\n",
              "        <path d=\"M19 3H5c-1.1 0-2 .9-2 2v14c0 1.1.9 2 2 2h14c1.1 0 2-.9 2-2V5c0-1.1-.9-2-2-2zM9 17H7v-7h2v7zm4 0h-2V7h2v10zm4 0h-2v-4h2v4z\"/>\n",
              "    </g>\n",
              "</svg>\n",
              "  </button>\n",
              "\n",
              "<style>\n",
              "  .colab-df-quickchart {\n",
              "      --bg-color: #E8F0FE;\n",
              "      --fill-color: #1967D2;\n",
              "      --hover-bg-color: #E2EBFA;\n",
              "      --hover-fill-color: #174EA6;\n",
              "      --disabled-fill-color: #AAA;\n",
              "      --disabled-bg-color: #DDD;\n",
              "  }\n",
              "\n",
              "  [theme=dark] .colab-df-quickchart {\n",
              "      --bg-color: #3B4455;\n",
              "      --fill-color: #D2E3FC;\n",
              "      --hover-bg-color: #434B5C;\n",
              "      --hover-fill-color: #FFFFFF;\n",
              "      --disabled-bg-color: #3B4455;\n",
              "      --disabled-fill-color: #666;\n",
              "  }\n",
              "\n",
              "  .colab-df-quickchart {\n",
              "    background-color: var(--bg-color);\n",
              "    border: none;\n",
              "    border-radius: 50%;\n",
              "    cursor: pointer;\n",
              "    display: none;\n",
              "    fill: var(--fill-color);\n",
              "    height: 32px;\n",
              "    padding: 0;\n",
              "    width: 32px;\n",
              "  }\n",
              "\n",
              "  .colab-df-quickchart:hover {\n",
              "    background-color: var(--hover-bg-color);\n",
              "    box-shadow: 0 1px 2px rgba(60, 64, 67, 0.3), 0 1px 3px 1px rgba(60, 64, 67, 0.15);\n",
              "    fill: var(--button-hover-fill-color);\n",
              "  }\n",
              "\n",
              "  .colab-df-quickchart-complete:disabled,\n",
              "  .colab-df-quickchart-complete:disabled:hover {\n",
              "    background-color: var(--disabled-bg-color);\n",
              "    fill: var(--disabled-fill-color);\n",
              "    box-shadow: none;\n",
              "  }\n",
              "\n",
              "  .colab-df-spinner {\n",
              "    border: 2px solid var(--fill-color);\n",
              "    border-color: transparent;\n",
              "    border-bottom-color: var(--fill-color);\n",
              "    animation:\n",
              "      spin 1s steps(1) infinite;\n",
              "  }\n",
              "\n",
              "  @keyframes spin {\n",
              "    0% {\n",
              "      border-color: transparent;\n",
              "      border-bottom-color: var(--fill-color);\n",
              "      border-left-color: var(--fill-color);\n",
              "    }\n",
              "    20% {\n",
              "      border-color: transparent;\n",
              "      border-left-color: var(--fill-color);\n",
              "      border-top-color: var(--fill-color);\n",
              "    }\n",
              "    30% {\n",
              "      border-color: transparent;\n",
              "      border-left-color: var(--fill-color);\n",
              "      border-top-color: var(--fill-color);\n",
              "      border-right-color: var(--fill-color);\n",
              "    }\n",
              "    40% {\n",
              "      border-color: transparent;\n",
              "      border-right-color: var(--fill-color);\n",
              "      border-top-color: var(--fill-color);\n",
              "    }\n",
              "    60% {\n",
              "      border-color: transparent;\n",
              "      border-right-color: var(--fill-color);\n",
              "    }\n",
              "    80% {\n",
              "      border-color: transparent;\n",
              "      border-right-color: var(--fill-color);\n",
              "      border-bottom-color: var(--fill-color);\n",
              "    }\n",
              "    90% {\n",
              "      border-color: transparent;\n",
              "      border-bottom-color: var(--fill-color);\n",
              "    }\n",
              "  }\n",
              "</style>\n",
              "\n",
              "  <script>\n",
              "    async function quickchart(key) {\n",
              "      const quickchartButtonEl =\n",
              "        document.querySelector('#' + key + ' button');\n",
              "      quickchartButtonEl.disabled = true;  // To prevent multiple clicks.\n",
              "      quickchartButtonEl.classList.add('colab-df-spinner');\n",
              "      try {\n",
              "        const charts = await google.colab.kernel.invokeFunction(\n",
              "            'suggestCharts', [key], {});\n",
              "      } catch (error) {\n",
              "        console.error('Error during call to suggestCharts:', error);\n",
              "      }\n",
              "      quickchartButtonEl.classList.remove('colab-df-spinner');\n",
              "      quickchartButtonEl.classList.add('colab-df-quickchart-complete');\n",
              "    }\n",
              "    (() => {\n",
              "      let quickchartButtonEl =\n",
              "        document.querySelector('#df-0dd351c4-8dd1-477b-87a0-efc069f941b6 button');\n",
              "      quickchartButtonEl.style.display =\n",
              "        google.colab.kernel.accessAllowed ? 'block' : 'none';\n",
              "    })();\n",
              "  </script>\n",
              "</div>\n",
              "\n",
              "    </div>\n",
              "  </div>\n"
            ],
            "application/vnd.google.colaboratory.intrinsic+json": {
              "type": "dataframe",
              "variable_name": "df"
            }
          },
          "metadata": {},
          "execution_count": 3
        }
      ]
    },
    {
      "cell_type": "code",
      "source": [
        "import matplotlib.pyplot as plt\n",
        "import pandas as pd\n",
        "\n",
        "# Charger votre ensemble de données\n",
        "# Supposons que vous avez un fichier CSV nommé \"donnees.csv\"\n",
        "donnees = pd.read_csv(\"voice.csv\")\n",
        "\n",
        "# Spécifier la colonne sur laquelle vous souhaitez créer l'histogramme\n",
        "colonne = \"meanfreq\"\n",
        "\n",
        "# Créer l'histogramme\n",
        "plt.hist(donnees[colonne], bins=10)  # Vous pouvez ajuster le nombre de bacs (bins) selon vos besoins\n",
        "plt.xlabel(\"Valeurs\")\n",
        "plt.ylabel(\"Fréquence\")\n",
        "plt.title(\"Histogramme de la colonne '{}'\".format(colonne))\n",
        "plt.grid(True)\n",
        "plt.show()\n"
      ],
      "metadata": {
        "colab": {
          "base_uri": "https://localhost:8080/",
          "height": 472
        },
        "id": "x4jxVecRhJ3I",
        "outputId": "c6535e8b-31be-4bcc-e96b-3907b8f1dc2e"
      },
      "execution_count": null,
      "outputs": [
        {
          "output_type": "display_data",
          "data": {
            "text/plain": [
              "<Figure size 640x480 with 1 Axes>"
            ],
            "image/png": "[encoded data removed]"
          },
          "metadata": {}
        }
      ]
    },
    {
      "cell_type": "code",
      "source": [
        "import matplotlib.pyplot as plt\n",
        "import pandas as pd\n",
        "\n",
        "# Charger votre ensemble de données\n",
        "# Supposons que vous avez un fichier CSV nommé \"donnees.csv\"\n",
        "donnees = pd.read_csv(\"voice.csv\")\n",
        "\n",
        "# Spécifier la colonne sur laquelle vous souhaitez créer l'histogramme\n",
        "colonne = \"Q25\"\n",
        "\n",
        "# Créer l'histogramme\n",
        "plt.hist(donnees[colonne], bins=10)  # Vous pouvez ajuster le nombre de bacs (bins) selon vos besoins\n",
        "plt.xlabel(\"Valeurs\")\n",
        "plt.ylabel(\"Fréquence\")\n",
        "plt.title(\"Histogramme de la colonne '{}'\".format(colonne))\n",
        "plt.grid(True)\n",
        "plt.show()\n"
      ],
      "metadata": {
        "colab": {
          "base_uri": "https://localhost:8080/",
          "height": 472
        },
        "id": "XednROOFhaCj",
        "outputId": "334a4206-c474-4fd9-e880-8e516ead6970"
      },
      "execution_count": null,
      "outputs": [
        {
          "output_type": "display_data",
          "data": {
            "text/plain": [
              "<Figure size 640x480 with 1 Axes>"
            ],
            "image/png": "[encoded data removed]"
          },
          "metadata": {}
        }
      ]
    },
    {
      "cell_type": "code",
      "source": [
        "import matplotlib.pyplot as plt\n",
        "import pandas as pd\n",
        "\n",
        "# Charger votre ensemble de données\n",
        "# Supposons que vous avez un fichier CSV nommé \"donnees.csv\"\n",
        "donnees = pd.read_csv(\"voice.csv\")\n",
        "\n",
        "# Spécifier la colonne sur laquelle vous souhaitez créer l'histogramme\n",
        "colonne = \"meanfreq\"\n",
        "\n",
        "# Créer l'histogramme\n",
        "plt.hist(donnees[colonne], bins=10)  # Vous pouvez ajuster le nombre de bacs (bins) selon vos besoins\n",
        "plt.xlabel(\"Valeurs\")\n",
        "plt.ylabel(\"Fréquence\")\n",
        "plt.title(\"Histogramme de la colonne '{}'\".format(colonne))\n",
        "plt.grid(True)\n",
        "plt.show()\n"
      ],
      "metadata": {
        "id": "nZ_ffq7JhuT-"
      },
      "execution_count": null,
      "outputs": []
    },
    {
      "cell_type": "code",
      "source": [
        "import matplotlib.pyplot as plt\n",
        "import pandas as pd\n",
        "\n",
        "# Charger votre ensemble de données\n",
        "# Supposons que vous avez un fichier CSV nommé \"donnees.csv\"\n",
        "donnees = pd.read_csv(\"voice.csv\")\n",
        "\n",
        "# Spécifier la colonne sur laquelle vous souhaitez créer l'histogramme\n",
        "colonne = \"median\"\n",
        "\n",
        "# Créer l'histogramme\n",
        "plt.hist(donnees[colonne], bins=10)  # Vous pouvez ajuster le nombre de bacs (bins) selon vos besoins\n",
        "plt.xlabel(\"Valeurs\")\n",
        "plt.ylabel(\"Fréquence\")\n",
        "plt.title(\"Histogramme de la colonne '{}'\".format(colonne))\n",
        "plt.grid(True)\n",
        "plt.show()\n"
      ],
      "metadata": {
        "colab": {
          "base_uri": "https://localhost:8080/",
          "height": 472
        },
        "id": "0r_1UG-QhiaR",
        "outputId": "d9b0a594-5050-436b-d384-2b7c552869aa"
      },
      "execution_count": null,
      "outputs": [
        {
          "output_type": "display_data",
          "data": {
            "text/plain": [
              "<Figure size 640x480 with 1 Axes>"
            ],
            "image/png": "[encoded data removed]"
          },
          "metadata": {}
        }
      ]
    },
    {
      "cell_type": "code",
      "source": [
        "import matplotlib.pyplot as plt\n",
        "import pandas as pd\n",
        "\n",
        "# Charger votre ensemble de données\n",
        "# Supposons que vous avez un fichier CSV nommé \"donnees.csv\"\n",
        "donnees = pd.read_csv(\"voice.csv\")\n",
        "\n",
        "# Spécifier la colonne sur laquelle vous souhaitez créer l'histogramme\n",
        "colonne = \"Q75\"\n",
        "\n",
        "# Créer l'histogramme\n",
        "plt.hist(donnees[colonne], bins=10)  # Vous pouvez ajuster le nombre de bacs (bins) selon vos besoins\n",
        "plt.xlabel(\"Valeurs\")\n",
        "plt.ylabel(\"Fréquence\")\n",
        "plt.title(\"Histogramme de la colonne '{}'\".format(colonne))\n",
        "plt.grid(True)\n",
        "plt.show()\n"
      ],
      "metadata": {
        "colab": {
          "base_uri": "https://localhost:8080/",
          "height": 472
        },
        "id": "MVPxjpD3hoZv",
        "outputId": "930fe5d6-00c7-4aae-ea7e-47ef46665f16"
      },
      "execution_count": null,
      "outputs": [
        {
          "output_type": "display_data",
          "data": {
            "text/plain": [
              "<Figure size 640x480 with 1 Axes>"
            ],
            "image/png": "[encoded data removed]"
          },
          "metadata": {}
        }
      ]
    },
    {
      "cell_type": "code",
      "source": [
        "import matplotlib.pyplot as plt\n",
        "import pandas as pd\n",
        "\n",
        "# Charger votre ensemble de données\n",
        "# Supposons que vous avez un fichier CSV nommé \"donnees.csv\"\n",
        "donnees = pd.read_csv(\"voice.csv\")\n",
        "\n",
        "# Spécifier la colonne sur laquelle vous souhaitez créer l'histogramme\n",
        "colonne = \"IQR\"\n",
        "\n",
        "# Créer l'histogramme\n",
        "plt.hist(donnees[colonne], bins=10)  # Vous pouvez ajuster le nombre de bacs (bins) selon vos besoins\n",
        "plt.xlabel(\"Valeurs\")\n",
        "plt.ylabel(\"Fréquence\")\n",
        "plt.title(\"Histogramme de la colonne '{}'\".format(colonne))\n",
        "plt.grid(True)\n",
        "plt.show()\n"
      ],
      "metadata": {
        "colab": {
          "base_uri": "https://localhost:8080/",
          "height": 472
        },
        "id": "0pqqyelah47f",
        "outputId": "866ae091-9ebe-4144-f0fb-afd15ed7398e"
      },
      "execution_count": null,
      "outputs": [
        {
          "output_type": "display_data",
          "data": {
            "text/plain": [
              "<Figure size 640x480 with 1 Axes>"
            ],
            "image/png": "[encoded data removed]"
          },
          "metadata": {}
        }
      ]
    },
    {
      "cell_type": "code",
      "source": [
        "import matplotlib.pyplot as plt\n",
        "import pandas as pd\n",
        "\n",
        "# Charger votre ensemble de données\n",
        "# Supposons que vous avez un fichier CSV nommé \"donnees.csv\"\n",
        "donnees = pd.read_csv(\"voice.csv\")\n",
        "\n",
        "# Spécifier la colonne sur laquelle vous souhaitez créer l'histogramme\n",
        "colonne = \"skew\"\n",
        "\n",
        "# Créer l'histogramme\n",
        "plt.hist(donnees[colonne], bins=10)  # Vous pouvez ajuster le nombre de bacs (bins) selon vos besoins\n",
        "plt.xlabel(\"Valeurs\")\n",
        "plt.ylabel(\"Fréquence\")\n",
        "plt.title(\"Histogramme de la colonne '{}'\".format(colonne))\n",
        "plt.grid(True)\n",
        "plt.show()\n"
      ],
      "metadata": {
        "colab": {
          "base_uri": "https://localhost:8080/",
          "height": 472
        },
        "id": "ntHMBzB8iJZm",
        "outputId": "891f492e-6bc6-44eb-f4f8-eb4ad7f5db81"
      },
      "execution_count": null,
      "outputs": [
        {
          "output_type": "display_data",
          "data": {
            "text/plain": [
              "<Figure size 640x480 with 1 Axes>"
            ],
            "image/png": "[encoded data removed]"
          },
          "metadata": {}
        }
      ]
    },
    {
      "cell_type": "code",
      "source": [
        "import matplotlib.pyplot as plt\n",
        "import pandas as pd\n",
        "\n",
        "# Charger votre ensemble de données\n",
        "# Supposons que vous avez un fichier CSV nommé \"donnees.csv\"\n",
        "donnees = pd.read_csv(\"voice.csv\")\n",
        "\n",
        "# Spécifier la colonne sur laquelle vous souhaitez créer l'histogramme\n",
        "colonne = \"kurt\"\n",
        "\n",
        "# Créer l'histogramme\n",
        "plt.hist(donnees[colonne], bins=10)  # Vous pouvez ajuster le nombre de bacs (bins) selon vos besoins\n",
        "plt.xlabel(\"Valeurs\")\n",
        "plt.ylabel(\"Fréquence\")\n",
        "plt.title(\"Histogramme de la colonne '{}'\".format(colonne))\n",
        "plt.grid(True)\n",
        "plt.show()\n"
      ],
      "metadata": {
        "colab": {
          "base_uri": "https://localhost:8080/",
          "height": 472
        },
        "id": "loipKoV3iPG-",
        "outputId": "9067ddf2-e51d-4898-c8e7-e2c67f29dc69"
      },
      "execution_count": null,
      "outputs": [
        {
          "output_type": "display_data",
          "data": {
            "text/plain": [
              "<Figure size 640x480 with 1 Axes>"
            ],
            "image/png": "[encoded data removed]"
          },
          "metadata": {}
        }
      ]
    },
    {
      "cell_type": "code",
      "source": [
        "import matplotlib.pyplot as plt\n",
        "import pandas as pd\n",
        "\n",
        "# Charger votre ensemble de données\n",
        "# Supposons que vous avez un fichier CSV nommé \"donnees.csv\"\n",
        "donnees = pd.read_csv(\"voice.csv\")\n",
        "\n",
        "# Spécifier la colonne sur laquelle vous souhaitez créer l'histogramme\n",
        "colonne = \"sp.ent\"\n",
        "\n",
        "# Créer l'histogramme\n",
        "plt.hist(donnees[colonne], bins=10)  # Vous pouvez ajuster le nombre de bacs (bins) selon vos besoins\n",
        "plt.xlabel(\"Valeurs\")\n",
        "plt.ylabel(\"Fréquence\")\n",
        "plt.title(\"Histogramme de la colonne '{}'\".format(colonne))\n",
        "plt.grid(True)\n",
        "plt.show()\n"
      ],
      "metadata": {
        "colab": {
          "base_uri": "https://localhost:8080/",
          "height": 472
        },
        "id": "XuyusdbFiW7b",
        "outputId": "6cdba22e-d85d-4bc5-acbe-b24c82d3ed6a"
      },
      "execution_count": null,
      "outputs": [
        {
          "output_type": "display_data",
          "data": {
            "text/plain": [
              "<Figure size 640x480 with 1 Axes>"
            ],
            "image/png": "[encoded data removed]"
          },
          "metadata": {}
        }
      ]
    },
    {
      "cell_type": "code",
      "source": [
        "import matplotlib.pyplot as plt\n",
        "import pandas as pd\n",
        "\n",
        "# Charger votre ensemble de données\n",
        "# Supposons que vous avez un fichier CSV nommé \"donnees.csv\"\n",
        "donnees = pd.read_csv(\"voice.csv\")\n",
        "\n",
        "# Spécifier la colonne sur laquelle vous souhaitez créer l'histogramme\n",
        "colonne = \"sfm\"\n",
        "\n",
        "# Créer l'histogramme\n",
        "plt.hist(donnees[colonne], bins=10)  # Vous pouvez ajuster le nombre de bacs (bins) selon vos besoins\n",
        "plt.xlabel(\"Valeurs\")\n",
        "plt.ylabel(\"Fréquence\")\n",
        "plt.title(\"Histogramme de la colonne '{}'\".format(colonne))\n",
        "plt.grid(True)\n",
        "plt.show()\n"
      ],
      "metadata": {
        "colab": {
          "base_uri": "https://localhost:8080/",
          "height": 472
        },
        "id": "LqiEBkMlidMq",
        "outputId": "04af825f-98e7-4c1e-839b-cc57ead6423e"
      },
      "execution_count": null,
      "outputs": [
        {
          "output_type": "display_data",
          "data": {
            "text/plain": [
              "<Figure size 640x480 with 1 Axes>"
            ],
            "image/png": "[encoded data removed]"
          },
          "metadata": {}
        }
      ]
    },
    {
      "cell_type": "code",
      "source": [
        "import matplotlib.pyplot as plt\n",
        "import pandas as pd\n",
        "\n",
        "# Charger votre ensemble de données\n",
        "# Supposons que vous avez un fichier CSV nommé \"donnees.csv\"\n",
        "donnees = pd.read_csv(\"voice.csv\")\n",
        "\n",
        "# Spécifier la colonne sur laquelle vous souhaitez créer l'histogramme\n",
        "colonne = \"mode\"\n",
        "\n",
        "# Créer l'histogramme\n",
        "plt.hist(donnees[colonne], bins=10)  # Vous pouvez ajuster le nombre de bacs (bins) selon vos besoins\n",
        "plt.xlabel(\"Valeurs\")\n",
        "plt.ylabel(\"Fréquence\")\n",
        "plt.title(\"Histogramme de la colonne '{}'\".format(colonne))\n",
        "plt.grid(True)\n",
        "plt.show()\n"
      ],
      "metadata": {
        "colab": {
          "base_uri": "https://localhost:8080/",
          "height": 472
        },
        "id": "Tjt8T2VDih1v",
        "outputId": "6a149eeb-7a2b-40e2-862f-e2893affa68b"
      },
      "execution_count": null,
      "outputs": [
        {
          "output_type": "display_data",
          "data": {
            "text/plain": [
              "<Figure size 640x480 with 1 Axes>"
            ],
            "image/png": "[encoded data removed]"
          },
          "metadata": {}
        }
      ]
    },
    {
      "cell_type": "code",
      "source": [
        "import matplotlib.pyplot as plt\n",
        "import pandas as pd\n",
        "\n",
        "# Charger votre ensemble de données\n",
        "# Supposons que vous avez un fichier CSV nommé \"donnees.csv\"\n",
        "donnees = pd.read_csv(\"voice.csv\")\n",
        "\n",
        "# Spécifier la colonne sur laquelle vous souhaitez créer l'histogramme\n",
        "colonne = \"minfun\"\n",
        "\n",
        "# Créer l'histogramme\n",
        "plt.hist(donnees[colonne], bins=10)  # Vous pouvez ajuster le nombre de bacs (bins) selon vos besoins\n",
        "plt.xlabel(\"Valeurs\")\n",
        "plt.ylabel(\"Fréquence\")\n",
        "plt.title(\"Histogramme de la colonne '{}'\".format(colonne))\n",
        "plt.grid(True)\n",
        "plt.show()\n"
      ],
      "metadata": {
        "colab": {
          "base_uri": "https://localhost:8080/",
          "height": 472
        },
        "id": "0J-5KHOJin3p",
        "outputId": "1d4e77c1-9e61-41d0-df71-14740c627253"
      },
      "execution_count": null,
      "outputs": [
        {
          "output_type": "display_data",
          "data": {
            "text/plain": [
              "<Figure size 640x480 with 1 Axes>"
            ],
            "image/png": "[encoded data removed]"
          },
          "metadata": {}
        }
      ]
    },
    {
      "cell_type": "code",
      "source": [
        "import matplotlib.pyplot as plt\n",
        "import pandas as pd\n",
        "\n",
        "# Charger votre ensemble de données\n",
        "# Supposons que vous avez un fichier CSV nommé \"donnees.csv\"\n",
        "donnees = pd.read_csv(\"voice.csv\")\n",
        "\n",
        "# Spécifier la colonne sur laquelle vous souhaitez créer l'histogramme\n",
        "colonne = \"maxfun\"\n",
        "\n",
        "# Créer l'histogramme\n",
        "plt.hist(donnees[colonne], bins=10)  # Vous pouvez ajuster le nombre de bacs (bins) selon vos besoins\n",
        "plt.xlabel(\"Valeurs\")\n",
        "plt.ylabel(\"Fréquence\")\n",
        "plt.title(\"Histogramme de la colonne '{}'\".format(colonne))\n",
        "plt.grid(True)\n",
        "plt.show()\n"
      ],
      "metadata": {
        "colab": {
          "base_uri": "https://localhost:8080/",
          "height": 472
        },
        "id": "iKxNuvrqislb",
        "outputId": "b7eaa199-de8e-4019-f0d4-8e7cbbaca2fd"
      },
      "execution_count": null,
      "outputs": [
        {
          "output_type": "display_data",
          "data": {
            "text/plain": [
              "<Figure size 640x480 with 1 Axes>"
            ],
            "image/png": "[encoded data removed]"
          },
          "metadata": {}
        }
      ]
    },
    {
      "cell_type": "code",
      "source": [
        "import matplotlib.pyplot as plt\n",
        "import pandas as pd\n",
        "\n",
        "# Charger votre ensemble de données\n",
        "# Supposons que vous avez un fichier CSV nommé \"donnees.csv\"\n",
        "donnees = pd.read_csv(\"voice.csv\")\n",
        "\n",
        "# Spécifier la colonne sur laquelle vous souhaitez créer l'histogramme\n",
        "colonne = \"meandom\"\n",
        "\n",
        "# Créer l'histogramme\n",
        "plt.hist(donnees[colonne], bins=10)  # Vous pouvez ajuster le nombre de bacs (bins) selon vos besoins\n",
        "plt.xlabel(\"Valeurs\")\n",
        "plt.ylabel(\"Fréquence\")\n",
        "plt.title(\"Histogramme de la colonne '{}'\".format(colonne))\n",
        "plt.grid(True)\n",
        "plt.show()\n"
      ],
      "metadata": {
        "colab": {
          "base_uri": "https://localhost:8080/",
          "height": 472
        },
        "id": "buu-tNZjiwD5",
        "outputId": "aa9edc0b-f85c-4bbd-b8e0-314b24a5d03a"
      },
      "execution_count": null,
      "outputs": [
        {
          "output_type": "display_data",
          "data": {
            "text/plain": [
              "<Figure size 640x480 with 1 Axes>"
            ],
            "image/png": "[encoded data removed]"
          },
          "metadata": {}
        }
      ]
    },
    {
      "cell_type": "code",
      "source": [
        "import matplotlib.pyplot as plt\n",
        "import pandas as pd\n",
        "\n",
        "# Charger votre ensemble de données\n",
        "# Supposons que vous avez un fichier CSV nommé \"donnees.csv\"\n",
        "donnees = pd.read_csv(\"voice.csv\")\n",
        "\n",
        "# Spécifier la colonne sur laquelle vous souhaitez créer l'histogramme\n",
        "colonne = \"mindom\"\n",
        "\n",
        "# Créer l'histogramme\n",
        "plt.hist(donnees[colonne], bins=10)  # Vous pouvez ajuster le nombre de bacs (bins) selon vos besoins\n",
        "plt.xlabel(\"Valeurs\")\n",
        "plt.ylabel(\"Fréquence\")\n",
        "plt.title(\"Histogramme de la colonne '{}'\".format(colonne))\n",
        "plt.grid(True)\n",
        "plt.show()\n"
      ],
      "metadata": {
        "colab": {
          "base_uri": "https://localhost:8080/",
          "height": 472
        },
        "id": "o7_cdBtni1qg",
        "outputId": "0e2f6579-4834-458f-d997-d10836cb6137"
      },
      "execution_count": null,
      "outputs": [
        {
          "output_type": "display_data",
          "data": {
            "text/plain": [
              "<Figure size 640x480 with 1 Axes>"
            ],
            "image/png": "[encoded data removed]"
          },
          "metadata": {}
        }
      ]
    },
    {
      "cell_type": "code",
      "source": [
        "import matplotlib.pyplot as plt\n",
        "import pandas as pd\n",
        "\n",
        "# Charger votre ensemble de données\n",
        "# Supposons que vous avez un fichier CSV nommé \"donnees.csv\"\n",
        "donnees = pd.read_csv(\"voice.csv\")\n",
        "\n",
        "# Spécifier la colonne sur laquelle vous souhaitez créer l'histogramme\n",
        "colonne = \"dfrange\"\n",
        "\n",
        "# Créer l'histogramme\n",
        "plt.hist(donnees[colonne], bins=10)  # Vous pouvez ajuster le nombre de bacs (bins) selon vos besoins\n",
        "plt.xlabel(\"Valeurs\")\n",
        "plt.ylabel(\"Fréquence\")\n",
        "plt.title(\"Histogramme de la colonne '{}'\".format(colonne))\n",
        "plt.grid(True)\n",
        "plt.show()\n"
      ],
      "metadata": {
        "colab": {
          "base_uri": "https://localhost:8080/",
          "height": 472
        },
        "id": "XrsO76Bei68S",
        "outputId": "8bc04d41-0f93-4ee0-d2c8-7b1c820cbe9f"
      },
      "execution_count": null,
      "outputs": [
        {
          "output_type": "display_data",
          "data": {
            "text/plain": [
              "<Figure size 640x480 with 1 Axes>"
            ],
            "image/png": "[encoded data removed]"
          },
          "metadata": {}
        }
      ]
    },
    {
      "cell_type": "code",
      "source": [
        "import matplotlib.pyplot as plt\n",
        "import pandas as pd\n",
        "\n",
        "# Charger votre ensemble de données\n",
        "# Supposons que vous avez un fichier CSV nommé \"donnees.csv\"\n",
        "donnees = pd.read_csv(\"voice.csv\")\n",
        "\n",
        "# Spécifier la colonne sur laquelle vous souhaitez créer l'histogramme\n",
        "colonne = \"modindx\"\n",
        "\n",
        "# Créer l'histogramme\n",
        "plt.hist(donnees[colonne], bins=10)  # Vous pouvez ajuster le nombre de bacs (bins) selon vos besoins\n",
        "plt.xlabel(\"Valeurs\")\n",
        "plt.ylabel(\"Fréquence\")\n",
        "plt.title(\"Histogramme de la colonne '{}'\".format(colonne))\n",
        "plt.grid(True)\n",
        "plt.show()\n"
      ],
      "metadata": {
        "colab": {
          "base_uri": "https://localhost:8080/",
          "height": 472
        },
        "id": "tdUKijDxjAiZ",
        "outputId": "f571e7d7-6803-4874-f83e-a1bc8dc4442e"
      },
      "execution_count": null,
      "outputs": [
        {
          "output_type": "display_data",
          "data": {
            "text/plain": [
              "<Figure size 640x480 with 1 Axes>"
            ],
            "image/png": "[encoded data removed]"
          },
          "metadata": {}
        }
      ]
    },
    {
      "cell_type": "code",
      "source": [
        "import matplotlib.pyplot as plt\n",
        "import pandas as pd\n",
        "\n",
        "# Charger votre ensemble de données\n",
        "# Supposons que vous avez un fichier CSV nommé \"donnees.csv\"\n",
        "donnees = pd.read_csv(\"voice.csv\")\n",
        "\n",
        "# Spécifier la colonne sur laquelle vous souhaitez créer l'histogramme\n",
        "colonne = \"label\"\n",
        "\n",
        "# Créer l'histogramme\n",
        "plt.hist(donnees[colonne], bins=10)  # Vous pouvez ajuster le nombre de bacs (bins) selon vos besoins\n",
        "plt.xlabel(\"Valeurs\")\n",
        "plt.ylabel(\"Fréquence\")\n",
        "plt.title(\"Histogramme de la colonne '{}'\".format(colonne))\n",
        "plt.grid(True)\n",
        "plt.show()\n"
      ],
      "metadata": {
        "colab": {
          "base_uri": "https://localhost:8080/",
          "height": 472
        },
        "id": "gv0BX5AKjR_H",
        "outputId": "36095872-fbb2-4fdf-a979-7921056a7a77"
      },
      "execution_count": null,
      "outputs": [
        {
          "output_type": "display_data",
          "data": {
            "text/plain": [
              "<Figure size 640x480 with 1 Axes>"
            ],
            "image/png": "[encoded data removed]"
          },
          "metadata": {}
        }
      ]
    },
    {
      "cell_type": "code",
      "source": [
        "import pandas as pd\n",
        "\n",
        "# Charger la base de données depuis un fichier CSV\n",
        "data = pd.read_csv('voice.csv')\n",
        "\n",
        "# Vérifier s'il y a des valeurs manquantes dans chaque colonne\n",
        "valeurs_manquantes_par_colonne = data.isnull().sum()\n",
        "\n",
        "# Afficher le nombre de valeurs manquantes par colonne\n",
        "print(valeurs_manquantes_par_colonne)\n"
      ],
      "metadata": {
        "colab": {
          "base_uri": "https://localhost:8080/"
        },
        "id": "anASJtzA_jer",
        "outputId": "79e55825-6f34-4a2b-b705-776ff2f67df1"
      },
      "execution_count": null,
      "outputs": [
        {
          "output_type": "stream",
          "name": "stdout",
          "text": [
            "meanfreq    0\n",
            "sd          0\n",
            "median      0\n",
            "Q25         0\n",
            "Q75         0\n",
            "IQR         0\n",
            "skew        0\n",
            "kurt        0\n",
            "sp.ent      0\n",
            "sfm         0\n",
            "mode        0\n",
            "centroid    0\n",
            "meanfun     0\n",
            "minfun      0\n",
            "maxfun      0\n",
            "meandom     0\n",
            "mindom      0\n",
            "maxdom      0\n",
            "dfrange     0\n",
            "modindx     0\n",
            "label       0\n",
            "dtype: int64\n"
          ]
        }
      ]
    },
    {
      "cell_type": "code",
      "source": [
        "# Import necessary libraries\n",
        "import pandas as pd\n",
        "\n",
        "# Load the dataset\n",
        "url = \"voice.csv\"\n",
        "data = pd.read_csv(url)\n",
        "\n",
        "# Explore the first few rows of the dataset\n",
        "print(data.head())\n",
        "\n",
        "# Check for missing values\n",
        "missing_values = data.isnull().sum()\n",
        "if missing_values.sum() > 0:\n",
        "    print(\"There are missing values in the dataset.\")\n",
        "    print(missing_values)\n",
        "else:\n",
        "    print(\"There are no missing values in the dataset.\")\n",
        "\n",
        "# Check for duplicated rows\n",
        "duplicated_rows = data.duplicated().sum()\n",
        "if duplicated_rows > 0:\n",
        "    print(\"There are duplicated rows in the dataset.\")\n",
        "else:\n",
        "    print(\"There are no duplicated rows in the dataset.\")\n",
        "\n",
        "# Check for outliers\n",
        "# You can use visualization techniques such as boxplots or summary statistics to identify outliers\n",
        "\n",
        "# Convert label column to categorical\n",
        "data['label'] = pd.Categorical(data['label'])\n",
        "\n",
        "# Split the dataset into features (X) and target (y)\n",
        "X = data.drop('label', axis=1)\n",
        "y = data['label']\n",
        "\n",
        "# Further preprocessing steps such as normalization or standardization can also be performed here\n",
        "\n",
        "# Now, your data is ready for modeling\n"
      ],
      "metadata": {
        "colab": {
          "base_uri": "https://localhost:8080/"
        },
        "id": "P6ZEulBHC1N_",
        "outputId": "7643d28d-7eff-4165-df33-81f2240adb4b"
      },
      "execution_count": null,
      "outputs": [
        {
          "output_type": "stream",
          "name": "stdout",
          "text": [
            "   meanfreq        sd    median       Q25       Q75       IQR       skew  \\\n",
            "0  0.059781  0.064241  0.032027  0.015071  0.090193  0.075122  12.863462   \n",
            "1  0.066009  0.067310  0.040229  0.019414  0.092666  0.073252  22.423285   \n",
            "2  0.077316  0.083829  0.036718  0.008701  0.131908  0.123207  30.757155   \n",
            "3  0.151228  0.072111  0.158011  0.096582  0.207955  0.111374   1.232831   \n",
            "4  0.135120  0.079146  0.124656  0.078720  0.206045  0.127325   1.101174   \n",
            "\n",
            "          kurt    sp.ent       sfm  ...  centroid   meanfun    minfun  \\\n",
            "0   274.402906  0.893369  0.491918  ...  0.059781  0.084279  0.015702   \n",
            "1   634.613855  0.892193  0.513724  ...  0.066009  0.107937  0.015826   \n",
            "2  1024.927705  0.846389  0.478905  ...  0.077316  0.098706  0.015656   \n",
            "3     4.177296  0.963322  0.727232  ...  0.151228  0.088965  0.017798   \n",
            "4     4.333713  0.971955  0.783568  ...  0.135120  0.106398  0.016931   \n",
            "\n",
            "     maxfun   meandom    mindom    maxdom   dfrange   modindx  label  \n",
            "0  0.275862  0.007812  0.007812  0.007812  0.000000  0.000000   male  \n",
            "1  0.250000  0.009014  0.007812  0.054688  0.046875  0.052632   male  \n",
            "2  0.271186  0.007990  0.007812  0.015625  0.007812  0.046512   male  \n",
            "3  0.250000  0.201497  0.007812  0.562500  0.554688  0.247119   male  \n",
            "4  0.266667  0.712812  0.007812  5.484375  5.476562  0.208274   male  \n",
            "\n",
            "[5 rows x 21 columns]\n",
            "There are no missing values in the dataset.\n",
            "There are duplicated rows in the dataset.\n"
          ]
        }
      ]
    },
    {
      "cell_type": "code",
      "source": [
        "# Remove duplicated rows\n",
        "data = data.drop_duplicates()\n",
        "\n",
        "# Confirm that duplicated rows have been removed\n",
        "duplicated_rows_after_removal = data.duplicated().sum()\n",
        "if duplicated_rows_after_removal > 0:\n",
        "    print(\"There are still duplicated rows in the dataset after removal.\")\n",
        "else:\n",
        "    print(\"All duplicated rows have been successfully removed from the dataset.\")\n"
      ],
      "metadata": {
        "colab": {
          "base_uri": "https://localhost:8080/"
        },
        "id": "wgrUq67tDMWg",
        "outputId": "8de2eff1-3a8a-495c-aedd-aca1e29bb105"
      },
      "execution_count": null,
      "outputs": [
        {
          "output_type": "stream",
          "name": "stdout",
          "text": [
            "All duplicated rows have been successfully removed from the dataset.\n"
          ]
        }
      ]
    },
    {
      "cell_type": "code",
      "source": [
        "df.shape"
      ],
      "metadata": {
        "colab": {
          "base_uri": "https://localhost:8080/"
        },
        "id": "L6hZTCCCDO2Y",
        "outputId": "f0019db5-a0e7-497d-83bc-1109fa57c243"
      },
      "execution_count": null,
      "outputs": [
        {
          "output_type": "execute_result",
          "data": {
            "text/plain": [
              "(3168, 21)"
            ]
          },
          "metadata": {},
          "execution_count": 6
        }
      ]
    },
    {
      "cell_type": "code",
      "source": [
        "import pandas as pd\n",
        "\n",
        "# Supposons que votre ensemble de données est dans un DataFrame appelé df\n",
        "# Remplacez 'votre_fichier.csv' par le chemin réel vers votre fichier de données si vous l'avez chargé depuis un fichier.\n",
        "\n",
        "# Exemple :\n",
        "# df = pd.read_csv('votre_fichier.csv')\n",
        "\n",
        "# Afficher la colonne \"mode\" à partir de la ligne 2000\n",
        "mode_column_from_2000 = df.loc[306, 'mode']\n",
        "\n",
        "# Afficher la série pandas (colonnes mode à partir de la ligne 2000)\n",
        "print(mode_column_from_2000)\n",
        "\n",
        "# Si vous préférez convertir la série pandas en une liste Python\n",
        "mode_list_from_2000 = mode_column_from_2000.tolist()\n",
        "\n",
        "# Afficher la liste\n",
        "print(mode_list_from_2000)\n"
      ],
      "metadata": {
        "id": "a5SzVL9MD0gD",
        "colab": {
          "base_uri": "https://localhost:8080/"
        },
        "outputId": "d3c74252-fe64-4d6e-df98-70492795804e"
      },
      "execution_count": null,
      "outputs": [
        {
          "output_type": "stream",
          "name": "stdout",
          "text": [
            "0.0\n",
            "0.0\n"
          ]
        }
      ]
    },
    {
      "cell_type": "code",
      "source": [
        "df.columns\n"
      ],
      "metadata": {
        "colab": {
          "base_uri": "https://localhost:8080/"
        },
        "id": "mj6rUg7_rYXz",
        "outputId": "40bdd8d7-4f8c-4e14-fab6-f275549f7b4f"
      },
      "execution_count": null,
      "outputs": [
        {
          "output_type": "execute_result",
          "data": {
            "text/plain": [
              "Index(['meanfreq', 'sd', 'median', 'Q25', 'Q75', 'IQR', 'skew', 'kurt',\n",
              "       'sp.ent', 'sfm', 'mode', 'centroid', 'meanfun', 'minfun', 'maxfun',\n",
              "       'meandom', 'mindom', 'maxdom', 'dfrange', 'modindx', 'label'],\n",
              "      dtype='object')"
            ]
          },
          "metadata": {},
          "execution_count": 9
        }
      ]
    },
    {
      "cell_type": "code",
      "source": [
        "from IPython.core.display import HTML\n",
        "display(HTML(df.head(10).to_html()))"
      ],
      "metadata": {
        "colab": {
          "base_uri": "https://localhost:8080/",
          "height": 383
        },
        "id": "XbXCsxLWrw6h",
        "outputId": "256b04f8-c306-46ee-9f2f-04643e1633c2"
      },
      "execution_count": null,
      "outputs": [
        {
          "output_type": "display_data",
          "data": {
            "text/plain": [
              "<IPython.core.display.HTML object>"
            ],
            "text/html": [
              "<table border=\"1\" class=\"dataframe\">\n",
              "  <thead>\n",
              "    <tr style=\"text-align: right;\">\n",
              "      <th></th>\n",
              "      <th>meanfreq</th>\n",
              "      <th>sd</th>\n",
              "      <th>median</th>\n",
              "      <th>Q25</th>\n",
              "      <th>Q75</th>\n",
              "      <th>IQR</th>\n",
              "      <th>skew</th>\n",
              "      <th>kurt</th>\n",
              "      <th>sp.ent</th>\n",
              "      <th>sfm</th>\n",
              "      <th>mode</th>\n",
              "      <th>centroid</th>\n",
              "      <th>meanfun</th>\n",
              "      <th>minfun</th>\n",
              "      <th>maxfun</th>\n",
              "      <th>meandom</th>\n",
              "      <th>mindom</th>\n",
              "      <th>maxdom</th>\n",
              "      <th>dfrange</th>\n",
              "      <th>modindx</th>\n",
              "      <th>label</th>\n",
              "    </tr>\n",
              "  </thead>\n",
              "  <tbody>\n",
              "    <tr>\n",
              "      <th>0</th>\n",
              "      <td>0.059781</td>\n",
              "      <td>0.064241</td>\n",
              "      <td>0.032027</td>\n",
              "      <td>0.015071</td>\n",
              "      <td>0.090193</td>\n",
              "      <td>0.075122</td>\n",
              "      <td>12.863462</td>\n",
              "      <td>274.402906</td>\n",
              "      <td>0.893369</td>\n",
              "      <td>0.491918</td>\n",
              "      <td>0.000000</td>\n",
              "      <td>0.059781</td>\n",
              "      <td>0.084279</td>\n",
              "      <td>0.015702</td>\n",
              "      <td>0.275862</td>\n",
              "      <td>0.007812</td>\n",
              "      <td>0.007812</td>\n",
              "      <td>0.007812</td>\n",
              "      <td>0.000000</td>\n",
              "      <td>0.000000</td>\n",
              "      <td>male</td>\n",
              "    </tr>\n",
              "    <tr>\n",
              "      <th>1</th>\n",
              "      <td>0.066009</td>\n",
              "      <td>0.067310</td>\n",
              "      <td>0.040229</td>\n",
              "      <td>0.019414</td>\n",
              "      <td>0.092666</td>\n",
              "      <td>0.073252</td>\n",
              "      <td>22.423285</td>\n",
              "      <td>634.613855</td>\n",
              "      <td>0.892193</td>\n",
              "      <td>0.513724</td>\n",
              "      <td>0.000000</td>\n",
              "      <td>0.066009</td>\n",
              "      <td>0.107937</td>\n",
              "      <td>0.015826</td>\n",
              "      <td>0.250000</td>\n",
              "      <td>0.009014</td>\n",
              "      <td>0.007812</td>\n",
              "      <td>0.054688</td>\n",
              "      <td>0.046875</td>\n",
              "      <td>0.052632</td>\n",
              "      <td>male</td>\n",
              "    </tr>\n",
              "    <tr>\n",
              "      <th>2</th>\n",
              "      <td>0.077316</td>\n",
              "      <td>0.083829</td>\n",
              "      <td>0.036718</td>\n",
              "      <td>0.008701</td>\n",
              "      <td>0.131908</td>\n",
              "      <td>0.123207</td>\n",
              "      <td>30.757155</td>\n",
              "      <td>1024.927705</td>\n",
              "      <td>0.846389</td>\n",
              "      <td>0.478905</td>\n",
              "      <td>0.000000</td>\n",
              "      <td>0.077316</td>\n",
              "      <td>0.098706</td>\n",
              "      <td>0.015656</td>\n",
              "      <td>0.271186</td>\n",
              "      <td>0.007990</td>\n",
              "      <td>0.007812</td>\n",
              "      <td>0.015625</td>\n",
              "      <td>0.007812</td>\n",
              "      <td>0.046512</td>\n",
              "      <td>male</td>\n",
              "    </tr>\n",
              "    <tr>\n",
              "      <th>3</th>\n",
              "      <td>0.151228</td>\n",
              "      <td>0.072111</td>\n",
              "      <td>0.158011</td>\n",
              "      <td>0.096582</td>\n",
              "      <td>0.207955</td>\n",
              "      <td>0.111374</td>\n",
              "      <td>1.232831</td>\n",
              "      <td>4.177296</td>\n",
              "      <td>0.963322</td>\n",
              "      <td>0.727232</td>\n",
              "      <td>0.083878</td>\n",
              "      <td>0.151228</td>\n",
              "      <td>0.088965</td>\n",
              "      <td>0.017798</td>\n",
              "      <td>0.250000</td>\n",
              "      <td>0.201497</td>\n",
              "      <td>0.007812</td>\n",
              "      <td>0.562500</td>\n",
              "      <td>0.554688</td>\n",
              "      <td>0.247119</td>\n",
              "      <td>male</td>\n",
              "    </tr>\n",
              "    <tr>\n",
              "      <th>4</th>\n",
              "      <td>0.135120</td>\n",
              "      <td>0.079146</td>\n",
              "      <td>0.124656</td>\n",
              "      <td>0.078720</td>\n",
              "      <td>0.206045</td>\n",
              "      <td>0.127325</td>\n",
              "      <td>1.101174</td>\n",
              "      <td>4.333713</td>\n",
              "      <td>0.971955</td>\n",
              "      <td>0.783568</td>\n",
              "      <td>0.104261</td>\n",
              "      <td>0.135120</td>\n",
              "      <td>0.106398</td>\n",
              "      <td>0.016931</td>\n",
              "      <td>0.266667</td>\n",
              "      <td>0.712812</td>\n",
              "      <td>0.007812</td>\n",
              "      <td>5.484375</td>\n",
              "      <td>5.476562</td>\n",
              "      <td>0.208274</td>\n",
              "      <td>male</td>\n",
              "    </tr>\n",
              "    <tr>\n",
              "      <th>5</th>\n",
              "      <td>0.132786</td>\n",
              "      <td>0.079557</td>\n",
              "      <td>0.119090</td>\n",
              "      <td>0.067958</td>\n",
              "      <td>0.209592</td>\n",
              "      <td>0.141634</td>\n",
              "      <td>1.932562</td>\n",
              "      <td>8.308895</td>\n",
              "      <td>0.963181</td>\n",
              "      <td>0.738307</td>\n",
              "      <td>0.112555</td>\n",
              "      <td>0.132786</td>\n",
              "      <td>0.110132</td>\n",
              "      <td>0.017112</td>\n",
              "      <td>0.253968</td>\n",
              "      <td>0.298222</td>\n",
              "      <td>0.007812</td>\n",
              "      <td>2.726562</td>\n",
              "      <td>2.718750</td>\n",
              "      <td>0.125160</td>\n",
              "      <td>male</td>\n",
              "    </tr>\n",
              "    <tr>\n",
              "      <th>6</th>\n",
              "      <td>0.150762</td>\n",
              "      <td>0.074463</td>\n",
              "      <td>0.160106</td>\n",
              "      <td>0.092899</td>\n",
              "      <td>0.205718</td>\n",
              "      <td>0.112819</td>\n",
              "      <td>1.530643</td>\n",
              "      <td>5.987498</td>\n",
              "      <td>0.967573</td>\n",
              "      <td>0.762638</td>\n",
              "      <td>0.086197</td>\n",
              "      <td>0.150762</td>\n",
              "      <td>0.105945</td>\n",
              "      <td>0.026230</td>\n",
              "      <td>0.266667</td>\n",
              "      <td>0.479620</td>\n",
              "      <td>0.007812</td>\n",
              "      <td>5.312500</td>\n",
              "      <td>5.304688</td>\n",
              "      <td>0.123992</td>\n",
              "      <td>male</td>\n",
              "    </tr>\n",
              "    <tr>\n",
              "      <th>7</th>\n",
              "      <td>0.160514</td>\n",
              "      <td>0.076767</td>\n",
              "      <td>0.144337</td>\n",
              "      <td>0.110532</td>\n",
              "      <td>0.231962</td>\n",
              "      <td>0.121430</td>\n",
              "      <td>1.397156</td>\n",
              "      <td>4.766611</td>\n",
              "      <td>0.959255</td>\n",
              "      <td>0.719858</td>\n",
              "      <td>0.128324</td>\n",
              "      <td>0.160514</td>\n",
              "      <td>0.093052</td>\n",
              "      <td>0.017758</td>\n",
              "      <td>0.144144</td>\n",
              "      <td>0.301339</td>\n",
              "      <td>0.007812</td>\n",
              "      <td>0.539062</td>\n",
              "      <td>0.531250</td>\n",
              "      <td>0.283937</td>\n",
              "      <td>male</td>\n",
              "    </tr>\n",
              "    <tr>\n",
              "      <th>8</th>\n",
              "      <td>0.142239</td>\n",
              "      <td>0.078018</td>\n",
              "      <td>0.138587</td>\n",
              "      <td>0.088206</td>\n",
              "      <td>0.208587</td>\n",
              "      <td>0.120381</td>\n",
              "      <td>1.099746</td>\n",
              "      <td>4.070284</td>\n",
              "      <td>0.970723</td>\n",
              "      <td>0.770992</td>\n",
              "      <td>0.219103</td>\n",
              "      <td>0.142239</td>\n",
              "      <td>0.096729</td>\n",
              "      <td>0.017957</td>\n",
              "      <td>0.250000</td>\n",
              "      <td>0.336476</td>\n",
              "      <td>0.007812</td>\n",
              "      <td>2.164062</td>\n",
              "      <td>2.156250</td>\n",
              "      <td>0.148272</td>\n",
              "      <td>male</td>\n",
              "    </tr>\n",
              "    <tr>\n",
              "      <th>9</th>\n",
              "      <td>0.134329</td>\n",
              "      <td>0.080350</td>\n",
              "      <td>0.121451</td>\n",
              "      <td>0.075580</td>\n",
              "      <td>0.201957</td>\n",
              "      <td>0.126377</td>\n",
              "      <td>1.190368</td>\n",
              "      <td>4.787310</td>\n",
              "      <td>0.975246</td>\n",
              "      <td>0.804505</td>\n",
              "      <td>0.011699</td>\n",
              "      <td>0.134329</td>\n",
              "      <td>0.105881</td>\n",
              "      <td>0.019300</td>\n",
              "      <td>0.262295</td>\n",
              "      <td>0.340365</td>\n",
              "      <td>0.015625</td>\n",
              "      <td>4.695312</td>\n",
              "      <td>4.679688</td>\n",
              "      <td>0.089920</td>\n",
              "      <td>male</td>\n",
              "    </tr>\n",
              "  </tbody>\n",
              "</table>"
            ]
          },
          "metadata": {}
        }
      ]
    },
    {
      "cell_type": "code",
      "source": [
        "df.shape\n"
      ],
      "metadata": {
        "id": "NV-20lQur-Ku",
        "colab": {
          "base_uri": "https://localhost:8080/"
        },
        "outputId": "e8a101b8-5cd5-4cef-9d67-6ed1df6ccf08"
      },
      "execution_count": null,
      "outputs": [
        {
          "output_type": "execute_result",
          "data": {
            "text/plain": [
              "(3168, 21)"
            ]
          },
          "metadata": {},
          "execution_count": 11
        }
      ]
    },
    {
      "cell_type": "code",
      "source": [
        "df.label.value_counts()\n"
      ],
      "metadata": {
        "colab": {
          "base_uri": "https://localhost:8080/"
        },
        "id": "oFcVvrzYsMJ-",
        "outputId": "3bdcebbe-8705-466c-8c29-114cda7492d8"
      },
      "execution_count": null,
      "outputs": [
        {
          "output_type": "execute_result",
          "data": {
            "text/plain": [
              "male      1584\n",
              "female    1584\n",
              "Name: label, dtype: int64"
            ]
          },
          "metadata": {},
          "execution_count": 12
        }
      ]
    },
    {
      "cell_type": "code",
      "source": [
        "data_train = df.sample(frac=0.8, random_state=1)\n",
        "data_test = df.drop(data_train.index)"
      ],
      "metadata": {
        "id": "Yjpet95vseTG"
      },
      "execution_count": null,
      "outputs": []
    },
    {
      "cell_type": "code",
      "source": [
        "num_rows_data_train = data_train.shape[0]\n",
        "num_rows_data_test = data_test.shape[0]\n",
        "\n",
        "print(\"Nombre de lignes dans data_train :\", num_rows_data_train)\n",
        "print(\"Nombre de lignes dans data_test :\", num_rows_data_test)"
      ],
      "metadata": {
        "colab": {
          "base_uri": "https://localhost:8080/"
        },
        "id": "GkhaNWLqtkOG",
        "outputId": "8ce2418f-babc-42e9-f7d5-1805cc35b9f5"
      },
      "execution_count": null,
      "outputs": [
        {
          "output_type": "stream",
          "name": "stdout",
          "text": [
            "Nombre de lignes dans data_train : 2534\n",
            "Nombre de lignes dans data_test : 634\n"
          ]
        }
      ]
    },
    {
      "cell_type": "code",
      "source": [
        "X_train = data_train.drop(['label'], axis=1)\n",
        "y_train = data_train['label']\n",
        "X_test = data_test.drop(['label'], axis=1)\n",
        "y_test = data_test['label']"
      ],
      "metadata": {
        "id": "fr-JgtL5ttqn"
      },
      "execution_count": null,
      "outputs": []
    },
    {
      "cell_type": "code",
      "source": [
        "from sklearn.metrics import accuracy_score, confusion_matrix\n"
      ],
      "metadata": {
        "id": "CMdlX0HPzo4k"
      },
      "execution_count": null,
      "outputs": []
    },
    {
      "cell_type": "code",
      "source": [
        "from sklearn import ensemble\n",
        "rf = ensemble.RandomForestClassifier()\n",
        "rf.fit(X_train, y_train)\n",
        "y_rf = rf.predict(X_test)"
      ],
      "metadata": {
        "id": "wkvUmcwnz0CP"
      },
      "execution_count": null,
      "outputs": []
    },
    {
      "cell_type": "code",
      "source": [
        "rf_score = accuracy_score(y_test, y_rf)\n",
        "print(rf_score*100 )\n"
      ],
      "metadata": {
        "colab": {
          "base_uri": "https://localhost:8080/"
        },
        "id": "OiUAXLo8z6mf",
        "outputId": "76c7a70e-0956-41d3-c34d-54b8ce8fa9ab"
      },
      "execution_count": null,
      "outputs": [
        {
          "output_type": "stream",
          "name": "stdout",
          "text": [
            "98.58044164037855\n"
          ]
        }
      ]
    },
    {
      "cell_type": "code",
      "source": [
        "pd.crosstab(y_test, y_rf, rownames = ['Reel'], colnames = ['Prediction'], margins = True)"
      ],
      "metadata": {
        "colab": {
          "base_uri": "https://localhost:8080/",
          "height": 175
        },
        "id": "MtkFGrMf0F45",
        "outputId": "1bc8ed0f-4d24-42bd-876c-9366fcf02387"
      },
      "execution_count": null,
      "outputs": [
        {
          "output_type": "execute_result",
          "data": {
            "text/plain": [
              "Prediction  female  male  All\n",
              "Reel                         \n",
              "female         299     3  302\n",
              "male             6   326  332\n",
              "All            305   329  634"
            ],
            "text/html": [
              "\n",
              "  <div id=\"df-49223e8d-fda2-44bc-b725-cf29ce093dad\" class=\"colab-df-container\">\n",
              "    <div>\n",
              "<style scoped>\n",
              "    .dataframe tbody tr th:only-of-type {\n",
              "        vertical-align: middle;\n",
              "    }\n",
              "\n",
              "    .dataframe tbody tr th {\n",
              "        vertical-align: top;\n",
              "    }\n",
              "\n",
              "    .dataframe thead th {\n",
              "        text-align: right;\n",
              "    }\n",
              "</style>\n",
              "<table border=\"1\" class=\"dataframe\">\n",
              "  <thead>\n",
              "    <tr style=\"text-align: right;\">\n",
              "      <th>Prediction</th>\n",
              "      <th>female</th>\n",
              "      <th>male</th>\n",
              "      <th>All</th>\n",
              "    </tr>\n",
              "    <tr>\n",
              "      <th>Reel</th>\n",
              "      <th></th>\n",
              "      <th></th>\n",
              "      <th></th>\n",
              "    </tr>\n",
              "  </thead>\n",
              "  <tbody>\n",
              "    <tr>\n",
              "      <th>female</th>\n",
              "      <td>299</td>\n",
              "      <td>3</td>\n",
              "      <td>302</td>\n",
              "    </tr>\n",
              "    <tr>\n",
              "      <th>male</th>\n",
              "      <td>6</td>\n",
              "      <td>326</td>\n",
              "      <td>332</td>\n",
              "    </tr>\n",
              "    <tr>\n",
              "      <th>All</th>\n",
              "      <td>305</td>\n",
              "      <td>329</td>\n",
              "      <td>634</td>\n",
              "    </tr>\n",
              "  </tbody>\n",
              "</table>\n",
              "</div>\n",
              "    <div class=\"colab-df-buttons\">\n",
              "\n",
              "  <div class=\"colab-df-container\">\n",
              "    <button class=\"colab-df-convert\" onclick=\"convertToInteractive('df-49223e8d-fda2-44bc-b725-cf29ce093dad')\"\n",
              "            title=\"Convert this dataframe to an interactive table.\"\n",
              "            style=\"display:none;\">\n",
              "\n",
              "  <svg xmlns=\"http://www.w3.org/2000/svg\" height=\"24px\" viewBox=\"0 -960 960 960\">\n",
              "    <path d=\"M120-120v-720h720v720H120Zm60-500h600v-160H180v160Zm220 220h160v-160H400v160Zm0 220h160v-160H400v160ZM180-400h160v-160H180v160Zm440 0h160v-160H620v160ZM180-180h160v-160H180v160Zm440 0h160v-160H620v160Z\"/>\n",
              "  </svg>\n",
              "    </button>\n",
              "\n",
              "  <style>\n",
              "    .colab-df-container {\n",
              "      display:flex;\n",
              "      gap: 12px;\n",
              "    }\n",
              "\n",
              "    .colab-df-convert {\n",
              "      background-color: #E8F0FE;\n",
              "      border: none;\n",
              "      border-radius: 50%;\n",
              "      cursor: pointer;\n",
              "      display: none;\n",
              "      fill: #1967D2;\n",
              "      height: 32px;\n",
              "      padding: 0 0 0 0;\n",
              "      width: 32px;\n",
              "    }\n",
              "\n",
              "    .colab-df-convert:hover {\n",
              "      background-color: #E2EBFA;\n",
              "      box-shadow: 0px 1px 2px rgba(60, 64, 67, 0.3), 0px 1px 3px 1px rgba(60, 64, 67, 0.15);\n",
              "      fill: #174EA6;\n",
              "    }\n",
              "\n",
              "    .colab-df-buttons div {\n",
              "      margin-bottom: 4px;\n",
              "    }\n",
              "\n",
              "    [theme=dark] .colab-df-convert {\n",
              "      background-color: #3B4455;\n",
              "      fill: #D2E3FC;\n",
              "    }\n",
              "\n",
              "    [theme=dark] .colab-df-convert:hover {\n",
              "      background-color: #434B5C;\n",
              "      box-shadow: 0px 1px 3px 1px rgba(0, 0, 0, 0.15);\n",
              "      filter: drop-shadow(0px 1px 2px rgba(0, 0, 0, 0.3));\n",
              "      fill: #FFFFFF;\n",
              "    }\n",
              "  </style>\n",
              "\n",
              "    <script>\n",
              "      const buttonEl =\n",
              "        document.querySelector('#df-49223e8d-fda2-44bc-b725-cf29ce093dad button.colab-df-convert');\n",
              "      buttonEl.style.display =\n",
              "        google.colab.kernel.accessAllowed ? 'block' : 'none';\n",
              "\n",
              "      async function convertToInteractive(key) {\n",
              "        const element = document.querySelector('#df-49223e8d-fda2-44bc-b725-cf29ce093dad');\n",
              "        const dataTable =\n",
              "          await google.colab.kernel.invokeFunction('convertToInteractive',\n",
              "                                                    [key], {});\n",
              "        if (!dataTable) return;\n",
              "\n",
              "        const docLinkHtml = 'Like what you see? Visit the ' +\n",
              "          '<a target=\"_blank\" href=https://colab.research.google.com/notebooks/data_table.ipynb>data table notebook</a>'\n",
              "          + ' to learn more about interactive tables.';\n",
              "        element.innerHTML = '';\n",
              "        dataTable['output_type'] = 'display_data';\n",
              "        await google.colab.output.renderOutput(dataTable, element);\n",
              "        const docLink = document.createElement('div');\n",
              "        docLink.innerHTML = docLinkHtml;\n",
              "        element.appendChild(docLink);\n",
              "      }\n",
              "    </script>\n",
              "  </div>\n",
              "\n",
              "\n",
              "<div id=\"df-b41fabbd-c58a-45d3-8b45-f39605df9d51\">\n",
              "  <button class=\"colab-df-quickchart\" onclick=\"quickchart('df-b41fabbd-c58a-45d3-8b45-f39605df9d51')\"\n",
              "            title=\"Suggest charts\"\n",
              "            style=\"display:none;\">\n",
              "\n",
              "<svg xmlns=\"http://www.w3.org/2000/svg\" height=\"24px\"viewBox=\"0 0 24 24\"\n",
              "     width=\"24px\">\n",
              "    <g>\n",
              "        <path d=\"M19 3H5c-1.1 0-2 .9-2 2v14c0 1.1.9 2 2 2h14c1.1 0 2-.9 2-2V5c0-1.1-.9-2-2-2zM9 17H7v-7h2v7zm4 0h-2V7h2v10zm4 0h-2v-4h2v4z\"/>\n",
              "    </g>\n",
              "</svg>\n",
              "  </button>\n",
              "\n",
              "<style>\n",
              "  .colab-df-quickchart {\n",
              "      --bg-color: #E8F0FE;\n",
              "      --fill-color: #1967D2;\n",
              "      --hover-bg-color: #E2EBFA;\n",
              "      --hover-fill-color: #174EA6;\n",
              "      --disabled-fill-color: #AAA;\n",
              "      --disabled-bg-color: #DDD;\n",
              "  }\n",
              "\n",
              "  [theme=dark] .colab-df-quickchart {\n",
              "      --bg-color: #3B4455;\n",
              "      --fill-color: #D2E3FC;\n",
              "      --hover-bg-color: #434B5C;\n",
              "      --hover-fill-color: #FFFFFF;\n",
              "      --disabled-bg-color: #3B4455;\n",
              "      --disabled-fill-color: #666;\n",
              "  }\n",
              "\n",
              "  .colab-df-quickchart {\n",
              "    background-color: var(--bg-color);\n",
              "    border: none;\n",
              "    border-radius: 50%;\n",
              "    cursor: pointer;\n",
              "    display: none;\n",
              "    fill: var(--fill-color);\n",
              "    height: 32px;\n",
              "    padding: 0;\n",
              "    width: 32px;\n",
              "  }\n",
              "\n",
              "  .colab-df-quickchart:hover {\n",
              "    background-color: var(--hover-bg-color);\n",
              "    box-shadow: 0 1px 2px rgba(60, 64, 67, 0.3), 0 1px 3px 1px rgba(60, 64, 67, 0.15);\n",
              "    fill: var(--button-hover-fill-color);\n",
              "  }\n",
              "\n",
              "  .colab-df-quickchart-complete:disabled,\n",
              "  .colab-df-quickchart-complete:disabled:hover {\n",
              "    background-color: var(--disabled-bg-color);\n",
              "    fill: var(--disabled-fill-color);\n",
              "    box-shadow: none;\n",
              "  }\n",
              "\n",
              "  .colab-df-spinner {\n",
              "    border: 2px solid var(--fill-color);\n",
              "    border-color: transparent;\n",
              "    border-bottom-color: var(--fill-color);\n",
              "    animation:\n",
              "      spin 1s steps(1) infinite;\n",
              "  }\n",
              "\n",
              "  @keyframes spin {\n",
              "    0% {\n",
              "      border-color: transparent;\n",
              "      border-bottom-color: var(--fill-color);\n",
              "      border-left-color: var(--fill-color);\n",
              "    }\n",
              "    20% {\n",
              "      border-color: transparent;\n",
              "      border-left-color: var(--fill-color);\n",
              "      border-top-color: var(--fill-color);\n",
              "    }\n",
              "    30% {\n",
              "      border-color: transparent;\n",
              "      border-left-color: var(--fill-color);\n",
              "      border-top-color: var(--fill-color);\n",
              "      border-right-color: var(--fill-color);\n",
              "    }\n",
              "    40% {\n",
              "      border-color: transparent;\n",
              "      border-right-color: var(--fill-color);\n",
              "      border-top-color: var(--fill-color);\n",
              "    }\n",
              "    60% {\n",
              "      border-color: transparent;\n",
              "      border-right-color: var(--fill-color);\n",
              "    }\n",
              "    80% {\n",
              "      border-color: transparent;\n",
              "      border-right-color: var(--fill-color);\n",
              "      border-bottom-color: var(--fill-color);\n",
              "    }\n",
              "    90% {\n",
              "      border-color: transparent;\n",
              "      border-bottom-color: var(--fill-color);\n",
              "    }\n",
              "  }\n",
              "</style>\n",
              "\n",
              "  <script>\n",
              "    async function quickchart(key) {\n",
              "      const quickchartButtonEl =\n",
              "        document.querySelector('#' + key + ' button');\n",
              "      quickchartButtonEl.disabled = true;  // To prevent multiple clicks.\n",
              "      quickchartButtonEl.classList.add('colab-df-spinner');\n",
              "      try {\n",
              "        const charts = await google.colab.kernel.invokeFunction(\n",
              "            'suggestCharts', [key], {});\n",
              "      } catch (error) {\n",
              "        console.error('Error during call to suggestCharts:', error);\n",
              "      }\n",
              "      quickchartButtonEl.classList.remove('colab-df-spinner');\n",
              "      quickchartButtonEl.classList.add('colab-df-quickchart-complete');\n",
              "    }\n",
              "    (() => {\n",
              "      let quickchartButtonEl =\n",
              "        document.querySelector('#df-b41fabbd-c58a-45d3-8b45-f39605df9d51 button');\n",
              "      quickchartButtonEl.style.display =\n",
              "        google.colab.kernel.accessAllowed ? 'block' : 'none';\n",
              "    })();\n",
              "  </script>\n",
              "</div>\n",
              "\n",
              "    </div>\n",
              "  </div>\n"
            ],
            "application/vnd.google.colaboratory.intrinsic+json": {
              "type": "dataframe",
              "summary": "{\n  \"name\": \"pd\",\n  \"rows\": 3,\n  \"fields\": [\n    {\n      \"column\": \"Reel\",\n      \"properties\": {\n        \"dtype\": \"string\",\n        \"num_unique_values\": 3,\n        \"samples\": [\n          \"female\",\n          \"male\",\n          \"All\"\n        ],\n        \"semantic_type\": \"\",\n        \"description\": \"\"\n      }\n    },\n    {\n      \"column\": \"female\",\n      \"properties\": {\n        \"dtype\": \"number\",\n        \"std\": 170,\n        \"min\": 6,\n        \"max\": 305,\n        \"num_unique_values\": 3,\n        \"samples\": [\n          299,\n          6,\n          305\n        ],\n        \"semantic_type\": \"\",\n        \"description\": \"\"\n      }\n    },\n    {\n      \"column\": \"male\",\n      \"properties\": {\n        \"dtype\": \"number\",\n        \"std\": 187,\n        \"min\": 3,\n        \"max\": 329,\n        \"num_unique_values\": 3,\n        \"samples\": [\n          3,\n          326,\n          329\n        ],\n        \"semantic_type\": \"\",\n        \"description\": \"\"\n      }\n    },\n    {\n      \"column\": \"All\",\n      \"properties\": {\n        \"dtype\": \"number\",\n        \"std\": 183,\n        \"min\": 302,\n        \"max\": 634,\n        \"num_unique_values\": 3,\n        \"samples\": [\n          302,\n          332,\n          634\n        ],\n        \"semantic_type\": \"\",\n        \"description\": \"\"\n      }\n    }\n  ]\n}"
            }
          },
          "metadata": {},
          "execution_count": 19
        }
      ]
    },
    {
      "cell_type": "code",
      "source": [
        "import pandas as pd\n",
        "\n",
        "# Supposons que votre DataFrame s'appelle df\n",
        "# Remplacez cela par le nom réel de votre DataFrame\n",
        "\n",
        "# Sélectionnez uniquement les colonnes liées aux caractéristiques que vous souhaitez analyser\n",
        "selected_features = df.columns\n",
        "# Utilisez la fonction describe pour obtenir le range des valeurs\n",
        "range_of_values = df.describe().loc[['min', 'max']]\n",
        "print(range_of_values)\n"
      ],
      "metadata": {
        "id": "NKl0yI6uDpjh",
        "outputId": "93de3774-6e48-4c96-d999-fb7df537ba47",
        "colab": {
          "base_uri": "https://localhost:8080/"
        }
      },
      "execution_count": null,
      "outputs": [
        {
          "output_type": "stream",
          "name": "stdout",
          "text": [
            "     meanfreq        sd    median       Q25       Q75       IQR       skew  \\\n",
            "min  0.039363  0.018363  0.010975  0.000229  0.042946  0.014558   0.141735   \n",
            "max  0.251124  0.115273  0.261224  0.247347  0.273469  0.252225  34.725453   \n",
            "\n",
            "            kurt    sp.ent       sfm  mode  centroid   meanfun    minfun  \\\n",
            "min     2.068455  0.738651  0.036876  0.00  0.039363  0.055565  0.009775   \n",
            "max  1309.612887  0.981997  0.842936  0.28  0.251124  0.237636  0.204082   \n",
            "\n",
            "       maxfun   meandom    mindom     maxdom   dfrange   modindx  \n",
            "min  0.103093  0.007812  0.004883   0.007812   0.00000  0.000000  \n",
            "max  0.279114  2.957682  0.458984  21.867188  21.84375  0.932374  \n"
          ]
        }
      ]
    },
    {
      "cell_type": "code",
      "source": [
        "fig = sns.FacetGrid(df, hue = \"label\", aspect = 3)\n",
        "fig.map(sns.kdeplot, \"IQR\", shade = True)\n",
        "fig.add_legend()"
      ],
      "metadata": {
        "colab": {
          "base_uri": "https://localhost:8080/",
          "height": 543
        },
        "id": "kHyyYcsG0ZzZ",
        "outputId": "cb83166e-adb3-4100-b63e-f23d79281a92"
      },
      "execution_count": null,
      "outputs": [
        {
          "output_type": "stream",
          "name": "stderr",
          "text": [
            "/usr/local/lib/python3.10/dist-packages/seaborn/axisgrid.py:854: FutureWarning: \n",
            "\n",
            "`shade` is now deprecated in favor of `fill`; setting `fill=True`.\n",
            "This will become an error in seaborn v0.14.0; please update your code.\n",
            "\n",
            "  func(*plot_args, **plot_kwargs)\n",
            "/usr/local/lib/python3.10/dist-packages/seaborn/axisgrid.py:854: FutureWarning: \n",
            "\n",
            "`shade` is now deprecated in favor of `fill`; setting `fill=True`.\n",
            "This will become an error in seaborn v0.14.0; please update your code.\n",
            "\n",
            "  func(*plot_args, **plot_kwargs)\n"
          ]
        },
        {
          "output_type": "execute_result",
          "data": {
            "text/plain": [
              "<seaborn.axisgrid.FacetGrid at 0x7a79cc52a3b0>"
            ]
          },
          "metadata": {},
          "execution_count": 21
        },
        {
          "output_type": "display_data",
          "data": {
            "text/plain": [
              "<Figure size 998x300 with 1 Axes>"
            ],
            "image/png": "[encoded data removed]"
          },
          "metadata": {}
        }
      ]
    },
    {
      "cell_type": "code",
      "source": [
        "# Installer la bibliothèque imbalanced-learn si vous ne l'avez pas déjà fait\n",
        "# pip install -U imbalanced-learn\n",
        "\n",
        "from imblearn.under_sampling import RandomUnderSampler\n",
        "import pandas as pd\n",
        "\n",
        "# Charger votre ensemble de données\n",
        "# Assurez-vous que le chemin du fichier est correct\n",
        "data = pd.read_csv(\"/content/voice.csv\")\n",
        "\n",
        "# Diviser les données en fonctionnalités (X) et étiquettes (y)\n",
        "X = data.drop('label', axis=1)  # Caractéristiques\n",
        "y = data['label']  # Étiquettes\n",
        "\n",
        "# Appliquer le sous-échantillonnage\n",
        "rus = RandomUnderSampler(sampling_strategy='auto', random_state=42)\n",
        "X_resampled, y_resampled = rus.fit_resample(X, y)\n",
        "\n",
        "# Maintenant, X_resampled et y_resampled contiennent les données sous-échantillonnées\n"
      ],
      "metadata": {
        "id": "3qbfKNHwHgmd"
      },
      "execution_count": null,
      "outputs": []
    },
    {
      "cell_type": "code",
      "source": [
        "#Réseaux de Neurones Convolutions (CNN)\n",
        "import pandas as pd\n",
        "import numpy as np\n",
        "from sklearn.model_selection import train_test_split\n",
        "from sklearn.preprocessing import StandardScaler, LabelEncoder\n",
        "from tensorflow.keras.models import Sequential\n",
        "from tensorflow.keras.layers import Conv1D, MaxPooling1D, Flatten, Dense\n",
        "from tensorflow import keras\n",
        "\n",
        "\n",
        "# Charger votre ensemble de données\n",
        "# Supposons que votre fichier s'appelle \"votre_dataset.csv\"\n",
        "df = pd.read_csv(\"/content/voice.csv\")\n",
        "\n",
        "# Prétraitement des données\n",
        "X = df.drop('label', axis=1)  # Les caractéristiques (X) excluant la colonne 'label'\n",
        "y = LabelEncoder().fit_transform(df['label'])  # Encodage de la colonne 'label'\n",
        "\n",
        "# Division en ensembles d'entraînement et de test\n",
        "X_train, X_test, y_train, y_test = train_test_split(X, y, test_size=0.2, random_state=42)\n",
        "\n",
        "# Normalisation des données\n",
        "scaler = StandardScaler()\n",
        "X_train = scaler.fit_transform(X_train)\n",
        "X_test = scaler.transform(X_test)\n",
        "\n",
        "# Reshape pour convenir à un CNN\n",
        "X_train = X_train.reshape((X_train.shape[0], X_train.shape[1], 1))\n",
        "X_test = X_test.reshape((X_test.shape[0], X_test.shape[1], 1))\n",
        "\n",
        "# Construction du modèle CNN\n",
        "model = Sequential()\n",
        "model.add(Conv1D(filters=32, kernel_size=3, activation='relu', input_shape=(X_train.shape[1], 1)))\n",
        "model.add(MaxPooling1D(pool_size=2))\n",
        "model.add(Conv1D(filters=64, kernel_size=3, activation='relu'))\n",
        "model.add(MaxPooling1D(pool_size=2))\n",
        "model.add(Flatten())\n",
        "model.add(Dense(128, activation='relu'))\n",
        "model.add(Dense(1, activation='sigmoid'))\n",
        "\n",
        "# Compilation du modèle\n",
        "model.compile(optimizer='adam', loss='binary_crossentropy', metrics=['accuracy'])\n",
        "\n",
        "# Entraînement du modèle\n",
        "model.fit(X_train, y_train, epochs=10, batch_size=32, validation_data=(X_test, y_test))\n",
        "\n",
        "# Évaluation du modèle\n",
        "loss, accuracy = model.evaluate(X_test, y_test)\n",
        "print(f'Test Accuracy: {accuracy * 100:.2f}%')\n",
        "# Sauvegarder le modèle au format natif Keras\n",
        "model.save('/content/GoogleDrive/CNN')\n",
        "\n",
        "# Charger le modèle\n",
        "loaded_model = keras.models.load_model('/content/GoogleDrive/CNN')\n",
        "\n"
      ],
      "metadata": {
        "colab": {
          "base_uri": "https://localhost:8080/"
        },
        "id": "26Vg3wi-CzSM",
        "outputId": "626dd8d8-0015-4fef-d132-16c162d621c8"
      },
      "execution_count": null,
      "outputs": [
        {
          "output_type": "stream",
          "name": "stdout",
          "text": [
            "Epoch 1/10\n",
            "80/80 [==============================] - 2s 8ms/step - loss: 0.3469 - accuracy: 0.8607 - val_loss: 0.1140 - val_accuracy: 0.9716\n",
            "Epoch 2/10\n",
            "80/80 [==============================] - 0s 4ms/step - loss: 0.1157 - accuracy: 0.9665 - val_loss: 0.0942 - val_accuracy: 0.9716\n",
            "Epoch 3/10\n",
            "80/80 [==============================] - 0s 5ms/step - loss: 0.0865 - accuracy: 0.9732 - val_loss: 0.0788 - val_accuracy: 0.9716\n",
            "Epoch 4/10\n",
            "80/80 [==============================] - 0s 5ms/step - loss: 0.0827 - accuracy: 0.9736 - val_loss: 0.0542 - val_accuracy: 0.9795\n",
            "Epoch 5/10\n",
            "80/80 [==============================] - 0s 5ms/step - loss: 0.0617 - accuracy: 0.9807 - val_loss: 0.0522 - val_accuracy: 0.9842\n",
            "Epoch 6/10\n",
            "80/80 [==============================] - 0s 4ms/step - loss: 0.0576 - accuracy: 0.9822 - val_loss: 0.0565 - val_accuracy: 0.9842\n",
            "Epoch 7/10\n",
            "80/80 [==============================] - 0s 5ms/step - loss: 0.0500 - accuracy: 0.9838 - val_loss: 0.0555 - val_accuracy: 0.9795\n",
            "Epoch 8/10\n",
            "80/80 [==============================] - 0s 5ms/step - loss: 0.0496 - accuracy: 0.9830 - val_loss: 0.0613 - val_accuracy: 0.9763\n",
            "Epoch 9/10\n",
            "80/80 [==============================] - 0s 5ms/step - loss: 0.0450 - accuracy: 0.9854 - val_loss: 0.0588 - val_accuracy: 0.9748\n",
            "Epoch 10/10\n",
            "80/80 [==============================] - 0s 5ms/step - loss: 0.0477 - accuracy: 0.9846 - val_loss: 0.0518 - val_accuracy: 0.9748\n",
            "20/20 [==============================] - 0s 2ms/step - loss: 0.0518 - accuracy: 0.9748\n",
            "Test Accuracy: 97.48%\n"
          ]
        }
      ]
    },
    {
      "cell_type": "code",
      "source": [
        "import os\n",
        "\n",
        "model_path = '/content/GoogleDrive/CNN'\n",
        "\n",
        "if os.path.exists(model_path):\n",
        "    print(\"Le fichier du modèle existe.\")\n",
        "else:\n",
        "    print(\"Le fichier du modèle n'existe pas. Vérifiez le chemin d'accès.\")\n"
      ],
      "metadata": {
        "colab": {
          "base_uri": "https://localhost:8080/"
        },
        "id": "K3MVuBDhygku",
        "outputId": "6e9d17e0-7e61-4b97-b498-8293e5440eea"
      },
      "execution_count": null,
      "outputs": [
        {
          "output_type": "stream",
          "name": "stdout",
          "text": [
            "Le fichier du modèle existe.\n"
          ]
        }
      ]
    },
    {
      "cell_type": "code",
      "source": [
        "import numpy as np\n",
        "import pandas as pd\n",
        "from sklearn.model_selection import train_test_split\n",
        "from sklearn.preprocessing import StandardScaler\n",
        "from tensorflow.keras.models import load_model\n",
        "\n",
        "# Charger votre ensemble de données\n",
        "df = pd.read_csv(\"/content/voice.csv\")\n",
        "\n",
        "# Prétraitement des données\n",
        "X = df.drop('label', axis=1)  # Les caractéristiques (X) excluant la colonne 'label'\n",
        "y = df['label']  # La colonne 'label'\n",
        "\n",
        "# Division en ensembles d'entraînement et de test\n",
        "X_train, X_test, y_train, y_test = train_test_split(X, y, test_size=0.2, random_state=42)\n",
        "\n",
        "# Normalisation des données\n",
        "scaler = StandardScaler()\n",
        "X_train = scaler.fit_transform(X_train)\n",
        "X_test = scaler.transform(X_test)\n",
        "\n"
      ],
      "metadata": {
        "id": "yuEujavzuRP9"
      },
      "execution_count": null,
      "outputs": []
    },
    {
      "cell_type": "code",
      "source": [
        "#Réseaux de Neurones Récursifs (RNN) et Long Short-Term Memory (LSTM)\n",
        "\n",
        "from tensorflow.keras.models import Sequential\n",
        "from tensorflow.keras.layers import LSTM, Dense\n",
        "from tensorflow import keras\n",
        "import pandas as pd\n",
        "from sklearn.model_selection import train_test_split\n",
        "from sklearn.preprocessing import StandardScaler, LabelEncoder\n",
        "\n",
        "# Charger votre ensemble de données\n",
        "df = pd.read_csv(\"/content/voice.csv\")\n",
        "\n",
        "# Prétraitement des données\n",
        "X = df.drop('label', axis=1)  # Les caractéristiques (X) excluant la colonne 'label'\n",
        "y = df['label']  # La colonne 'label'\n",
        "\n",
        "# Convertir les étiquettes en format numérique\n",
        "label_encoder = LabelEncoder()\n",
        "y = label_encoder.fit_transform(y)\n",
        "\n",
        "# Division en ensembles d'entraînement et de test\n",
        "X_train, X_test, y_train, y_test = train_test_split(X, y, test_size=0.2, random_state=42)\n",
        "\n",
        "# Normalisation des données\n",
        "scaler = StandardScaler()\n",
        "X_train = scaler.fit_transform(X_train)\n",
        "X_test = scaler.transform(X_test)\n",
        "\n",
        "# Reshape pour convenir à un LSTM\n",
        "X_train = X_train.reshape((X_train.shape[0], X_train.shape[1], 1))\n",
        "X_test = X_test.reshape((X_test.shape[0], X_test.shape[1], 1))\n",
        "\n",
        "# Construction du modèle LSTM\n",
        "model_lstm = Sequential()\n",
        "model_lstm.add(LSTM(units=50, input_shape=(X_train.shape[1], 1)))\n",
        "model_lstm.add(Dense(units=1, activation='sigmoid'))\n",
        "\n",
        "# Compilation du modèle\n",
        "model_lstm.compile(optimizer='adam', loss='binary_crossentropy', metrics=['accuracy'])\n",
        "\n",
        "# Entraînement du modèle\n",
        "model_lstm.fit(X_train, y_train, epochs=20, batch_size=32, validation_data=(X_test, y_test))\n",
        "\n",
        "# Évaluation du modèle\n",
        "loss, accuracy = model_lstm.evaluate(X_test, y_test)\n",
        "print(f'Test Accuracy: {accuracy * 100:.2f}%')\n",
        "\n"
      ],
      "metadata": {
        "colab": {
          "base_uri": "https://localhost:8080/"
        },
        "id": "rH9Ps63Q_zto",
        "outputId": "5443f85c-e669-4c45-eee3-f7b81583e9c9"
      },
      "execution_count": null,
      "outputs": [
        {
          "output_type": "stream",
          "name": "stdout",
          "text": [
            "Epoch 1/20\n",
            "80/80 [==============================] - 4s 19ms/step - loss: 0.5980 - accuracy: 0.6709 - val_loss: 0.4726 - val_accuracy: 0.7823\n",
            "Epoch 2/20\n",
            "80/80 [==============================] - 2s 19ms/step - loss: 0.4385 - accuracy: 0.7991 - val_loss: 0.3848 - val_accuracy: 0.8438\n",
            "Epoch 3/20\n",
            "80/80 [==============================] - 2s 19ms/step - loss: 0.3924 - accuracy: 0.8275 - val_loss: 0.3783 - val_accuracy: 0.8454\n",
            "Epoch 4/20\n",
            "80/80 [==============================] - 1s 13ms/step - loss: 0.3741 - accuracy: 0.8362 - val_loss: 0.3310 - val_accuracy: 0.8754\n",
            "Epoch 5/20\n",
            "80/80 [==============================] - 1s 12ms/step - loss: 0.3449 - accuracy: 0.8599 - val_loss: 0.3213 - val_accuracy: 0.8707\n",
            "Epoch 6/20\n",
            "80/80 [==============================] - 1s 12ms/step - loss: 0.3336 - accuracy: 0.8623 - val_loss: 0.2857 - val_accuracy: 0.8912\n",
            "Epoch 7/20\n",
            "80/80 [==============================] - 1s 12ms/step - loss: 0.3140 - accuracy: 0.8792 - val_loss: 0.4037 - val_accuracy: 0.8155\n",
            "Epoch 8/20\n",
            "80/80 [==============================] - 1s 12ms/step - loss: 0.3006 - accuracy: 0.8848 - val_loss: 0.2863 - val_accuracy: 0.8896\n",
            "Epoch 9/20\n",
            "80/80 [==============================] - 1s 12ms/step - loss: 0.2876 - accuracy: 0.8919 - val_loss: 0.2400 - val_accuracy: 0.9148\n",
            "Epoch 10/20\n",
            "80/80 [==============================] - 1s 13ms/step - loss: 0.2596 - accuracy: 0.9025 - val_loss: 0.2540 - val_accuracy: 0.9069\n",
            "Epoch 11/20\n",
            "80/80 [==============================] - 1s 13ms/step - loss: 0.2530 - accuracy: 0.9077 - val_loss: 0.2303 - val_accuracy: 0.9196\n",
            "Epoch 12/20\n",
            "80/80 [==============================] - 1s 12ms/step - loss: 0.2428 - accuracy: 0.9100 - val_loss: 0.2249 - val_accuracy: 0.9101\n",
            "Epoch 13/20\n",
            "80/80 [==============================] - 1s 13ms/step - loss: 0.2369 - accuracy: 0.9092 - val_loss: 0.2295 - val_accuracy: 0.9117\n",
            "Epoch 14/20\n",
            "80/80 [==============================] - 2s 20ms/step - loss: 0.2307 - accuracy: 0.9120 - val_loss: 0.2027 - val_accuracy: 0.9211\n",
            "Epoch 15/20\n",
            "80/80 [==============================] - 1s 17ms/step - loss: 0.2251 - accuracy: 0.9155 - val_loss: 0.1969 - val_accuracy: 0.9338\n",
            "Epoch 16/20\n",
            "80/80 [==============================] - 1s 13ms/step - loss: 0.2158 - accuracy: 0.9152 - val_loss: 0.1893 - val_accuracy: 0.9274\n",
            "Epoch 17/20\n",
            "80/80 [==============================] - 1s 13ms/step - loss: 0.2188 - accuracy: 0.9195 - val_loss: 0.2176 - val_accuracy: 0.9259\n",
            "Epoch 18/20\n",
            "80/80 [==============================] - 1s 13ms/step - loss: 0.2065 - accuracy: 0.9223 - val_loss: 0.1599 - val_accuracy: 0.9432\n",
            "Epoch 19/20\n",
            "80/80 [==============================] - 1s 13ms/step - loss: 0.1987 - accuracy: 0.9301 - val_loss: 0.1747 - val_accuracy: 0.9338\n",
            "Epoch 20/20\n",
            "80/80 [==============================] - 1s 12ms/step - loss: 0.1887 - accuracy: 0.9286 - val_loss: 0.1763 - val_accuracy: 0.9416\n",
            "20/20 [==============================] - 0s 5ms/step - loss: 0.1763 - accuracy: 0.9416\n",
            "Test Accuracy: 94.16%\n"
          ]
        }
      ]
    },
    {
      "cell_type": "code",
      "source": [
        "# Sauvegarder le modèle au format natif Keras\n",
        "model_lstm.save('/content/GoogleDrive/LSTM')\n",
        "\n",
        "# Charger le modèle\n",
        "loaded_model_lstm = keras.models.load_model('/content/GoogleDrive/LSTM')\n"
      ],
      "metadata": {
        "id": "S2X5kQbyDi3q"
      },
      "execution_count": null,
      "outputs": []
    },
    {
      "cell_type": "code",
      "source": [
        "import os\n",
        "\n",
        "model_path = '/content/GoogleDrive/LSTM'\n",
        "\n",
        "if os.path.exists(model_path):\n",
        "    print(\"Le fichier du modèle existe.\")\n",
        "else:\n",
        "    print(\"Le fichier du modèle n'existe pas. Vérifiez le chemin d'accès.\")\n"
      ],
      "metadata": {
        "colab": {
          "base_uri": "https://localhost:8080/"
        },
        "id": "1B3qBBWjD9Wg",
        "outputId": "01d2d884-f7f0-4772-ea4b-672439cfaec7"
      },
      "execution_count": null,
      "outputs": [
        {
          "output_type": "stream",
          "name": "stdout",
          "text": [
            "Le fichier du modèle existe.\n"
          ]
        }
      ]
    },
    {
      "cell_type": "code",
      "source": [
        "#Support Vector Machines (SVM)\n",
        "import pandas as pd\n",
        "from sklearn.model_selection import train_test_split\n",
        "from sklearn.preprocessing import StandardScaler, LabelEncoder\n",
        "from sklearn.svm import SVC\n",
        "from sklearn.metrics import accuracy_score, classification_report\n",
        "\n",
        "# Charger votre ensemble de données\n",
        "# Supposons que votre fichier s'appelle \"votre_dataset.csv\"\n",
        "df = pd.read_csv(\"/content/voice.csv\")\n",
        "\n",
        "# Prétraitement des données\n",
        "X = df.drop('label', axis=1)  # Les caractéristiques (X) excluant la colonne 'label'\n",
        "y = LabelEncoder().fit_transform(df['label'])  # Encodage de la colonne 'label'\n",
        "\n",
        "# Division en ensembles d'entraînement et de test\n",
        "X_train, X_test, y_train, y_test = train_test_split(X, y, test_size=0.2, random_state=42)\n",
        "\n",
        "# Normalisation des données\n",
        "scaler = StandardScaler()\n",
        "X_train = scaler.fit_transform(X_train)\n",
        "X_test = scaler.transform(X_test)\n",
        "\n",
        "# Construction du modèle SVM\n",
        "model = SVC()\n",
        "model.fit(X_train, y_train)\n",
        "\n",
        "# Prédictions sur l'ensemble de test\n",
        "y_pred = model.predict(X_test)\n",
        "\n",
        "# Évaluation du modèle\n",
        "accuracy = accuracy_score(y_test, y_pred)\n",
        "print(f'Accuracy: {accuracy * 100:.2f}%')\n",
        "\n",
        "# Affichage du rapport de classification\n",
        "print(\"Classification Report:\")\n",
        "print(classification_report(y_test, y_pred))\n"
      ],
      "metadata": {
        "colab": {
          "base_uri": "https://localhost:8080/"
        },
        "id": "HPGzH1oSJoYw",
        "outputId": "f27dbd74-7128-4ff6-f3f7-2c9e54fa0f47"
      },
      "execution_count": null,
      "outputs": [
        {
          "output_type": "stream",
          "name": "stdout",
          "text": [
            "Accuracy: 98.26%\n",
            "Classification Report:\n",
            "              precision    recall  f1-score   support\n",
            "\n",
            "           0       0.98      0.99      0.98       297\n",
            "           1       0.99      0.98      0.98       337\n",
            "\n",
            "    accuracy                           0.98       634\n",
            "   macro avg       0.98      0.98      0.98       634\n",
            "weighted avg       0.98      0.98      0.98       634\n",
            "\n"
          ]
        }
      ]
    },
    {
      "cell_type": "code",
      "source": [
        "!pip install joblib\n",
        "import joblib\n",
        "\n",
        "# Sauvegarder le modèle SVM\n",
        "model_filename = '/content/GoogleDrive/svm_model.joblib'\n",
        "joblib.dump(model, model_filename)\n",
        "print(f\"Modèle SVM enregistré sous {model_filename}\")\n",
        "\n",
        "# Charger le modèle sauvegardé\n",
        "loaded_model = joblib.load(model_filename)\n",
        "\n",
        "# Supposons que votre scaler s'appelle \"scaler\" (vous devez utiliser le même nom que dans votre code)\n",
        "scaler_params = {'mean': scaler.mean_, 'scale': scaler.scale_}\n",
        "\n",
        "# Enregistrez les paramètres du scaler\n",
        "joblib.dump(scaler_params, '/content/GoogleDrive/scaler_params.joblib')\n",
        "\n"
      ],
      "metadata": {
        "colab": {
          "base_uri": "https://localhost:8080/"
        },
        "id": "mFJJmFVoEzTI",
        "outputId": "ac9a26d9-df9b-4096-d427-19a2491ae9a6"
      },
      "execution_count": null,
      "outputs": [
        {
          "output_type": "stream",
          "name": "stdout",
          "text": [
            "Requirement already satisfied: joblib in /usr/local/lib/python3.10/dist-packages (1.3.2)\n",
            "Modèle SVM enregistré sous /content/GoogleDrive/svm_model.joblib\n"
          ]
        },
        {
          "output_type": "execute_result",
          "data": {
            "text/plain": [
              "['/content/GoogleDrive/scaler_params.joblib']"
            ]
          },
          "metadata": {},
          "execution_count": 14
        }
      ]
    },
    {
      "cell_type": "code",
      "source": [
        "#Deep Neural Networks (DNN)\n",
        "# Import necessary libraries\n",
        "import pandas as pd\n",
        "from sklearn.model_selection import train_test_split\n",
        "from sklearn.preprocessing import StandardScaler, LabelEncoder\n",
        "from sklearn.metrics import accuracy_score, classification_report\n",
        "import tensorflow as tf\n",
        "from tensorflow.keras import Sequential\n",
        "from tensorflow.keras.layers import Dense\n",
        "\n",
        "# Load your dataset\n",
        "# Make sure to provide the correct path to your dataset file\n",
        "data = pd.read_csv(\"/content/voice.csv\")\n",
        "\n",
        "# Split the data into features (X) and labels (y)\n",
        "X = data.drop('label', axis=1)\n",
        "y = data['label']\n",
        "\n",
        "# Convert labels to numerical values (0 for 'female' and 1 for 'male')\n",
        "le = LabelEncoder()\n",
        "y = le.fit_transform(y)\n",
        "\n",
        "# Split the data into training and testing sets\n",
        "X_train, X_test, y_train, y_test = train_test_split(X, y, test_size=0.2, random_state=42)\n",
        "\n",
        "# Standardize the features\n",
        "scaler = StandardScaler()\n",
        "X_train = scaler.fit_transform(X_train)\n",
        "X_test = scaler.transform(X_test)\n",
        "\n",
        "# Build the Deep Neural Network (DNN) model\n",
        "model = Sequential()\n",
        "model.add(Dense(64, input_dim=X_train.shape[1], activation='relu'))\n",
        "model.add(Dense(32, activation='relu'))\n",
        "model.add(Dense(1, activation='sigmoid'))\n",
        "\n",
        "# Compile the model\n",
        "model.compile(optimizer='adam', loss='binary_crossentropy', metrics=['accuracy'])\n",
        "\n",
        "# Train the model\n",
        "model.fit(X_train, y_train, epochs=10, batch_size=32, validation_data=(X_test, y_test))\n",
        "\n",
        "# Evaluate the model on the test set\n",
        "y_pred = (model.predict(X_test) > 0.5).astype(int)\n",
        "accuracy = accuracy_score(y_test, y_pred)\n",
        "classification_report_result = classification_report(y_test, y_pred)\n",
        "\n",
        "# Print the results\n",
        "print(f\"Accuracy: {accuracy}\")\n",
        "print(\"Classification Report:\\n\", classification_report_result)\n"
      ],
      "metadata": {
        "colab": {
          "base_uri": "https://localhost:8080/"
        },
        "id": "KgJZD2qkEf0f",
        "outputId": "a6d5b81d-a773-4156-d2db-655699cec8e7"
      },
      "execution_count": null,
      "outputs": [
        {
          "output_type": "stream",
          "name": "stdout",
          "text": [
            "Epoch 1/10\n",
            "80/80 [==============================] - 1s 7ms/step - loss: 0.3510 - accuracy: 0.8635 - val_loss: 0.1439 - val_accuracy: 0.9700\n",
            "Epoch 2/10\n",
            "80/80 [==============================] - 0s 3ms/step - loss: 0.1124 - accuracy: 0.9665 - val_loss: 0.0828 - val_accuracy: 0.9779\n",
            "Epoch 3/10\n",
            "80/80 [==============================] - 0s 4ms/step - loss: 0.0796 - accuracy: 0.9743 - val_loss: 0.0680 - val_accuracy: 0.9826\n",
            "Epoch 4/10\n",
            "80/80 [==============================] - 0s 5ms/step - loss: 0.0708 - accuracy: 0.9783 - val_loss: 0.0655 - val_accuracy: 0.9779\n",
            "Epoch 5/10\n",
            "80/80 [==============================] - 0s 5ms/step - loss: 0.0642 - accuracy: 0.9795 - val_loss: 0.0617 - val_accuracy: 0.9858\n",
            "Epoch 6/10\n",
            "80/80 [==============================] - 0s 5ms/step - loss: 0.0600 - accuracy: 0.9795 - val_loss: 0.0609 - val_accuracy: 0.9842\n",
            "Epoch 7/10\n",
            "80/80 [==============================] - 1s 6ms/step - loss: 0.0570 - accuracy: 0.9818 - val_loss: 0.0614 - val_accuracy: 0.9858\n",
            "Epoch 8/10\n",
            "80/80 [==============================] - 1s 14ms/step - loss: 0.0533 - accuracy: 0.9822 - val_loss: 0.0610 - val_accuracy: 0.9842\n",
            "Epoch 9/10\n",
            "80/80 [==============================] - 1s 14ms/step - loss: 0.0503 - accuracy: 0.9811 - val_loss: 0.0594 - val_accuracy: 0.9858\n",
            "Epoch 10/10\n",
            "80/80 [==============================] - 1s 12ms/step - loss: 0.0478 - accuracy: 0.9842 - val_loss: 0.0594 - val_accuracy: 0.9858\n",
            "20/20 [==============================] - 1s 7ms/step\n",
            "Accuracy: 0.9858044164037855\n",
            "Classification Report:\n",
            "               precision    recall  f1-score   support\n",
            "\n",
            "           0       0.98      0.99      0.98       297\n",
            "           1       0.99      0.99      0.99       337\n",
            "\n",
            "    accuracy                           0.99       634\n",
            "   macro avg       0.99      0.99      0.99       634\n",
            "weighted avg       0.99      0.99      0.99       634\n",
            "\n"
          ]
        }
      ]
    },
    {
      "cell_type": "code",
      "source": [
        "from tensorflow import keras\n",
        "model_dnn = keras.models.Sequential()\n",
        "\n",
        "# Sauvegarder le modèle au format natif Keras\n",
        "model.save('/content/GoogleDrive/DNN')\n",
        "\n",
        "# Charger le modèle\n",
        "loaded_model_DNN = keras.models.load_model('/content/GoogleDrive/DNN')\n"
      ],
      "metadata": {
        "id": "ZTMHOsKkT_il"
      },
      "execution_count": null,
      "outputs": []
    },
    {
      "cell_type": "code",
      "source": [
        "#Ensemble Methods (forêts aléatoires)\n",
        "# Importer les bibliothèques nécessaires\n",
        "import pandas as pd\n",
        "from sklearn.model_selection import train_test_split\n",
        "from sklearn.ensemble import RandomForestClassifier\n",
        "from sklearn.metrics import accuracy_score, classification_report\n",
        "\n",
        "# Charger votre ensemble de données\n",
        "# Assurez-vous que le chemin du fichier est correct\n",
        "data = pd.read_csv(\"/content/voice.csv\")\n",
        "\n",
        "# Diviser les données en fonctionnalités (X) et étiquettes (y)\n",
        "X = data.drop('label', axis=1)  # Caractéristiques\n",
        "y = data['label']  # Étiquettes\n",
        "\n",
        "# Diviser les données en ensembles d'entraînement et de test\n",
        "X_train, X_test, y_train, y_test = train_test_split(X, y, test_size=0.2, random_state=42)\n",
        "\n",
        "# Initialiser et entraîner le modèle de forêt aléatoire\n",
        "rf_classifier = RandomForestClassifier(random_state=42)\n",
        "rf_classifier.fit(X_train, y_train)\n",
        "\n",
        "# Prédire les étiquettes sur l'ensemble de test\n",
        "y_pred = rf_classifier.predict(X_test)\n",
        "\n",
        "# Évaluer la performance du modèle\n",
        "accuracy = accuracy_score(y_test, y_pred)\n",
        "classification_report_result = classification_report(y_test, y_pred)\n",
        "\n",
        "# Afficher les résultats\n",
        "print(f\"Accuracy: {accuracy}\")\n",
        "print(\"Classification Report:\\n\", classification_report_result)\n",
        "\n"
      ],
      "metadata": {
        "colab": {
          "base_uri": "https://localhost:8080/"
        },
        "id": "-FUL7E1gHRPJ",
        "outputId": "f33cce90-8610-4dc1-f5cc-6fd9f54d25bf"
      },
      "execution_count": null,
      "outputs": [
        {
          "output_type": "stream",
          "name": "stdout",
          "text": [
            "Accuracy: 0.9842271293375394\n",
            "Classification Report:\n",
            "               precision    recall  f1-score   support\n",
            "\n",
            "      female       0.97      0.99      0.98       297\n",
            "        male       0.99      0.98      0.99       337\n",
            "\n",
            "    accuracy                           0.98       634\n",
            "   macro avg       0.98      0.98      0.98       634\n",
            "weighted avg       0.98      0.98      0.98       634\n",
            "\n"
          ]
        }
      ]
    },
    {
      "cell_type": "code",
      "source": [
        "from tensorflow import keras\n",
        "model_FA = keras.models.Sequential()\n",
        "\n",
        "# Sauvegarder le modèle au format natif Keras\n",
        "model.save('/content/GoogleDrive/FA')\n",
        "\n",
        "# Charger le modèle\n",
        "loaded_model_FA= keras.models.load_model('/content/GoogleDrive/FA')\n"
      ],
      "metadata": {
        "id": "IdvGPMLTkFT5"
      },
      "execution_count": null,
      "outputs": []
    },
    {
      "cell_type": "code",
      "source": [
        "#modele Bayesian\n",
        "!pip install pgmpy\n",
        "\n",
        "import numpy as np\n",
        "import pandas as pd\n",
        "from pgmpy.models import BayesianModel\n",
        "from pgmpy.estimators import ParameterEstimator, MaximumLikelihoodEstimator\n",
        "from sklearn.model_selection import train_test_split\n",
        "\n",
        "# Supposez que votre dataset est dans une variable appelée df\n",
        "# X_train est l'ensemble de données d'entraînement\n",
        "# X_test est l'ensemble de données de test\n",
        "df = pd.read_csv(\"/content/voice.csv\")\n",
        "\n",
        "# Diviser les données en ensembles d'entraînement et de test\n",
        "X_train, X_test = train_test_split(df, test_size=0.2, random_state=42)\n",
        "\n",
        "# Créer le modèle bayésien\n",
        "model = BayesianModel()\n",
        "\n",
        "# Ajouter des transitions entre les états\n",
        "for column in X_train.columns:\n",
        "    if column != 'label':\n",
        "        model.add_node(column)\n",
        "\n",
        "for i in range(1, len(X_train.columns) - 1):\n",
        "    model.add_edge(X_train.columns[i-1], X_train.columns[i])\n",
        "\n",
        "# Générer des données aléatoires\n",
        "X = X_train.drop('label', axis=1)\n",
        "\n",
        "# Entraîner le modèle avec les données d'entraînement\n",
        "model.fit(X, estimator=MaximumLikelihoodEstimator)\n",
        "\n",
        "# Afficher la structure du modèle\n",
        "print(\"Structure du modèle:\", model.edges())\n"
      ],
      "metadata": {
        "colab": {
          "base_uri": "https://localhost:8080/"
        },
        "id": "8osgqtHNQ0nu",
        "outputId": "6e6b8649-01c4-4dbf-bb8b-e2427832196b"
      },
      "execution_count": null,
      "outputs": [
        {
          "output_type": "stream",
          "name": "stdout",
          "text": [
            "Collecting pgmpy\n",
            "  Downloading pgmpy-0.1.25-py3-none-any.whl (2.0 MB)\n",
            "\u001b[2K     \u001b[90m━━━━━━━━━━━━━━━━━━━━━━━━━━━━━━━━━━━━━━━━\u001b[0m \u001b[32m2.0/2.0 MB\u001b[0m \u001b[31m9.6 MB/s\u001b[0m eta \u001b[36m0:00:00\u001b[0m\n",
            "\u001b[?25hRequirement already satisfied: networkx in /usr/local/lib/python3.10/dist-packages (from pgmpy) (3.2.1)\n",
            "Requirement already satisfied: numpy in /usr/local/lib/python3.10/dist-packages (from pgmpy) (1.25.2)\n",
            "Requirement already satisfied: scipy in /usr/local/lib/python3.10/dist-packages (from pgmpy) (1.11.4)\n",
            "Requirement already satisfied: scikit-learn in /usr/local/lib/python3.10/dist-packages (from pgmpy) (1.2.2)\n",
            "Requirement already satisfied: pandas in /usr/local/lib/python3.10/dist-packages (from pgmpy) (1.5.3)\n",
            "Requirement already satisfied: pyparsing in /usr/local/lib/python3.10/dist-packages (from pgmpy) (3.1.2)\n",
            "Requirement already satisfied: torch in /usr/local/lib/python3.10/dist-packages (from pgmpy) (2.2.1+cu121)\n",
            "Requirement already satisfied: statsmodels in /usr/local/lib/python3.10/dist-packages (from pgmpy) (0.14.1)\n",
            "Requirement already satisfied: tqdm in /usr/local/lib/python3.10/dist-packages (from pgmpy) (4.66.2)\n",
            "Requirement already satisfied: joblib in /usr/local/lib/python3.10/dist-packages (from pgmpy) (1.3.2)\n",
            "Requirement already satisfied: opt-einsum in /usr/local/lib/python3.10/dist-packages (from pgmpy) (3.3.0)\n",
            "Requirement already satisfied: python-dateutil>=2.8.1 in /usr/local/lib/python3.10/dist-packages (from pandas->pgmpy) (2.8.2)\n",
            "Requirement already satisfied: pytz>=2020.1 in /usr/local/lib/python3.10/dist-packages (from pandas->pgmpy) (2023.4)\n",
            "Requirement already satisfied: threadpoolctl>=2.0.0 in /usr/local/lib/python3.10/dist-packages (from scikit-learn->pgmpy) (3.4.0)\n",
            "Requirement already satisfied: patsy>=0.5.4 in /usr/local/lib/python3.10/dist-packages (from statsmodels->pgmpy) (0.5.6)\n",
            "Requirement already satisfied: packaging>=21.3 in /usr/local/lib/python3.10/dist-packages (from statsmodels->pgmpy) (24.0)\n",
            "Requirement already satisfied: filelock in /usr/local/lib/python3.10/dist-packages (from torch->pgmpy) (3.13.3)\n",
            "Requirement already satisfied: typing-extensions>=4.8.0 in /usr/local/lib/python3.10/dist-packages (from torch->pgmpy) (4.10.0)\n",
            "Requirement already satisfied: sympy in /usr/local/lib/python3.10/dist-packages (from torch->pgmpy) (1.12)\n",
            "Requirement already satisfied: jinja2 in /usr/local/lib/python3.10/dist-packages (from torch->pgmpy) (3.1.3)\n",
            "Requirement already satisfied: fsspec in /usr/local/lib/python3.10/dist-packages (from torch->pgmpy) (2023.6.0)\n",
            "Collecting nvidia-cuda-nvrtc-cu12==12.1.105 (from torch->pgmpy)\n",
            "  Downloading nvidia_cuda_nvrtc_cu12-12.1.105-py3-none-manylinux1_x86_64.whl (23.7 MB)\n",
            "\u001b[2K     \u001b[90m━━━━━━━━━━━━━━━━━━━━━━━━━━━━━━━━━━━━━━━━\u001b[0m \u001b[32m23.7/23.7 MB\u001b[0m \u001b[31m16.6 MB/s\u001b[0m eta \u001b[36m0:00:00\u001b[0m\n",
            "\u001b[?25hCollecting nvidia-cuda-runtime-cu12==12.1.105 (from torch->pgmpy)\n",
            "  Downloading nvidia_cuda_runtime_cu12-12.1.105-py3-none-manylinux1_x86_64.whl (823 kB)\n",
            "\u001b[2K     \u001b[90m━━━━━━━━━━━━━━━━━━━━━━━━━━━━━━━━━━━━━━━━\u001b[0m \u001b[32m823.6/823.6 kB\u001b[0m \u001b[31m40.6 MB/s\u001b[0m eta \u001b[36m0:00:00\u001b[0m\n",
            "\u001b[?25hCollecting nvidia-cuda-cupti-cu12==12.1.105 (from torch->pgmpy)\n",
            "  Downloading nvidia_cuda_cupti_cu12-12.1.105-py3-none-manylinux1_x86_64.whl (14.1 MB)\n",
            "\u001b[2K     \u001b[90m━━━━━━━━━━━━━━━━━━━━━━━━━━━━━━━━━━━━━━━━\u001b[0m \u001b[32m14.1/14.1 MB\u001b[0m \u001b[31m30.3 MB/s\u001b[0m eta \u001b[36m0:00:00\u001b[0m\n",
            "\u001b[?25hCollecting nvidia-cudnn-cu12==8.9.2.26 (from torch->pgmpy)\n",
            "  Downloading nvidia_cudnn_cu12-8.9.2.26-py3-none-manylinux1_x86_64.whl (731.7 MB)\n",
            "\u001b[2K     \u001b[90m━━━━━━━━━━━━━━━━━━━━━━━━━━━━━━━━━━━━━━━━\u001b[0m \u001b[32m731.7/731.7 MB\u001b[0m \u001b[31m1.1 MB/s\u001b[0m eta \u001b[36m0:00:00\u001b[0m\n",
            "\u001b[?25hCollecting nvidia-cublas-cu12==12.1.3.1 (from torch->pgmpy)\n",
            "  Downloading nvidia_cublas_cu12-12.1.3.1-py3-none-manylinux1_x86_64.whl (410.6 MB)\n",
            "\u001b[2K     \u001b[90m━━━━━━━━━━━━━━━━━━━━━━━━━━━━━━━━━━━━━━━━\u001b[0m \u001b[32m410.6/410.6 MB\u001b[0m \u001b[31m2.8 MB/s\u001b[0m eta \u001b[36m0:00:00\u001b[0m\n",
            "\u001b[?25hCollecting nvidia-cufft-cu12==11.0.2.54 (from torch->pgmpy)\n",
            "  Downloading nvidia_cufft_cu12-11.0.2.54-py3-none-manylinux1_x86_64.whl (121.6 MB)\n",
            "\u001b[2K     \u001b[90m━━━━━━━━━━━━━━━━━━━━━━━━━━━━━━━━━━━━━━━━\u001b[0m \u001b[32m121.6/121.6 MB\u001b[0m \u001b[31m8.9 MB/s\u001b[0m eta \u001b[36m0:00:00\u001b[0m\n",
            "\u001b[?25hCollecting nvidia-curand-cu12==10.3.2.106 (from torch->pgmpy)\n",
            "  Downloading nvidia_curand_cu12-10.3.2.106-py3-none-manylinux1_x86_64.whl (56.5 MB)\n",
            "\u001b[2K     \u001b[90m━━━━━━━━━━━━━━━━━━━━━━━━━━━━━━━━━━━━━━━━\u001b[0m \u001b[32m56.5/56.5 MB\u001b[0m \u001b[31m10.6 MB/s\u001b[0m eta \u001b[36m0:00:00\u001b[0m\n",
            "\u001b[?25hCollecting nvidia-cusolver-cu12==11.4.5.107 (from torch->pgmpy)\n",
            "  Downloading nvidia_cusolver_cu12-11.4.5.107-py3-none-manylinux1_x86_64.whl (124.2 MB)\n",
            "\u001b[2K     \u001b[90m━━━━━━━━━━━━━━━━━━━━━━━━━━━━━━━━━━━━━━━━\u001b[0m \u001b[32m124.2/124.2 MB\u001b[0m \u001b[31m6.6 MB/s\u001b[0m eta \u001b[36m0:00:00\u001b[0m\n",
            "\u001b[?25hCollecting nvidia-cusparse-cu12==12.1.0.106 (from torch->pgmpy)\n",
            "  Downloading nvidia_cusparse_cu12-12.1.0.106-py3-none-manylinux1_x86_64.whl (196.0 MB)\n",
            "\u001b[2K     \u001b[90m━━━━━━━━━━━━━━━━━━━━━━━━━━━━━━━━━━━━━━━━\u001b[0m \u001b[32m196.0/196.0 MB\u001b[0m \u001b[31m2.5 MB/s\u001b[0m eta \u001b[36m0:00:00\u001b[0m\n",
            "\u001b[?25hCollecting nvidia-nccl-cu12==2.19.3 (from torch->pgmpy)\n",
            "  Downloading nvidia_nccl_cu12-2.19.3-py3-none-manylinux1_x86_64.whl (166.0 MB)\n",
            "\u001b[2K     \u001b[90m━━━━━━━━━━━━━━━━━━━━━━━━━━━━━━━━━━━━━━━━\u001b[0m \u001b[32m166.0/166.0 MB\u001b[0m \u001b[31m5.1 MB/s\u001b[0m eta \u001b[36m0:00:00\u001b[0m\n",
            "\u001b[?25hCollecting nvidia-nvtx-cu12==12.1.105 (from torch->pgmpy)\n",
            "  Downloading nvidia_nvtx_cu12-12.1.105-py3-none-manylinux1_x86_64.whl (99 kB)\n",
            "\u001b[2K     \u001b[90m━━━━━━━━━━━━━━━━━━━━━━━━━━━━━━━━━━━━━━━━\u001b[0m \u001b[32m99.1/99.1 kB\u001b[0m \u001b[31m11.5 MB/s\u001b[0m eta \u001b[36m0:00:00\u001b[0m\n",
            "\u001b[?25hRequirement already satisfied: triton==2.2.0 in /usr/local/lib/python3.10/dist-packages (from torch->pgmpy) (2.2.0)\n",
            "Collecting nvidia-nvjitlink-cu12 (from nvidia-cusolver-cu12==11.4.5.107->torch->pgmpy)\n",
            "  Downloading nvidia_nvjitlink_cu12-12.4.99-py3-none-manylinux2014_x86_64.whl (21.1 MB)\n",
            "\u001b[2K     \u001b[90m━━━━━━━━━━━━━━━━━━━━━━━━━━━━━━━━━━━━━━━━\u001b[0m \u001b[32m21.1/21.1 MB\u001b[0m \u001b[31m57.1 MB/s\u001b[0m eta \u001b[36m0:00:00\u001b[0m\n",
            "\u001b[?25hRequirement already satisfied: six in /usr/local/lib/python3.10/dist-packages (from patsy>=0.5.4->statsmodels->pgmpy) (1.16.0)\n",
            "Requirement already satisfied: MarkupSafe>=2.0 in /usr/local/lib/python3.10/dist-packages (from jinja2->torch->pgmpy) (2.1.5)\n",
            "Requirement already satisfied: mpmath>=0.19 in /usr/local/lib/python3.10/dist-packages (from sympy->torch->pgmpy) (1.3.0)\n",
            "Installing collected packages: nvidia-nvtx-cu12, nvidia-nvjitlink-cu12, nvidia-nccl-cu12, nvidia-curand-cu12, nvidia-cufft-cu12, nvidia-cuda-runtime-cu12, nvidia-cuda-nvrtc-cu12, nvidia-cuda-cupti-cu12, nvidia-cublas-cu12, nvidia-cusparse-cu12, nvidia-cudnn-cu12, nvidia-cusolver-cu12, pgmpy\n",
            "Successfully installed nvidia-cublas-cu12-12.1.3.1 nvidia-cuda-cupti-cu12-12.1.105 nvidia-cuda-nvrtc-cu12-12.1.105 nvidia-cuda-runtime-cu12-12.1.105 nvidia-cudnn-cu12-8.9.2.26 nvidia-cufft-cu12-11.0.2.54 nvidia-curand-cu12-10.3.2.106 nvidia-cusolver-cu12-11.4.5.107 nvidia-cusparse-cu12-12.1.0.106 nvidia-nccl-cu12-2.19.3 nvidia-nvjitlink-cu12-12.4.99 nvidia-nvtx-cu12-12.1.105 pgmpy-0.1.25\n"
          ]
        },
        {
          "output_type": "stream",
          "name": "stderr",
          "text": [
            "WARNING:pgmpy:BayesianModel has been renamed to BayesianNetwork. Please use BayesianNetwork class, BayesianModel will be removed in future.\n"
          ]
        },
        {
          "output_type": "stream",
          "name": "stdout",
          "text": [
            "Structure du modèle: [('meanfreq', 'sd'), ('sd', 'median'), ('median', 'Q25'), ('Q25', 'Q75'), ('Q75', 'IQR'), ('IQR', 'skew'), ('skew', 'kurt'), ('kurt', 'sp.ent'), ('sp.ent', 'sfm'), ('sfm', 'mode'), ('mode', 'centroid'), ('centroid', 'meanfun'), ('meanfun', 'minfun'), ('minfun', 'maxfun'), ('maxfun', 'meandom'), ('meandom', 'mindom'), ('mindom', 'maxdom'), ('maxdom', 'dfrange'), ('dfrange', 'modindx')]\n"
          ]
        }
      ]
    },
    {
      "cell_type": "code",
      "source": [
        "#Réseaux de Neurones auto-encodeurs\n",
        "import numpy as np\n",
        "import pandas as pd\n",
        "from sklearn.model_selection import train_test_split\n",
        "from sklearn.preprocessing import StandardScaler\n",
        "from tensorflow.keras.models import Model\n",
        "from tensorflow.keras.layers import Input, Dense\n",
        "\n",
        "# Charger les données\n",
        "# Assurez-vous que votre fichier de données est dans le même répertoire que votre script ou fournissez le chemin complet.\n",
        "data = pd.read_csv('/content/voice.csv')\n",
        "\n",
        "# Diviser les données en fonction des caractéristiques et de l'étiquette\n",
        "X = data.drop('label', axis=1)\n",
        "y = data['label']\n",
        "\n",
        "# Normaliser les données\n",
        "scaler = StandardScaler()\n",
        "X_scaled = scaler.fit_transform(X)\n",
        "\n",
        "# Diviser les données en ensembles d'entraînement et de test\n",
        "X_train, X_test, y_train, y_test = train_test_split(X_scaled, y, test_size=0.2, random_state=42)\n",
        "\n",
        "# Définir le modèle auto-encodeur\n",
        "input_dim = X.shape[1]\n",
        "\n",
        "input_layer = Input(shape=(input_dim,))\n",
        "encoded = Dense(64, activation='relu')(input_layer)\n",
        "decoded = Dense(input_dim, activation='sigmoid')(encoded)\n",
        "\n",
        "autoencoder = Model(input_layer, decoded)\n",
        "autoencoder.compile(optimizer='adam', loss='mean_squared_error')\n",
        "\n",
        "# Entraîner le modèle auto-encodeur\n",
        "autoencoder.fit(X_train, X_train, epochs=50, batch_size=32, shuffle=True, validation_data=(X_test, X_test))\n",
        "\n",
        "# Encoder les données\n",
        "encoder = Model(input_layer, encoded)\n",
        "encoded_data_train = encoder.predict(X_train)\n",
        "encoded_data_test = encoder.predict(X_test)\n"
      ],
      "metadata": {
        "id": "B5iP7sbLLZbK",
        "colab": {
          "base_uri": "https://localhost:8080/"
        },
        "outputId": "85a64725-59bd-4509-c675-a05b65b91abd"
      },
      "execution_count": null,
      "outputs": [
        {
          "output_type": "stream",
          "name": "stdout",
          "text": [
            "Epoch 1/50\n",
            "80/80 [==============================] - 1s 4ms/step - loss: 0.9892 - val_loss: 0.8121\n",
            "Epoch 2/50\n",
            "80/80 [==============================] - 0s 2ms/step - loss: 0.7533 - val_loss: 0.7141\n",
            "Epoch 3/50\n",
            "80/80 [==============================] - 0s 3ms/step - loss: 0.6943 - val_loss: 0.6780\n",
            "Epoch 4/50\n",
            "80/80 [==============================] - 0s 3ms/step - loss: 0.6685 - val_loss: 0.6591\n",
            "Epoch 5/50\n",
            "80/80 [==============================] - 0s 3ms/step - loss: 0.6540 - val_loss: 0.6475\n",
            "Epoch 6/50\n",
            "80/80 [==============================] - 0s 2ms/step - loss: 0.6444 - val_loss: 0.6393\n",
            "Epoch 7/50\n",
            "80/80 [==============================] - 0s 2ms/step - loss: 0.6375 - val_loss: 0.6331\n",
            "Epoch 8/50\n",
            "80/80 [==============================] - 0s 3ms/step - loss: 0.6322 - val_loss: 0.6282\n",
            "Epoch 9/50\n",
            "80/80 [==============================] - 0s 2ms/step - loss: 0.6275 - val_loss: 0.6236\n",
            "Epoch 10/50\n",
            "80/80 [==============================] - 0s 3ms/step - loss: 0.6227 - val_loss: 0.6197\n",
            "Epoch 11/50\n",
            "80/80 [==============================] - 0s 3ms/step - loss: 0.6194 - val_loss: 0.6172\n",
            "Epoch 12/50\n",
            "80/80 [==============================] - 0s 3ms/step - loss: 0.6171 - val_loss: 0.6155\n",
            "Epoch 13/50\n",
            "80/80 [==============================] - 0s 3ms/step - loss: 0.6154 - val_loss: 0.6141\n",
            "Epoch 14/50\n",
            "80/80 [==============================] - 0s 2ms/step - loss: 0.6141 - val_loss: 0.6130\n",
            "Epoch 15/50\n",
            "80/80 [==============================] - 0s 3ms/step - loss: 0.6130 - val_loss: 0.6120\n",
            "Epoch 16/50\n",
            "80/80 [==============================] - 0s 3ms/step - loss: 0.6121 - val_loss: 0.6112\n",
            "Epoch 17/50\n",
            "80/80 [==============================] - 0s 3ms/step - loss: 0.6114 - val_loss: 0.6105\n",
            "Epoch 18/50\n",
            "80/80 [==============================] - 0s 3ms/step - loss: 0.6107 - val_loss: 0.6099\n",
            "Epoch 19/50\n",
            "80/80 [==============================] - 0s 3ms/step - loss: 0.6101 - val_loss: 0.6094\n",
            "Epoch 20/50\n",
            "80/80 [==============================] - 0s 3ms/step - loss: 0.6096 - val_loss: 0.6089\n",
            "Epoch 21/50\n",
            "80/80 [==============================] - 0s 5ms/step - loss: 0.6091 - val_loss: 0.6085\n",
            "Epoch 22/50\n",
            "80/80 [==============================] - 0s 4ms/step - loss: 0.6087 - val_loss: 0.6082\n",
            "Epoch 23/50\n",
            "80/80 [==============================] - 0s 4ms/step - loss: 0.6084 - val_loss: 0.6079\n",
            "Epoch 24/50\n",
            "80/80 [==============================] - 0s 4ms/step - loss: 0.6080 - val_loss: 0.6075\n",
            "Epoch 25/50\n",
            "80/80 [==============================] - 0s 4ms/step - loss: 0.6077 - val_loss: 0.6073\n",
            "Epoch 26/50\n",
            "80/80 [==============================] - 0s 4ms/step - loss: 0.6074 - val_loss: 0.6070\n",
            "Epoch 27/50\n",
            "80/80 [==============================] - 0s 5ms/step - loss: 0.6072 - val_loss: 0.6068\n",
            "Epoch 28/50\n",
            "80/80 [==============================] - 0s 3ms/step - loss: 0.6069 - val_loss: 0.6065\n",
            "Epoch 29/50\n",
            "80/80 [==============================] - 0s 2ms/step - loss: 0.6067 - val_loss: 0.6064\n",
            "Epoch 30/50\n",
            "80/80 [==============================] - 0s 2ms/step - loss: 0.6065 - val_loss: 0.6061\n",
            "Epoch 31/50\n",
            "80/80 [==============================] - 0s 3ms/step - loss: 0.6063 - val_loss: 0.6060\n",
            "Epoch 32/50\n",
            "80/80 [==============================] - 0s 3ms/step - loss: 0.6061 - val_loss: 0.6058\n",
            "Epoch 33/50\n",
            "80/80 [==============================] - 0s 3ms/step - loss: 0.6059 - val_loss: 0.6056\n",
            "Epoch 34/50\n",
            "80/80 [==============================] - 0s 3ms/step - loss: 0.6058 - val_loss: 0.6055\n",
            "Epoch 35/50\n",
            "80/80 [==============================] - 0s 3ms/step - loss: 0.6056 - val_loss: 0.6053\n",
            "Epoch 36/50\n",
            "80/80 [==============================] - 0s 3ms/step - loss: 0.6055 - val_loss: 0.6052\n",
            "Epoch 37/50\n",
            "80/80 [==============================] - 0s 3ms/step - loss: 0.6054 - val_loss: 0.6050\n",
            "Epoch 38/50\n",
            "80/80 [==============================] - 0s 2ms/step - loss: 0.6052 - val_loss: 0.6049\n",
            "Epoch 39/50\n",
            "80/80 [==============================] - 0s 2ms/step - loss: 0.6051 - val_loss: 0.6047\n",
            "Epoch 40/50\n",
            "80/80 [==============================] - 0s 2ms/step - loss: 0.6049 - val_loss: 0.6046\n",
            "Epoch 41/50\n",
            "80/80 [==============================] - 0s 3ms/step - loss: 0.6048 - val_loss: 0.6045\n",
            "Epoch 42/50\n",
            "80/80 [==============================] - 0s 2ms/step - loss: 0.6047 - val_loss: 0.6044\n",
            "Epoch 43/50\n",
            "80/80 [==============================] - 0s 3ms/step - loss: 0.6046 - val_loss: 0.6043\n",
            "Epoch 44/50\n",
            "80/80 [==============================] - 0s 3ms/step - loss: 0.6045 - val_loss: 0.6042\n",
            "Epoch 45/50\n",
            "80/80 [==============================] - 0s 3ms/step - loss: 0.6044 - val_loss: 0.6041\n",
            "Epoch 46/50\n",
            "80/80 [==============================] - 0s 2ms/step - loss: 0.6044 - val_loss: 0.6041\n",
            "Epoch 47/50\n",
            "80/80 [==============================] - 0s 2ms/step - loss: 0.6043 - val_loss: 0.6040\n",
            "Epoch 48/50\n",
            "80/80 [==============================] - 0s 3ms/step - loss: 0.6042 - val_loss: 0.6040\n",
            "Epoch 49/50\n",
            "80/80 [==============================] - 0s 2ms/step - loss: 0.6042 - val_loss: 0.6039\n",
            "Epoch 50/50\n",
            "80/80 [==============================] - 0s 3ms/step - loss: 0.6041 - val_loss: 0.6038\n",
            "80/80 [==============================] - 0s 1ms/step\n",
            "20/20 [==============================] - 0s 1ms/step\n"
          ]
        }
      ]
    },
    {
      "cell_type": "code",
      "source": [
        "# Enregistrez le modèle d'encodeur uniquement\n",
        "encoder.save('/content/GoogleDrive/encoder_model')\n",
        "\n",
        "# Charger le modèle d'encodeur\n",
        "loaded_encoder = keras.models.load_model('/content/GoogleDrive/encoder_model', compile=False)\n",
        "\n",
        "# Compiler le modèle d'encodeur avec les mêmes paramètres que le modèle complet\n",
        "loaded_encoder.compile(optimizer='adam', loss='mean_squared_error', metrics=['accuracy'])\n",
        "\n"
      ],
      "metadata": {
        "colab": {
          "base_uri": "https://localhost:8080/"
        },
        "id": "QVp9W_TBpKwg",
        "outputId": "27031efb-5097-4750-c2cb-5a015833a01e"
      },
      "execution_count": null,
      "outputs": [
        {
          "output_type": "stream",
          "name": "stderr",
          "text": [
            "WARNING:tensorflow:Compiled the loaded model, but the compiled metrics have yet to be built. `model.compile_metrics` will be empty until you train or evaluate the model.\n"
          ]
        }
      ]
    },
    {
      "cell_type": "code",
      "source": [
        "from sklearn.model_selection import train_test_split\n",
        "from sklearn.preprocessing import StandardScaler\n",
        "from sklearn.neural_network import MLPClassifier\n",
        "from sklearn.metrics import accuracy_score\n",
        "\n",
        "# Supposons que X contient vos caractéristiques et y contient vos étiquettes (male/female)\n",
        "X_train, X_test, y_train, y_test = train_test_split(X, y, test_size=0.2, random_state=42)\n",
        "\n",
        "# Normalisez les caractéristiques (cela dépend du modèle que vous utilisez)\n",
        "scaler = StandardScaler()\n",
        "X_train_scaled = scaler.fit_transform(X_train)\n",
        "X_test_scaled = scaler.transform(X_test)\n",
        "\n",
        "# Créez et entraînez un modèle (utilisez le modèle qui convient à votre problème)\n",
        "model = MLPClassifier(hidden_layer_sizes=(100,), max_iter=1000, random_state=42)\n",
        "model.fit(X_train_scaled, y_train)\n",
        "\n",
        "# Faites des prédictions sur l'ensemble de test\n",
        "y_pred = model.predict(X_test_scaled)\n",
        "\n",
        "# Évaluez les performances du modèle\n",
        "accuracy = accuracy_score(y_test, y_pred)\n",
        "print(\"Accuracy on test set:\", accuracy)\n",
        "\n",
        "# Maintenant, faites des prédictions sur la base de données complète\n",
        "X_all_scaled = scaler.transform(X)  # Assurez-vous de normaliser toutes les données\n",
        "predictions_on_database = model.predict(X_all_scaled)\n"
      ],
      "metadata": {
        "id": "muJ4Gd1-ffVJ",
        "colab": {
          "base_uri": "https://localhost:8080/"
        },
        "outputId": "e13850a4-3ac6-4c0b-b4dc-2588c8679db4"
      },
      "execution_count": null,
      "outputs": [
        {
          "output_type": "stream",
          "name": "stdout",
          "text": [
            "Accuracy on test set: 0.9842271293375394\n"
          ]
        }
      ]
    },
    {
      "cell_type": "code",
      "source": [
        "!pip install pyaudio\n",
        "import librosa\n",
        "import numpy as np\n",
        "from scipy.stats import skew, kurtosis\n",
        "from scipy.signal import find_peaks\n",
        "from google.colab import files\n",
        "\n",
        "\n",
        "def extract_voice_features(signal, sample_rate):\n",
        "    # meanfreq\n",
        "    meanfreq = np.mean(np.abs(librosa.core.stft(signal)))\n",
        "\n",
        "    # sd (standard deviation of frequency)\n",
        "    sd = np.std(np.abs(librosa.core.stft(signal)))\n",
        "\n",
        "    # median\n",
        "    median = np.median(np.abs(librosa.core.stft(signal)))\n",
        "\n",
        "    # Q25 et Q75\n",
        "    q25, q75 = np.percentile(signal, [25, 75])\n",
        "\n",
        "    # IQR (interquantile range)\n",
        "    iqr = q75 - q25\n",
        "\n",
        "    # skew et kurt\n",
        "    skewness = skew(signal)\n",
        "    kurtosis_value = kurtosis(signal)\n",
        "\n",
        "    # sp.ent (spectral entropy)\n",
        "    magnitude_spectrum = np.abs(librosa.core.stft(signal))\n",
        "    normalized_spectrum = magnitude_spectrum / np.sum(magnitude_spectrum)\n",
        "    spectral_entropy = -np.sum(normalized_spectrum * np.log2(normalized_spectrum + 1e-12))\n",
        "\n",
        "    # sfm (spectral flatness)\n",
        "    sfm = np.mean(librosa.feature.spectral_flatness(y=signal))\n",
        "\n",
        "    # mode (mode frequency)\n",
        "    mode = np.mean(librosa.feature.mfcc(y=signal, sr=sample_rate))\n",
        "\n",
        "    # centroid (frequency centroid)\n",
        "    centroid = np.mean(librosa.feature.spectral_centroid(y=signal, sr=sample_rate))\n",
        "\n",
        "\n",
        "\n",
        "    # meanfun (average of fundamental frequency)\n",
        "    mean_fun = np.mean(librosa.feature.rms(y=signal))\n",
        "\n",
        "    # minfun et maxfun\n",
        "    min_fun = np.min(signal)\n",
        "    max_fun = np.max(signal)\n",
        "\n",
        "    # meandom (average of dominant frequency)\n",
        "    peaks, _ = find_peaks(np.abs(signal))\n",
        "    mean_dom = np.mean(peaks) if len(peaks) > 0 else 0  # Utilisation de la moyenne des pics\n",
        "\n",
        "    # mindom (minimum of dominant frequency)\n",
        "    min_dom = np.min(peaks) if len(peaks) > 0 else 0  # Utilisation du minimum des pics\n",
        "\n",
        "    # maxdom (maximum of dominant frequency)\n",
        "    max_dom = np.max(peaks) if len(peaks) > 0 else 0  # Utilisation du maximum des pics\n",
        "\n",
        "    # dfrange (range of dominant frequency)\n",
        "    dfrange = max_dom - min_dom\n",
        "\n",
        "    # modindx (modulation index)\n",
        "    mod_indx = np.mean(np.abs(np.diff(signal))) / (np.max(signal) - np.min(signal))\n",
        "\n",
        "    # Créer un dictionnaire de caractéristiques\n",
        "    features = {\n",
        "        'meanfreq': meanfreq,\n",
        "        'sd': sd,\n",
        "        'median': median,\n",
        "        'Q25': q25,\n",
        "        'Q75': q75,\n",
        "        'IQR': iqr,\n",
        "        'skew': skewness,\n",
        "        'kurt': kurtosis_value,\n",
        "        'sp.ent': spectral_entropy,\n",
        "        'sfm': sfm,\n",
        "        'mode': mode,\n",
        "        'centroid': centroid,\n",
        "        'meanfun': mean_fun,\n",
        "        'minfun': min_fun,\n",
        "        'maxfun': max_fun,\n",
        "        'meandom': mean_dom,\n",
        "        'mindom': min_dom,\n",
        "        'maxdom': max_dom,\n",
        "        'dfrange': dfrange,\n",
        "        'modindx': mod_indx\n",
        "    }\n",
        "\n",
        "    return features\n",
        "    # Ajoutez ceci dans la fonction extract_voice_features\n",
        "#print(\"Peak Frequency in extract_voice_features:\", peakf)\n",
        "\n",
        "\n",
        "# Exemple d'utilisation\n",
        "uploaded = files.upload()\n",
        "audio_path = 'audio.wav'  # Assurez-vous de remplacer cela par le nom de votre fichier audio\n",
        "\n",
        "# Charger le fichier audio et extraire les caractéristiques\n",
        "signal, sample_rate = librosa.load(audio_path, sr=None)\n",
        "voice_features = extract_voice_features(signal, sample_rate)\n",
        "# Définir les ranges des caractéristiques\n",
        "feature_ranges = {\n",
        "    'meanfreq': {'min': 0.039363, 'max': 0.251124},\n",
        "    'sd': {'min': 0.018363, 'max': 0.115273},\n",
        "    'median': {'min': 0.010975, 'max': 0.261224},\n",
        "    'Q25': {'min': 0.000229, 'max': 0.247347},\n",
        "    'Q75': {'min': 0.042946, 'max': 0.273469},\n",
        "    'IQR': {'min': 0.014558, 'max': 0.252225},\n",
        "    'skew': {'min': 0.141735, 'max': 34.725453},\n",
        "    'kurt': {'min': 2.068455, 'max': 1309.612887},\n",
        "    'sp.ent': {'min': 0.738651, 'max': 0.981997},\n",
        "    'sfm': {'min': 0.036876, 'max': 0.842936},\n",
        "    'mode': {'min': 0.0, 'max': 0.28},\n",
        "    'centroid': {'min': 0.039363, 'max': 0.251124},\n",
        "    'peakf': {'min': 0.103093, 'max': 0.279114},\n",
        "    'meanfun': {'min': 0.055565, 'max': 0.237636},\n",
        "    'minfun': {'min': 0.009775, 'max': 0.204082},\n",
        "    'maxfun': {'min': 0.103093, 'max': 0.279114},\n",
        "    'meandom': {'min': 0.007812, 'max': 2.957682},\n",
        "    'mindom': {'min': 0.004883, 'max': 0.458984},\n",
        "    'maxdom': {'min': 0.007812, 'max': 21.867188},\n",
        "    'dfrange': {'min': 0.0, 'max': 21.84375},\n",
        "    'modindx': {'min': 0.0, 'max': 0.932374},\n",
        "}\n",
        "\n",
        "# Appliquer les conditions aux valeurs des caractéristiques\n",
        "for feature in voice_features:\n",
        "    if voice_features[feature] < feature_ranges[feature]['min']:\n",
        "        voice_features[feature] = feature_ranges[feature]['min']\n",
        "    elif voice_features[feature] > feature_ranges[feature]['max']:\n",
        "        voice_features[feature] = feature_ranges[feature]['max']\n",
        "\n",
        "#import pandas as pd\n",
        "\n",
        "# Supposons que 'new_data' est un dictionnaire contenant les nouvelles données\n",
        "#new_data =voice_features\n",
        "\n",
        "# Convertir le dictionnaire en DataFrame\n",
        "#new_row = pd.DataFrame([new_data.values])\n",
        "\n",
        "# Ajouter la nouvelle ligne au DataFrame existant\n",
        "#df = df.append(new_row, ignore_index=True)\n",
        "\n",
        "#import pandas as pd\n",
        "\n",
        "#Charger la base de données CSV dans un DataFrame\n",
        "#df = pd.read_csv('voice.csv')\n",
        "\n",
        "# Supprimer une ligne en fonction d'une condition (remplacez 'condition_column' et 'condition_value' par les valeurs appropriées)\n",
        "#condition_column = voice_features\n",
        "#condition_value = voice_features\n",
        "\n",
        "# Formuler la condition pour supprimer la ligne\n",
        "#condition = (df[condition_column] == condition_value)\n",
        "\n",
        "# Supprimer la ligne qui satisfait la condition\n",
        "#df = df[~condition]\n",
        "\n",
        "# Enregistrer le DataFrame mis à jour dans le fichier CSV\n",
        "#df.to_csv('voice.csv', index=False)\n",
        "\n",
        "\n",
        "# Afficher les caractéristiques après application des conditions\n",
        "print(voice_features)"
      ],
      "metadata": {
        "id": "OuJzSy4OhbK3",
        "colab": {
          "base_uri": "https://localhost:8080/",
          "height": 439
        },
        "outputId": "569052bc-fccf-4ee9-b1e0-8d2f812bf1dd"
      },
      "execution_count": 4,
      "outputs": [
        {
          "output_type": "stream",
          "name": "stdout",
          "text": [
            "Collecting pyaudio\n",
            "  Downloading PyAudio-0.2.14.tar.gz (47 kB)\n",
            "\u001b[2K     \u001b[90m━━━━━━━━━━━━━━━━━━━━━━━━━━━━━━━━━━━━━━━━\u001b[0m \u001b[32m47.1/47.1 kB\u001b[0m \u001b[31m615.1 kB/s\u001b[0m eta \u001b[36m0:00:00\u001b[0m\n",
            "\u001b[?25h  Installing build dependencies ... \u001b[?25l\u001b[?25hdone\n",
            "  Getting requirements to build wheel ... \u001b[?25l\u001b[?25hdone\n",
            "  Preparing metadata (pyproject.toml) ... \u001b[?25l\u001b[?25hdone\n",
            "Building wheels for collected packages: pyaudio\n",
            "  \u001b[1;31merror\u001b[0m: \u001b[1msubprocess-exited-with-error\u001b[0m\n",
            "  \n",
            "  \u001b[31m×\u001b[0m \u001b[32mBuilding wheel for pyaudio \u001b[0m\u001b[1;32m(\u001b[0m\u001b[32mpyproject.toml\u001b[0m\u001b[1;32m)\u001b[0m did not run successfully.\n",
            "  \u001b[31m│\u001b[0m exit code: \u001b[1;36m1\u001b[0m\n",
            "  \u001b[31m╰─>\u001b[0m See above for output.\n",
            "  \n",
            "  \u001b[1;35mnote\u001b[0m: This error originates from a subprocess, and is likely not a problem with pip.\n",
            "  Building wheel for pyaudio (pyproject.toml) ... \u001b[?25l\u001b[?25herror\n",
            "\u001b[31m  ERROR: Failed building wheel for pyaudio\u001b[0m\u001b[31m\n",
            "\u001b[0mFailed to build pyaudio\n",
            "\u001b[31mERROR: Could not build wheels for pyaudio, which is required to install pyproject.toml-based projects\u001b[0m\u001b[31m\n",
            "\u001b[0m"
          ]
        },
        {
          "output_type": "display_data",
          "data": {
            "text/plain": [
              "<IPython.core.display.HTML object>"
            ],
            "text/html": [
              "\n",
              "     <input type=\"file\" id=\"files-98258dc1-9481-4f47-ad0f-2f0c5d8bbf3e\" name=\"files[]\" multiple disabled\n",
              "        style=\"border:none\" />\n",
              "     <output id=\"result-98258dc1-9481-4f47-ad0f-2f0c5d8bbf3e\">\n",
              "      Upload widget is only available when the cell has been executed in the\n",
              "      current browser session. Please rerun this cell to enable.\n",
              "      </output>\n",
              "      <script>// Copyright 2017 Google LLC\n",
              "//\n",
              "// Licensed under the Apache License, Version 2.0 (the \"License\");\n",
              "// you may not use this file except in compliance with the License.\n",
              "// You may obtain a copy of the License at\n",
              "//\n",
              "//      http://www.apache.org/licenses/LICENSE-2.0\n",
              "//\n",
              "// Unless required by applicable law or agreed to in writing, software\n",
              "// distributed under the License is distributed on an \"AS IS\" BASIS,\n",
              "// WITHOUT WARRANTIES OR CONDITIONS OF ANY KIND, either express or implied.\n",
              "// See the License for the specific language governing permissions and\n",
              "// limitations under the License.\n",
              "\n",
              "/**\n",
              " * @fileoverview Helpers for google.colab Python module.\n",
              " */\n",
              "(function(scope) {\n",
              "function span(text, styleAttributes = {}) {\n",
              "  const element = document.createElement('span');\n",
              "  element.textContent = text;\n",
              "  for (const key of Object.keys(styleAttributes)) {\n",
              "    element.style[key] = styleAttributes[key];\n",
              "  }\n",
              "  return element;\n",
              "}\n",
              "\n",
              "// Max number of bytes which will be uploaded at a time.\n",
              "const MAX_PAYLOAD_SIZE = 100 * 1024;\n",
              "\n",
              "function _uploadFiles(inputId, outputId) {\n",
              "  const steps = uploadFilesStep(inputId, outputId);\n",
              "  const outputElement = document.getElementById(outputId);\n",
              "  // Cache steps on the outputElement to make it available for the next call\n",
              "  // to uploadFilesContinue from Python.\n",
              "  outputElement.steps = steps;\n",
              "\n",
              "  return _uploadFilesContinue(outputId);\n",
              "}\n",
              "\n",
              "// This is roughly an async generator (not supported in the browser yet),\n",
              "// where there are multiple asynchronous steps and the Python side is going\n",
              "// to poll for completion of each step.\n",
              "// This uses a Promise to block the python side on completion of each step,\n",
              "// then passes the result of the previous step as the input to the next step.\n",
              "function _uploadFilesContinue(outputId) {\n",
              "  const outputElement = document.getElementById(outputId);\n",
              "  const steps = outputElement.steps;\n",
              "\n",
              "  const next = steps.next(outputElement.lastPromiseValue);\n",
              "  return Promise.resolve(next.value.promise).then((value) => {\n",
              "    // Cache the last promise value to make it available to the next\n",
              "    // step of the generator.\n",
              "    outputElement.lastPromiseValue = value;\n",
              "    return next.value.response;\n",
              "  });\n",
              "}\n",
              "\n",
              "/**\n",
              " * Generator function which is called between each async step of the upload\n",
              " * process.\n",
              " * @param {string} inputId Element ID of the input file picker element.\n",
              " * @param {string} outputId Element ID of the output display.\n",
              " * @return {!Iterable<!Object>} Iterable of next steps.\n",
              " */\n",
              "function* uploadFilesStep(inputId, outputId) {\n",
              "  const inputElement = document.getElementById(inputId);\n",
              "  inputElement.disabled = false;\n",
              "\n",
              "  const outputElement = document.getElementById(outputId);\n",
              "  outputElement.innerHTML = '';\n",
              "\n",
              "  const pickedPromise = new Promise((resolve) => {\n",
              "    inputElement.addEventListener('change', (e) => {\n",
              "      resolve(e.target.files);\n",
              "    });\n",
              "  });\n",
              "\n",
              "  const cancel = document.createElement('button');\n",
              "  inputElement.parentElement.appendChild(cancel);\n",
              "  cancel.textContent = 'Cancel upload';\n",
              "  const cancelPromise = new Promise((resolve) => {\n",
              "    cancel.onclick = () => {\n",
              "      resolve(null);\n",
              "    };\n",
              "  });\n",
              "\n",
              "  // Wait for the user to pick the files.\n",
              "  const files = yield {\n",
              "    promise: Promise.race([pickedPromise, cancelPromise]),\n",
              "    response: {\n",
              "      action: 'starting',\n",
              "    }\n",
              "  };\n",
              "\n",
              "  cancel.remove();\n",
              "\n",
              "  // Disable the input element since further picks are not allowed.\n",
              "  inputElement.disabled = true;\n",
              "\n",
              "  if (!files) {\n",
              "    return {\n",
              "      response: {\n",
              "        action: 'complete',\n",
              "      }\n",
              "    };\n",
              "  }\n",
              "\n",
              "  for (const file of files) {\n",
              "    const li = document.createElement('li');\n",
              "    li.append(span(file.name, {fontWeight: 'bold'}));\n",
              "    li.append(span(\n",
              "        `(${file.type || 'n/a'}) - ${file.size} bytes, ` +\n",
              "        `last modified: ${\n",
              "            file.lastModifiedDate ? file.lastModifiedDate.toLocaleDateString() :\n",
              "                                    'n/a'} - `));\n",
              "    const percent = span('0% done');\n",
              "    li.appendChild(percent);\n",
              "\n",
              "    outputElement.appendChild(li);\n",
              "\n",
              "    const fileDataPromise = new Promise((resolve) => {\n",
              "      const reader = new FileReader();\n",
              "      reader.onload = (e) => {\n",
              "        resolve(e.target.result);\n",
              "      };\n",
              "      reader.readAsArrayBuffer(file);\n",
              "    });\n",
              "    // Wait for the data to be ready.\n",
              "    let fileData = yield {\n",
              "      promise: fileDataPromise,\n",
              "      response: {\n",
              "        action: 'continue',\n",
              "      }\n",
              "    };\n",
              "\n",
              "    // Use a chunked sending to avoid message size limits. See b/62115660.\n",
              "    let position = 0;\n",
              "    do {\n",
              "      const length = Math.min(fileData.byteLength - position, MAX_PAYLOAD_SIZE);\n",
              "      const chunk = new Uint8Array(fileData, position, length);\n",
              "      position += length;\n",
              "\n",
              "      const base64 = btoa(String.fromCharCode.apply(null, chunk));\n",
              "      yield {\n",
              "        response: {\n",
              "          action: 'append',\n",
              "          file: file.name,\n",
              "          data: base64,\n",
              "        },\n",
              "      };\n",
              "\n",
              "      let percentDone = fileData.byteLength === 0 ?\n",
              "          100 :\n",
              "          Math.round((position / fileData.byteLength) * 100);\n",
              "      percent.textContent = `${percentDone}% done`;\n",
              "\n",
              "    } while (position < fileData.byteLength);\n",
              "  }\n",
              "\n",
              "  // All done.\n",
              "  yield {\n",
              "    response: {\n",
              "      action: 'complete',\n",
              "    }\n",
              "  };\n",
              "}\n",
              "\n",
              "scope.google = scope.google || {};\n",
              "scope.google.colab = scope.google.colab || {};\n",
              "scope.google.colab._files = {\n",
              "  _uploadFiles,\n",
              "  _uploadFilesContinue,\n",
              "};\n",
              "})(self);\n",
              "</script> "
            ]
          },
          "metadata": {}
        },
        {
          "output_type": "stream",
          "name": "stdout",
          "text": [
            "Saving audio.wav to audio.wav\n",
            "{'meanfreq': 0.251124, 'sd': 0.115273, 'median': 0.010975, 'Q25': 0.000229, 'Q75': 0.042946, 'IQR': 0.014558, 'skew': 0.141735, 'kurt': 9.244614422999266, 'sp.ent': 0.981997, 'sfm': 0.036876, 'mode': 0.0, 'centroid': 0.251124, 'meanfun': 0.055565, 'minfun': 0.009775, 'maxfun': 0.279114, 'meandom': 2.957682, 'mindom': 0.458984, 'maxdom': 21.867188, 'dfrange': 21.84375, 'modindx': 0.0049039572}\n"
          ]
        }
      ]
    },
    {
      "cell_type": "code",
      "source": [
        "# Enregistrer le DataFrame mis à jour dans le fichier CSV existant (écraser le fichier existant)\n",
        "df.to_csv('/content/voice.csv', index=False)"
      ],
      "metadata": {
        "id": "EPCjUn2DTOOq"
      },
      "execution_count": null,
      "outputs": []
    },
    {
      "cell_type": "code",
      "source": [
        "# Supposons que 'index_to_display' est l'indice de la ligne que vous souhaitez afficher\n",
        "#index_to_display =450  # Remplacez par l'indice réel de la ligne que vous souhaitez afficher\n",
        "\n",
        "# Sélectionner la ligne par indice\n",
        "#selected_row = df.iloc[index_to_display]\n",
        "\n",
        "# Afficher la ligne\n",
        "#print(selected_row)\n",
        "\n"
      ],
      "metadata": {
        "id": "28rbILQwArLU"
      },
      "execution_count": null,
      "outputs": []
    },
    {
      "cell_type": "code",
      "source": [
        "valeurs_array = np.array(list(voice_features.values()))\n",
        "print (valeurs_array)"
      ],
      "metadata": {
        "colab": {
          "base_uri": "https://localhost:8080/"
        },
        "id": "Ufb4XDxo98mK",
        "outputId": "a8ba9045-d9be-4430-8901-4ba2479a5513"
      },
      "execution_count": 5,
      "outputs": [
        {
          "output_type": "stream",
          "name": "stdout",
          "text": [
            "[2.51124000e-01 1.15273000e-01 1.09750000e-02 2.29000000e-04\n",
            " 4.29460000e-02 1.45580000e-02 1.41735000e-01 9.24461442e+00\n",
            " 9.81997000e-01 3.68760000e-02 0.00000000e+00 2.51124000e-01\n",
            " 5.55650000e-02 9.77500000e-03 2.79114000e-01 2.95768200e+00\n",
            " 4.58984000e-01 2.18671880e+01 2.18437500e+01 4.90395725e-03]\n"
          ]
        }
      ]
    },
    {
      "cell_type": "code",
      "source": [
        "import joblib\n",
        "import numpy as np\n",
        "\n",
        "# Charger le modèle SVM entraîné\n",
        "svm_model = joblib.load('/content/GoogleDrive/svm_model.joblib')  # Assurez-vous de charger le bon modèle\n",
        "# Prédire le genre à partir des caractéristiques audio\n",
        "predicted_gender = svm_model.predict([valeurs_array])[0]\n",
        "if predicted_gender== 0 :\n",
        "   new_feature= 'Male'\n",
        "else :\n",
        "      new_feature= 'Female'\n",
        "feat_list =valeurs_array.tolist()\n",
        "feat_list.append(new_feature)\n",
        "\n",
        "# Afficher la prédiction\n",
        "print(\"Prédiction de genre :\", predicted_gender,feat_list)"
      ],
      "metadata": {
        "colab": {
          "base_uri": "https://localhost:8080/"
        },
        "id": "zxdy-FSaXlsK",
        "outputId": "cc5d203c-8247-4dfd-f4cd-2bfccae54b0b"
      },
      "execution_count": null,
      "outputs": [
        {
          "output_type": "stream",
          "name": "stdout",
          "text": [
            "Prédiction de genre : 0 [0.251124, 0.115273, 0.010975, 0.000229, 0.042946, 0.014558, 0.141735, 9.244614422999266, 0.981997, 0.036876, 0.0, 0.251124, 0.055565, 0.009775, 0.279114, 2.957682, 0.458984, 21.867188, 21.84375, 0.00490395724773407, 'Male']\n"
          ]
        }
      ]
    },
    {
      "cell_type": "code",
      "source": [
        "import numpy as np\n",
        "from keras.models import load_model\n",
        "\n",
        "# Charger le modèle CNN entraîné\n",
        "cnn_model = load_model('/content/GoogleDrive/CNN')\n",
        "\n",
        "# Prédire le genre à partir des caractéristiques audio\n",
        "predicted_gender = cnn_model.predict(np.array([valeurs_array]))[0]\n",
        "if predicted_gender < 0.5:\n",
        "    new_feature = 'Male'\n",
        "else:\n",
        "    new_feature = 'Female'\n",
        "\n",
        "# Afficher la prédiction\n",
        "print(\"Prédiction de genre :\", feat_list)\n",
        "\n",
        "feat_list = valeurs_array.tolist()\n",
        "feat_list.append(new_feature)"
      ],
      "metadata": {
        "id": "15g9QcTnKEZz",
        "colab": {
          "base_uri": "https://localhost:8080/"
        },
        "outputId": "6e94c4f4-4535-4e80-9646-0b09567289a5"
      },
      "execution_count": null,
      "outputs": [
        {
          "output_type": "stream",
          "name": "stdout",
          "text": [
            "1/1 [==============================] - 0s 260ms/step\n",
            "Prédiction de genre : [0.251124, 0.115273, 0.010975, 0.000229, 0.042946, 0.014558, 0.141735, 9.244614422999266, 0.981997, 0.036876, 0.0, 0.251124, 0.055565, 0.009775, 0.279114, 2.957682, 0.458984, 21.867188, 21.84375, 0.00490395724773407, 'Male']\n"
          ]
        }
      ]
    },
    {
      "cell_type": "code",
      "source": [
        "import pandas as pd\n",
        "\n",
        "# Liste des valeurs pour la nouvelle ligne\n",
        "nouvelle_ligne = feat_list # Remplacez cela par vos valeurs réelles\n",
        "\n",
        "# Chemin vers le fichier CSV\n",
        "fichier_csv = 'voice.csv'\n",
        "\n",
        "# Créer un DataFrame à partir du fichier CSV existant\n",
        "df = pd.read_csv(fichier_csv)\n",
        "\n",
        "# Ajouter une nouvelle ligne au DataFrame\n",
        "nouvel_index = len(df) + 1  # Index de la nouvelle ligne\n",
        "df.loc[nouvel_index] = nouvelle_ligne  # Ajouter la nouvelle ligne au DataFrame\n",
        "\n",
        "# Enregistrer le DataFrame mis à jour dans le fichier CSV\n",
        "df.to_csv(fichier_csv, index=False)\n",
        "\n",
        "print(\"Nouvelle ligne ajoutée avec succès à la base de données.\")\n"
      ],
      "metadata": {
        "id": "d23ACPXQZ_dc",
        "colab": {
          "base_uri": "https://localhost:8080/"
        },
        "outputId": "4da9b458-c394-4f34-a2b2-115f27c8e839"
      },
      "execution_count": null,
      "outputs": [
        {
          "output_type": "stream",
          "name": "stdout",
          "text": [
            "Nouvelle ligne ajoutée avec succès à la base de données.\n"
          ]
        }
      ]
    },
    {
      "cell_type": "code",
      "source": [
        "# Enregistrer le DataFrame mis à jour dans le fichier CSV existant (écraser le fichier existant)\n",
        "df.to_csv('/content/voice.csv', index=False)"
      ],
      "metadata": {
        "id": "4qljsR2ydxUL"
      },
      "execution_count": null,
      "outputs": []
    },
    {
      "cell_type": "code",
      "source": [
        "import pandas as pd\n",
        "\n",
        "# Chemin vers le fichier CSV\n",
        "fichier_csv = 'voice.csv'\n",
        "\n",
        "# Charger le DataFrame à partir du fichier CSV\n",
        "df = pd.read_csv(fichier_csv)\n",
        "\n",
        "# Définir les valeurs de la ligne que vous souhaitez supprimer\n",
        "# Remplacez les valeurs ci-dessous par celles de la ligne recherchée\n",
        "nouvelle_ligne = feat_list\n",
        "\n",
        "# Trouver l'indice de la ligne spécifiée\n",
        "indice_ligne_specifique = df.index[df.apply(lambda row: row.tolist() == nouvelle_ligne, axis=1)].tolist()\n",
        "\n",
        "# Vérifier si l'indice spécifié est valide\n",
        "if indice_ligne_specifique:\n",
        "    print(\"L'indice de la ligne spécifiée est:\", indice_ligne_specifique[0])\n",
        "\n",
        "    # Supprimer la ligne avec l'index spécifié\n",
        "    df = df.drop(indice_ligne_specifique[0])\n",
        "\n",
        "    # Enregistrer le DataFrame mis à jour dans le fichier CSV\n",
        "    df.to_csv(fichier_csv, index=False)\n",
        "\n",
        "    print(\"Ligne supprimée avec succès de la base de données.\")\n",
        "else:\n",
        "    print(\"La ligne spécifiée n'existe pas dans le DataFrame.\")\n"
      ],
      "metadata": {
        "colab": {
          "base_uri": "https://localhost:8080/"
        },
        "id": "3CzlAlPiYUmN",
        "outputId": "b8e19f29-edee-4a13-85ee-4aca2f3c15d2"
      },
      "execution_count": null,
      "outputs": [
        {
          "output_type": "stream",
          "name": "stdout",
          "text": [
            "La ligne spécifiée n'existe pas dans le DataFrame.\n"
          ]
        }
      ]
    },
    {
      "cell_type": "code",
      "source": [
        "df.shape"
      ],
      "metadata": {
        "colab": {
          "base_uri": "https://localhost:8080/"
        },
        "id": "NnHiDBjnYe0b",
        "outputId": "f7e87464-973f-45c0-8c25-973609b1d610"
      },
      "execution_count": null,
      "outputs": [
        {
          "output_type": "execute_result",
          "data": {
            "text/plain": [
              "(3168, 21)"
            ]
          },
          "metadata": {},
          "execution_count": 40
        }
      ]
    },
    {
      "cell_type": "code",
      "source": [
        "#CNN\n",
        "import numpy as np\n",
        "from tensorflow import keras  # Ajoutez cette ligne pour importer le module keras\n",
        "# Supposons que vous avez de nouvelles données (features) sous forme de tableau NumPy\n",
        "new_data = valeurs_array\n",
        "#new_data= np.array([0.119977, 0.081471, 0.109892, 0.060215, 0.192688, 0.132473, 22.400866, 560.122789, 0.854878, 0.505371, 0.0, 0.119977, 0.081201, 0.015795, 0.262295, 0.007812, 0.007812, 0.007812, 0.0, 0.0])\n",
        "new_data = new_data.reshape(1, -1)\n",
        "\n",
        "\n",
        "# Charger le modèle préalablement entraîné\n",
        "loaded_model = keras.models.load_model('/content/GoogleDrive/CNN')\n",
        "\n",
        "# Prétraitement des nouvelles données\n",
        "new_data = scaler.transform(new_data)\n",
        "new_data = new_data.reshape((new_data.shape[0], new_data.shape[1], 1))\n",
        "\n",
        "# Faire des prédictions sur les nouvelles données\n",
        "predictions = loaded_model.predict(new_data)\n",
        "\n",
        "# Les prédictions seront des valeurs continues entre 0 et 1\n",
        "# Seuiller les prédictions pour obtenir des prédictions binaires\n",
        "binary_predictions = (predictions > 0.5).astype(int)\n",
        "\n",
        "# Afficher les prédictions\n",
        "if (binary_predictions[0] == 0).any():\n",
        "   print(\"Prédiction : Male\")\n",
        "else:\n",
        "    print(\"Prédiction : FeMale\")\n",
        "    x=\"male\""
      ],
      "metadata": {
        "colab": {
          "base_uri": "https://localhost:8080/"
        },
        "id": "ft1j20Iq6-dh",
        "outputId": "10c56026-1066-4f3e-f840-ccded27869b9"
      },
      "execution_count": null,
      "outputs": [
        {
          "output_type": "stream",
          "name": "stdout",
          "text": [
            "1/1 [==============================] - 0s 86ms/step\n",
            "Prédiction : FeMale\n"
          ]
        },
        {
          "output_type": "stream",
          "name": "stderr",
          "text": [
            "/usr/local/lib/python3.10/dist-packages/sklearn/base.py:439: UserWarning: X does not have valid feature names, but StandardScaler was fitted with feature names\n",
            "  warnings.warn(\n"
          ]
        }
      ]
    },
    {
      "cell_type": "code",
      "source": [
        "import numpy as np\n",
        "from tensorflow import keras  # Ajoutez cette ligne pour importer le module keras\n",
        "# Supposons que vous avez de nouvelles données (features) sous forme de tableau NumPy\n",
        "new_data = valeurs_array\n",
        "#new_data= np.array([0.119977, 0.081471, 0.109892, 0.060215, 0.192688, 0.132473, 22.400866, 560.122789, 0.854878, 0.505371, 0.0, 0.119977, 0.081201, 0.015795, 0.262295, 0.007812, 0.007812, 0.007812, 0.0, 0.0])\n",
        "\n",
        "new_data = new_data.reshape(1, -1)\n",
        "# Charger le modèle préalablement entraîné\n",
        "loaded_model = keras.models.load_model('/content/GoogleDrive/LSTM')\n",
        "\n",
        "# Prétraitement des nouvelles données\n",
        "new_data = scaler.transform(new_data)\n",
        "new_data = new_data.reshape((new_data.shape[0], new_data.shape[1], 1))\n",
        "\n",
        "# Faire des prédictions sur les nouvelles données\n",
        "predictions = loaded_model.predict(new_data)\n",
        "\n",
        "# Les prédictions seront des valeurs continues entre 0 et 1\n",
        "# Seuiller les prédictions pour obtenir des prédictions binaires\n",
        "binary_predictions = (predictions > 0.5).astype(int)\n",
        "# Afficher les prédictions\n",
        "if binary_predictions[0] == 0:\n",
        "     print(\"Prédiction : male\")\n",
        "else:\n",
        "    print(\"Prédiction : feMale\")\n"
      ],
      "metadata": {
        "colab": {
          "base_uri": "https://localhost:8080/"
        },
        "id": "KpmbOUfq7CJp",
        "outputId": "8178f585-27d3-4a3b-ee62-5db4d3319cad"
      },
      "execution_count": null,
      "outputs": [
        {
          "output_type": "stream",
          "name": "stderr",
          "text": [
            "/usr/local/lib/python3.10/dist-packages/sklearn/base.py:439: UserWarning: X does not have valid feature names, but StandardScaler was fitted with feature names\n",
            "  warnings.warn(\n"
          ]
        },
        {
          "output_type": "stream",
          "name": "stdout",
          "text": [
            "1/1 [==============================] - 0s 431ms/step\n",
            "Prédiction : male\n"
          ]
        }
      ]
    },
    {
      "cell_type": "code",
      "source": [
        "\n",
        "import numpy as np\n",
        "from sklearn.svm import SVC\n",
        "from sklearn.preprocessing import StandardScaler\n",
        "import joblib\n",
        "\n",
        "# Supposons que vous avez de nouvelles données sous forme de tableau NumPy\n",
        "new_data = valeurs_array\n",
        "#new_data= np.array([0.119977, 0.081471, 0.109892, 0.060215, 0.192688, 0.132473, 22.400866, 560.122789, 0.854878, 0.505371, 0.0, 0.119977, 0.081201, 0.015795, 0.262295, 0.007812, 0.007812, 0.007812, 0.0, 0.0])\n",
        "\n",
        "new_data = new_data.reshape(1, -1)\n",
        "# Charger le modèle préalablement entraîné\n",
        "loaded_model = joblib.load('/content/GoogleDrive/svm_model.joblib')\n",
        "\n",
        "# Charger les paramètres du scaler\n",
        "scaler_params = joblib.load('/content/GoogleDrive/scaler_params.joblib')\n",
        "\n",
        "# Initialiser le scaler avec les paramètres\n",
        "scaler = StandardScaler()\n",
        "scaler.mean_ = scaler_params['mean']\n",
        "scaler.scale_ = scaler_params['scale']\n",
        "\n",
        "# Prétraitement des nouvelles données\n",
        "new_data_scaled = scaler.transform(new_data)\n",
        "\n",
        "# Faire des prédictions sur les nouvelles données\n",
        "predictions = loaded_model.predict(new_data_scaled)\n",
        "\n",
        "# Afficher les prédictions\n",
        "if predictions[0] == 0:\n",
        "     print(\"Prédiction : male\")\n",
        "else:\n",
        "    print(\"Prédiction : feMale\")\n"
      ],
      "metadata": {
        "colab": {
          "base_uri": "https://localhost:8080/"
        },
        "id": "M8GD9lhZ7RfO",
        "outputId": "5d66376f-127c-495e-a1c8-acab00e7b057"
      },
      "execution_count": null,
      "outputs": [
        {
          "output_type": "stream",
          "name": "stdout",
          "text": [
            "Prédiction : male\n"
          ]
        }
      ]
    },
    {
      "cell_type": "code",
      "source": [
        "import numpy as np\n",
        "from tensorflow import keras  # Ajoutez cette ligne pour importer le module keras\n",
        "# Supposons que vous avez de nouvelles données (features) sous forme de tableau NumPy\n",
        "new_data = valeurs_array\n",
        "#new_data= np.array([0.119977, 0.081471, 0.109892, 0.060215, 0.192688, 0.132473, 22.400866, 560.122789, 0.854878, 0.505371, 0.0, 0.119977, 0.081201, 0.015795, 0.262295, 0.007812, 0.007812, 0.007812, 0.0, 0.0])\n",
        "\n",
        "new_data = new_data.reshape(1, -1)\n",
        "# Charger le modèle préalablement entraîné\n",
        "loaded_model = keras.models.load_model('/content/GoogleDrive/DNN')\n",
        "\n",
        "# Prétraitement des nouvelles données\n",
        "new_data = scaler.transform(new_data)\n",
        "new_data = new_data.reshape((new_data.shape[0], new_data.shape[1], 1))\n",
        "\n",
        "# Faire des prédictions sur les nouvelles données\n",
        "predictions = loaded_model.predict(new_data)\n",
        "\n",
        "# Les prédictions seront des valeurs continues entre 0 et 1\n",
        "# Seuiller les prédictions pour obtenir des prédictions binaires\n",
        "binary_predictions = (predictions > 0.5).astype(int)\n",
        "\n",
        "# Afficher les prédictions\n",
        "if binary_predictions[0] == 0:\n",
        "     print(\"Prédiction : male\")\n",
        "else:\n",
        "    print(\"Prédiction : feMale\")"
      ],
      "metadata": {
        "colab": {
          "base_uri": "https://localhost:8080/"
        },
        "id": "jvfhnjFA7lVt",
        "outputId": "24fe61ce-27b7-457f-be63-b3b92d5df59f"
      },
      "execution_count": null,
      "outputs": [
        {
          "output_type": "stream",
          "name": "stdout",
          "text": [
            "1/1 [==============================] - 0s 59ms/step\n",
            "Prédiction : feMale\n"
          ]
        }
      ]
    },
    {
      "cell_type": "code",
      "source": [
        "import numpy as np\n",
        "from tensorflow import keras  # Ajoutez cette ligne pour importer le module keras\n",
        "# Supposons que vous avez de nouvelles données (features) sous forme de tableau NumPy\n",
        "new_data = valeurs_array\n",
        "#new_data= np.array([0.119977, 0.081471, 0.109892, 0.060215, 0.192688, 0.132473, 22.400866, 560.122789, 0.854878, 0.505371, 0.0, 0.119977, 0.081201, 0.015795, 0.262295, 0.007812, 0.007812, 0.007812, 0.0, 0.0])\n",
        "\n",
        "new_data = new_data.reshape(1, -1)\n",
        "# Charger le modèle préalablement entraîné\n",
        "loaded_model = keras.models.load_model('/content/GoogleDrive/FA')\n",
        "\n",
        "# Prétraitement des nouvelles données\n",
        "new_data = scaler.transform(new_data)\n",
        "new_data = new_data.reshape((new_data.shape[0], new_data.shape[1], 1))\n",
        "\n",
        "# Faire des prédictions sur les nouvelles données\n",
        "predictions = loaded_model.predict(new_data)\n",
        "\n",
        "# Les prédictions seront des valeurs continues entre 0 et 1\n",
        "# Seuiller les prédictions pour obtenir des prédictions binaires\n",
        "binary_predictions = (predictions > 0.5).astype(int)\n",
        "\n",
        "# Afficher les prédictions\n",
        "if binary_predictions[0] == 0:\n",
        "     print(\"Prédiction : male\")\n",
        "else:\n",
        "    print(\"Prédiction : female\")\n"
      ],
      "metadata": {
        "colab": {
          "base_uri": "https://localhost:8080/"
        },
        "id": "IOfXx8Y97nrZ",
        "outputId": "c2cd650a-5817-4a1f-abf5-5d62f38a218d"
      },
      "execution_count": null,
      "outputs": [
        {
          "output_type": "stream",
          "name": "stderr",
          "text": [
            "WARNING:tensorflow:5 out of the last 104 calls to <function Model.make_predict_function.<locals>.predict_function at 0x7d4c3a86dd80> triggered tf.function retracing. Tracing is expensive and the excessive number of tracings could be due to (1) creating @tf.function repeatedly in a loop, (2) passing tensors with different shapes, (3) passing Python objects instead of tensors. For (1), please define your @tf.function outside of the loop. For (2), @tf.function has reduce_retracing=True option that can avoid unnecessary retracing. For (3), please refer to https://www.tensorflow.org/guide/function#controlling_retracing and https://www.tensorflow.org/api_docs/python/tf/function for  more details.\n"
          ]
        },
        {
          "output_type": "stream",
          "name": "stdout",
          "text": [
            "1/1 [==============================] - 0s 123ms/step\n",
            "Prédiction : female\n"
          ]
        }
      ]
    },
    {
      "cell_type": "code",
      "source": [
        "# Charger le modèle d'encodeur\n",
        "loaded_encoder = keras.models.load_model('/content/GoogleDrive/encoder_model', compile=False)\n",
        "\n",
        "# Nouvelles données\n",
        "new_data = valeurs_array\n",
        "#new_data= np.array([0.119977, 0.081471, 0.109892, 0.060215, 0.192688, 0.132473, 22.400866, 560.122789, 0.854878, 0.505371, 0.0, 0.119977, 0.081201, 0.015795, 0.262295, 0.007812, 0.007812, 0.007812, 0.0, 0.0])\n",
        "\n",
        "new_data = new_data.reshape(1, -1)\n",
        "# Utiliser le modèle d'encodeur pour faire des prédictions\n",
        "predictions = loaded_encoder.predict(new_data)\n",
        "\n",
        "# Les prédictions seront des valeurs continues entre 0 et 1\n",
        "# Seuiller les prédictions pour obtenir des prédictions binaires\n",
        "binary_predictions = (predictions > 0.5).astype(int)\n",
        "# Afficher les prédictions\n",
        "if (binary_predictions == 0).any():\n",
        "   print(\"Prédiction : MALE\")\n",
        "else:\n",
        "    print(\"Prédiction : feMALE\")\n",
        "\n"
      ],
      "metadata": {
        "colab": {
          "base_uri": "https://localhost:8080/"
        },
        "id": "tEKwo4R_7ygQ",
        "outputId": "2cd733e4-0c2d-4d21-fb0e-bd79b8bcac44"
      },
      "execution_count": null,
      "outputs": [
        {
          "output_type": "stream",
          "name": "stderr",
          "text": [
            "WARNING:tensorflow:6 out of the last 105 calls to <function Model.make_predict_function.<locals>.predict_function at 0x7d4cf66bff40> triggered tf.function retracing. Tracing is expensive and the excessive number of tracings could be due to (1) creating @tf.function repeatedly in a loop, (2) passing tensors with different shapes, (3) passing Python objects instead of tensors. For (1), please define your @tf.function outside of the loop. For (2), @tf.function has reduce_retracing=True option that can avoid unnecessary retracing. For (3), please refer to https://www.tensorflow.org/guide/function#controlling_retracing and https://www.tensorflow.org/api_docs/python/tf/function for  more details.\n"
          ]
        },
        {
          "output_type": "stream",
          "name": "stdout",
          "text": [
            "1/1 [==============================] - 0s 81ms/step\n",
            "Prédiction : MALE\n"
          ]
        }
      ]
    },
    {
      "cell_type": "code",
      "source": [
        "# Supposons que 'index_to_display' est l'indice de la ligne que vous souhaitez afficher\n",
        "index_to_display =100   # Remplacez par l'indice réel de la ligne que vous souhaitez afficher\n",
        "\n",
        "# Sélectionner la ligne par indice\n",
        "selected_row = df.iloc[index_to_display]\n",
        "\n",
        "# Afficher la ligne\n",
        "print(selected_row)\n"
      ],
      "metadata": {
        "colab": {
          "base_uri": "https://localhost:8080/"
        },
        "id": "epSGB-8s-gdC",
        "outputId": "4bf9bcc1-beee-4ca4-ea9e-9988c1f0a416"
      },
      "execution_count": null,
      "outputs": [
        {
          "output_type": "stream",
          "name": "stdout",
          "text": [
            "meanfreq      0.119977\n",
            "sd            0.081471\n",
            "median        0.109892\n",
            "Q25           0.060215\n",
            "Q75           0.192688\n",
            "IQR           0.132473\n",
            "skew         22.400866\n",
            "kurt        560.122789\n",
            "sp.ent        0.854878\n",
            "sfm           0.505371\n",
            "mode               0.0\n",
            "centroid      0.119977\n",
            "meanfun       0.081201\n",
            "minfun        0.015795\n",
            "maxfun        0.262295\n",
            "meandom       0.007812\n",
            "mindom        0.007812\n",
            "maxdom        0.007812\n",
            "dfrange            0.0\n",
            "modindx            0.0\n",
            "label             male\n",
            "Name: 100, dtype: object\n"
          ]
        }
      ]
    },
    {
      "cell_type": "code",
      "source": [
        "# CNN\n",
        "!pip install pydub gtts\n",
        "!apt-get install -y ffmpeg\n",
        "!pip install pydub\n",
        "from IPython.display import Audio\n",
        "from pydub import AudioSegment\n",
        "from pydub.playback import play\n",
        "from gtts import gTTS\n",
        "import pandas as pd\n",
        "import pygame\n",
        "import os\n",
        "from google.colab import files\n",
        "import numpy as np\n",
        "from sklearn.model_selection import train_test_split\n",
        "from sklearn.ensemble import RandomForestClassifier\n",
        "from sklearn.metrics import accuracy_score\n",
        "\n",
        "# Supposons que X contient les caractéristiques extraites de votre base de données et y contient les étiquettes correspondantes\n",
        "# Supposons que df contient vos données, où les colonnes sont les caractéristiques et la dernière colonne est l'étiquette\n",
        "X = df.drop(columns=['label'])  # Sélectionnez toutes les colonnes sauf la colonne 'label'\n",
        "y = df['label']  # Sélectionnez la colonne 'label' comme étiquette\n",
        "\n",
        "# Divisez les données en ensembles d'entraînement et de test\n",
        "X_train, X_test, y_train, y_test = train_test_split(X, y, test_size=0.2, random_state=42)\n",
        "\n",
        "# Initialisez un modèle de forêt aléatoire (Random Forest)\n",
        "model = RandomForestClassifier(n_estimators=100, random_state=42)\n",
        "\n",
        "# Entraînez le modèle sur l'ensemble d'entraînement\n",
        "model.fit(X_train, y_train)\n",
        "\n",
        "# Faites des prédictions sur l'ensemble de test\n",
        "predictions = model.predict(X_test)\n",
        "\n",
        "# Évaluez les performances du modèle\n",
        "accuracy = accuracy_score(y_test, predictions)\n",
        "print(\"Accuracy:\", accuracy)\n",
        "\n",
        "# Maintenant, vous pouvez utiliser ce modèle pour classifier de nouvelles voix\n",
        "nouvelles_caracteristiques = valeurs_array.tolist() # Extrayez les caractéristiques de la nouvelle voix\n",
        "nouvelle_prediction = model.predict([nouvelles_caracteristiques])\n",
        "\n",
        "if nouvelle_prediction == 1:  # Supposons que 1 indique que la voix appartient à la base de données\n",
        "    print(\"La voix appartient à la base de données.\")\n",
        "    welcome_message = \"Welcome!\"\n",
        "    print(\"Playing welcome message...\")\n",
        "    tts = gTTS(welcome_message)\n",
        "    tts.save(\"/content/welcome_message.mp3\")  # Assurez-vous de sauvegarder dans /content/\n",
        "    display(Audio(\"/content/welcome_message.mp3\", autoplay=True))\n",
        "    print(\"Welcome message played.\")\n",
        "else:\n",
        "    print(\"La voix n'appartient pas à la base de données.\")\n",
        "    outsider_message = \"You are an outsider!\"\n",
        "    print(\"Playing outsider message...\")\n",
        "    tts = gTTS(outsider_message)\n",
        "    tts.save(\"/content/outsider_message.mp3\")  # Assurez-vous de sauvegarder dans /content/\n",
        "    display(Audio(\"/content/outsider_message.mp3\", autoplay=True))\n",
        "    print(\"Outsider message played.\")\n"
      ],
      "metadata": {
        "colab": {
          "base_uri": "https://localhost:8080/",
          "height": 458
        },
        "id": "soi5_Nu6fzen",
        "outputId": "1c2c191a-000c-4566-fa36-7df9c9f71221"
      },
      "execution_count": 7,
      "outputs": [
        {
          "output_type": "stream",
          "name": "stdout",
          "text": [
            "Requirement already satisfied: pydub in /usr/local/lib/python3.10/dist-packages (0.25.1)\n",
            "Requirement already satisfied: gtts in /usr/local/lib/python3.10/dist-packages (2.5.1)\n",
            "Requirement already satisfied: requests<3,>=2.27 in /usr/local/lib/python3.10/dist-packages (from gtts) (2.31.0)\n",
            "Requirement already satisfied: click<8.2,>=7.1 in /usr/local/lib/python3.10/dist-packages (from gtts) (8.1.7)\n",
            "Requirement already satisfied: charset-normalizer<4,>=2 in /usr/local/lib/python3.10/dist-packages (from requests<3,>=2.27->gtts) (3.3.2)\n",
            "Requirement already satisfied: idna<4,>=2.5 in /usr/local/lib/python3.10/dist-packages (from requests<3,>=2.27->gtts) (3.6)\n",
            "Requirement already satisfied: urllib3<3,>=1.21.1 in /usr/local/lib/python3.10/dist-packages (from requests<3,>=2.27->gtts) (2.0.7)\n",
            "Requirement already satisfied: certifi>=2017.4.17 in /usr/local/lib/python3.10/dist-packages (from requests<3,>=2.27->gtts) (2024.2.2)\n",
            "Reading package lists... Done\n",
            "Building dependency tree... Done\n",
            "Reading state information... Done\n",
            "ffmpeg is already the newest version (7:4.4.2-0ubuntu0.22.04.1).\n",
            "0 upgraded, 0 newly installed, 0 to remove and 45 not upgraded.\n",
            "Requirement already satisfied: pydub in /usr/local/lib/python3.10/dist-packages (0.25.1)\n",
            "Accuracy: 0.9842271293375394\n",
            "La voix n'appartient pas à la base de données.\n",
            "Playing outsider message...\n"
          ]
        },
        {
          "output_type": "stream",
          "name": "stderr",
          "text": [
            "/usr/local/lib/python3.10/dist-packages/sklearn/base.py:439: UserWarning: X does not have valid feature names, but RandomForestClassifier was fitted with feature names\n",
            "  warnings.warn(\n"
          ]
        },
        {
          "output_type": "display_data",
          "data": {
            "text/plain": [
              "<IPython.lib.display.Audio object>"
            ],
            "text/html": [
              "\n",
              "                <audio  controls=\"controls\" autoplay=\"autoplay\">\n",
              "                    <source src=\"data:audio/mpeg;base64,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\" type=\"audio/mpeg\" />\n",
              "                    Your browser does not support the audio element.\n",
              "                </audio>\n",
              "              "
            ]
          },
          "metadata": {}
        },
        {
          "output_type": "stream",
          "name": "stdout",
          "text": [
            "Outsider message played.\n"
          ]
        }
      ]
    },
    {
      "cell_type": "code",
      "source": [
        "from flask_ngrok import run_with_ngrok\n",
        "from flask import Flask\n",
        "\n",
        "app = Flask(__name__)\n",
        "run_with_ngrok(app)  # Initialisez ngrok avec votre application Flask\n",
        "\n",
        "@app.route('/')\n",
        "def index():\n",
        "    return 'Bienvenue sur votre application Flask !'\n",
        "\n",
        "if __name__ == '__main__':\n",
        "    app.run()  # Laissez Flask choisir un port disponible\n"
      ],
      "metadata": {
        "colab": {
          "base_uri": "https://localhost:8080/"
        },
        "id": "HVMn5y-egK2o",
        "outputId": "7c176327-090d-4bdd-fe2f-b562c4342b3b"
      },
      "execution_count": 14,
      "outputs": [
        {
          "output_type": "stream",
          "name": "stdout",
          "text": [
            " * Serving Flask app '__main__'\n",
            " * Debug mode: off\n"
          ]
        },
        {
          "output_type": "stream",
          "name": "stderr",
          "text": [
            "INFO:werkzeug:\u001b[31m\u001b[1mWARNING: This is a development server. Do not use it in a production deployment. Use a production WSGI server instead.\u001b[0m\n",
            " * Running on http://127.0.0.1:5000\n",
            "INFO:werkzeug:\u001b[33mPress CTRL+C to quit\u001b[0m\n",
            "Exception in thread Thread-12:\n",
            "Traceback (most recent call last):\n",
            "  File \"/usr/local/lib/python3.10/dist-packages/urllib3/connection.py\", line 203, in _new_conn\n",
            "    sock = connection.create_connection(\n",
            "  File \"/usr/local/lib/python3.10/dist-packages/urllib3/util/connection.py\", line 85, in create_connection\n",
            "    raise err\n",
            "  File \"/usr/local/lib/python3.10/dist-packages/urllib3/util/connection.py\", line 73, in create_connection\n",
            "    sock.connect(sa)\n",
            "ConnectionRefusedError: [Errno 111] Connection refused\n",
            "\n",
            "The above exception was the direct cause of the following exception:\n",
            "\n",
            "Traceback (most recent call last):\n",
            "  File \"/usr/local/lib/python3.10/dist-packages/urllib3/connectionpool.py\", line 791, in urlopen\n",
            "    response = self._make_request(\n",
            "  File \"/usr/local/lib/python3.10/dist-packages/urllib3/connectionpool.py\", line 497, in _make_request\n",
            "    conn.request(\n",
            "  File \"/usr/local/lib/python3.10/dist-packages/urllib3/connection.py\", line 395, in request\n",
            "    self.endheaders()\n",
            "  File \"/usr/lib/python3.10/http/client.py\", line 1278, in endheaders\n",
            "    self._send_output(message_body, encode_chunked=encode_chunked)\n",
            "  File \"/usr/lib/python3.10/http/client.py\", line 1038, in _send_output\n",
            "    self.send(msg)\n",
            "  File \"/usr/lib/python3.10/http/client.py\", line 976, in send\n",
            "    self.connect()\n",
            "  File \"/usr/local/lib/python3.10/dist-packages/urllib3/connection.py\", line 243, in connect\n",
            "    self.sock = self._new_conn()\n",
            "  File \"/usr/local/lib/python3.10/dist-packages/urllib3/connection.py\", line 218, in _new_conn\n",
            "    raise NewConnectionError(\n",
            "urllib3.exceptions.NewConnectionError: <urllib3.connection.HTTPConnection object at 0x799008f4d630>: Failed to establish a new connection: [Errno 111] Connection refused\n",
            "\n",
            "The above exception was the direct cause of the following exception:\n",
            "\n",
            "Traceback (most recent call last):\n",
            "  File \"/usr/local/lib/python3.10/dist-packages/requests/adapters.py\", line 486, in send\n",
            "    resp = conn.urlopen(\n",
            "  File \"/usr/local/lib/python3.10/dist-packages/urllib3/connectionpool.py\", line 845, in urlopen\n",
            "    retries = retries.increment(\n",
            "  File \"/usr/local/lib/python3.10/dist-packages/urllib3/util/retry.py\", line 515, in increment\n",
            "    raise MaxRetryError(_pool, url, reason) from reason  # type: ignore[arg-type]\n",
            "urllib3.exceptions.MaxRetryError: HTTPConnectionPool(host='localhost', port=4040): Max retries exceeded with url: /api/tunnels (Caused by NewConnectionError('<urllib3.connection.HTTPConnection object at 0x799008f4d630>: Failed to establish a new connection: [Errno 111] Connection refused'))\n",
            "\n",
            "During handling of the above exception, another exception occurred:\n",
            "\n",
            "Traceback (most recent call last):\n",
            "  File \"/usr/lib/python3.10/threading.py\", line 1016, in _bootstrap_inner\n",
            "    self.run()\n",
            "  File \"/usr/lib/python3.10/threading.py\", line 1378, in run\n",
            "    self.function(*self.args, **self.kwargs)\n",
            "  File \"/usr/local/lib/python3.10/dist-packages/flask_ngrok.py\", line 70, in start_ngrok\n",
            "    ngrok_address = _run_ngrok()\n",
            "  File \"/usr/local/lib/python3.10/dist-packages/flask_ngrok.py\", line 35, in _run_ngrok\n",
            "    tunnel_url = requests.get(localhost_url).text  # Get the tunnel information\n",
            "  File \"/usr/local/lib/python3.10/dist-packages/requests/api.py\", line 73, in get\n",
            "    return request(\"get\", url, params=params, **kwargs)\n",
            "  File \"/usr/local/lib/python3.10/dist-packages/requests/api.py\", line 59, in request\n",
            "    return session.request(method=method, url=url, **kwargs)\n",
            "  File \"/usr/local/lib/python3.10/dist-packages/requests/sessions.py\", line 589, in request\n",
            "    resp = self.send(prep, **send_kwargs)\n",
            "  File \"/usr/local/lib/python3.10/dist-packages/requests/sessions.py\", line 703, in send\n",
            "    r = adapter.send(request, **kwargs)\n",
            "  File \"/usr/local/lib/python3.10/dist-packages/requests/adapters.py\", line 519, in send\n",
            "    raise ConnectionError(e, request=request)\n",
            "requests.exceptions.ConnectionError: HTTPConnectionPool(host='localhost', port=4040): Max retries exceeded with url: /api/tunnels (Caused by NewConnectionError('<urllib3.connection.HTTPConnection object at 0x799008f4d630>: Failed to establish a new connection: [Errno 111] Connection refused'))\n"
          ]
        }
      ]
    }
  ]
}